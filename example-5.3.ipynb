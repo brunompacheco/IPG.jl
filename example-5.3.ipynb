{
 "cells": [
  {
   "cell_type": "code",
   "execution_count": 1,
   "metadata": {},
   "outputs": [],
   "source": [
    "using JuMP, Gurobi, IPG"
   ]
  },
  {
   "cell_type": "code",
   "execution_count": 2,
   "metadata": {},
   "outputs": [],
   "source": [
    "n = m = 2\n",
    "\n",
    "X = [Strategies(-1, 0, 0), Strategies(-1, 0, 0)]\n",
    "Π = [QuadraticPayoff(0, [2, 1]), QuadraticPayoff(0, [1, 2])]\n",
    ";"
   ]
  },
  {
   "cell_type": "code",
   "execution_count": 3,
   "metadata": {},
   "outputs": [
    {
     "data": {
      "text/plain": [
       "0.0"
      ]
     },
     "metadata": {},
     "output_type": "display_data"
    }
   ],
   "source": [
    "x = [[0],[0]]\n",
    "payoff(Π, x, 1)"
   ]
  },
  {
   "cell_type": "markdown",
   "metadata": {},
   "source": [
    "# Step 1: Initialization\n",
    "\n",
    "Compute one pure strategy for each player. Build sampled normal-form game."
   ]
  },
  {
   "cell_type": "code",
   "execution_count": 4,
   "metadata": {},
   "outputs": [
    {
     "name": "stdout",
     "output_type": "stream",
     "text": [
      "Set parameter WLSAccessID\n",
      "Set parameter WLSSecret\n",
      "Set parameter LicenseID to value 2562957\n",
      "Academic license 2562957 - for non-commercial use only - registered to br___@umontreal.ca\n",
      "Set parameter WLSAccessID\n",
      "Set parameter WLSSecret\n",
      "Set parameter LicenseID to value 2562957\n",
      "Academic license 2562957 - for non-commercial use only - registered to br___@umontreal.ca\n"
     ]
    },
    {
     "data": {
      "text/plain": [
       "2-element Vector{Vector{Float64}}:\n",
       " [0.0]\n",
       " [0.0]"
      ]
     },
     "metadata": {},
     "output_type": "display_data"
    }
   ],
   "source": [
    "function find_feasible_pure_strategy(Xp::Strategies, Πp::QuadraticPayoff)\n",
    "    Ap, bp, Bp = Xp.Ap, Xp.bp, Xp.Bp\n",
    "\n",
    "    # Create a new model to solve the feasibility problem\n",
    "    m = Model(Gurobi.Optimizer)\n",
    "    @variable(m, xp[1:np(Xp)])\n",
    "    for i in 1:Bp  # TODO: there's probably a cleaner way to do this\n",
    "        set_binary(xp[i])\n",
    "    end\n",
    "    @constraint(m, Ap * xp <= bp)\n",
    "    @objective(m, Min, 0)  # Feasibility!\n",
    "\n",
    "    set_silent(m)\n",
    "    optimize!(m)\n",
    "\n",
    "    return value.(xp)\n",
    "end\n",
    "\n",
    "function find_feasible_pure_profile(X::Vector{Strategies}, Π::Vector{QuadraticPayoff})\n",
    "    return [find_feasible_pure_strategy(Xp, Πp) for (Xp, Πp) in zip(X, Π)]\n",
    "end\n",
    "\n",
    "x = find_feasible_pure_profile(X, Π)"
   ]
  },
  {
   "cell_type": "code",
   "execution_count": 5,
   "metadata": {},
   "outputs": [
    {
     "data": {
      "text/plain": [
       "2-element Vector{Vector{Float64}}:\n",
       " [10.0]\n",
       " [10.0]"
      ]
     },
     "metadata": {},
     "output_type": "display_data"
    }
   ],
   "source": [
    "x[1][1] = 10\n",
    "x[2][1] = 10\n",
    "x"
   ]
  },
  {
   "cell_type": "code",
   "execution_count": 6,
   "metadata": {},
   "outputs": [],
   "source": [
    "# sample of strategies\n",
    "S_X = [Vector{Vector{Float64}}() for p in 1:m]\n",
    "# S_X[p,j,i] is the i-th dimension of the j-th strategy of player p\n",
    "\n",
    "for p in 1:m\n",
    "    # add to sample the new strategy\n",
    "    push!(S_X[p], x[p])\n",
    "end"
   ]
  },
  {
   "cell_type": "code",
   "execution_count": 7,
   "metadata": {},
   "outputs": [],
   "source": [
    "# for p in 1:m\n",
    "#     # add to sample the new strategy\n",
    "#     push!(S_X[p], [1.0])\n",
    "# end"
   ]
  },
  {
   "cell_type": "markdown",
   "metadata": {},
   "source": [
    "# Step 2: Solve sampled game\n",
    "\n",
    "Compute a solution to the normal-form game with the sampled strategies."
   ]
  },
  {
   "cell_type": "code",
   "execution_count": 8,
   "metadata": {},
   "outputs": [],
   "source": [
    "# TODO: making the polymatrix with \"self-produced utilities\" breaks the algorithms in \n",
    "# NormalGames. I don't know why this is, but it is mentioned that they assume so in a\n",
    "# comment of function `GenerateGame`.\n",
    "\n",
    "# function get_polymatrix(S_X::Vector{<:Vector{<:Vector{<:Real}}}, Π::Vector{QuadraticPayoff})\n",
    "#     m = length(S_X)\n",
    "\n",
    "#     dims = [length(S_X[p]) for p in 1:m]\n",
    "\n",
    "#     polymatrix = Dict{Tuple{Integer, Integer}, Matrix{Float64}}()\n",
    "\n",
    "#     # compute utility of each player `p` using strategy `i_p` against player `k` using strategy `i_k`\n",
    "#     for p in 1:m\n",
    "#         for k in 1:m\n",
    "#             polymatrix[p,k] = zeros(length(S_X[p]), length(S_X[k]))\n",
    "\n",
    "#             if k == p  # fills only the diagonal\n",
    "#                 # TODO: this could be optimized by storing just the diagonal as well\n",
    "#                 for i_p in 1:length(S_X[p])\n",
    "#                     polymatrix[p,p][i_p,i_p] = IPG.bilateral_payoff(Π[p], p, S_X[p][i_p], p, S_X[p][i_p])\n",
    "#                 end\n",
    "#             else\n",
    "#                 for i_p in 1:length(S_X[p])\n",
    "#                     for i_k in 1:length(S_X[k])\n",
    "#                         polymatrix[p,k][i_p,i_k] = IPG.bilateral_payoff(Π[p], p, S_X[p][i_p], k, S_X[k][i_k])\n",
    "#                     end\n",
    "#                 end\n",
    "#             end\n",
    "#         end\n",
    "#     end\n",
    "\n",
    "#     return polymatrix\n",
    "# end\n",
    "\n",
    "# polymatrix = get_polymatrix(S_X, Π)"
   ]
  },
  {
   "cell_type": "code",
   "execution_count": 83,
   "metadata": {},
   "outputs": [
    {
     "data": {
      "text/plain": [
       "Dict{Tuple{Integer, Integer}, Matrix{Float64}} with 4 entries:\n",
       "  (1, 2) => [0.0 -75.0 -93.75; 25.0 -12.5 -21.875; 10.9375 1.5625 -0.78125]\n",
       "  (1, 1) => [0.0 0.0 0.0; 0.0 0.0 0.0; 0.0 0.0 0.0]\n",
       "  (2, 2) => [0.0 0.0 0.0; 0.0 0.0 0.0; 0.0 0.0 0.0]\n",
       "  (2, 1) => [0.0 -50.0 -87.5; 18.75 6.25 -3.125; 5.85938 2.73438 0.390625]"
      ]
     },
     "metadata": {},
     "output_type": "display_data"
    }
   ],
   "source": [
    "function get_polymatrix(S_X::Vector{<:Vector{<:Vector{<:Real}}}, Π::Vector{QuadraticPayoff})\n",
    "    m = length(S_X)\n",
    "\n",
    "    dims = [length(S_X[p]) for p in 1:m]\n",
    "\n",
    "    polymatrix = Dict{Tuple{Integer, Integer}, Matrix{Float64}}()\n",
    "\n",
    "    # compute utility of each player `p` using strategy `i_p` against player `k` using strategy `i_k`\n",
    "    for p in 1:m\n",
    "        for k in 1:m\n",
    "            polymatrix[p,k] = zeros(length(S_X[p]), length(S_X[k]))\n",
    "\n",
    "            if k != p  # fills only the diagonal\n",
    "                for i_p in 1:length(S_X[p])\n",
    "                    for i_k in 1:length(S_X[k])\n",
    "                        polymatrix[p,k][i_p,i_k] = (\n",
    "                            IPG.bilateral_payoff(Π[p], p, S_X[p][i_p], k, S_X[k][i_k])\n",
    "                            + IPG.bilateral_payoff(Π[p], p, S_X[p][i_p], p, S_X[p][i_p])\n",
    "                        )\n",
    "                    end\n",
    "                end\n",
    "            end\n",
    "        end\n",
    "    end\n",
    "\n",
    "    return polymatrix\n",
    "end\n",
    "\n",
    "polymatrix = get_polymatrix(S_X, Π)"
   ]
  },
  {
   "cell_type": "code",
   "execution_count": 84,
   "metadata": {},
   "outputs": [
    {
     "data": {
      "text/plain": [
       "NormalGames.NormalGame(2, [3, 3], Dict((1, 2) => [0.0 -75.0 -93.75; 25.0 -12.5 -21.875; 10.9375 1.5625 -0.78125], (1, 1) => [0.0 0.0 0.0; 0.0 0.0 0.0; 0.0 0.0 0.0], (2, 2) => [0.0 0.0 0.0; 0.0 0.0 0.0; 0.0 0.0 0.0], (2, 1) => [0.0 -50.0 -87.5; 18.75 6.25 -3.125; 5.859375 2.734375 0.390625]))"
      ]
     },
     "metadata": {},
     "output_type": "display_data"
    }
   ],
   "source": [
    "using NormalGames\n",
    "\n",
    "G = NormalGames.NormalGame(m, length.(S_X), polymatrix)"
   ]
  },
  {
   "cell_type": "code",
   "execution_count": 85,
   "metadata": {},
   "outputs": [
    {
     "name": "stdout",
     "output_type": "stream",
     "text": [
      "Set parameter WLSAccessID\n",
      "Set parameter WLSSecret\n",
      "Set parameter LicenseID to value 2562957\n",
      "Academic license 2562957 - for non-commercial use only - registered to br___@umontreal.ca\n",
      "Set parameter WLSAccessID\n",
      "Set parameter WLSSecret\n",
      "Set parameter LicenseID to value 2562957\n",
      "Academic license 2562957 - for non-commercial use only - registered to br___@umontreal.ca\n",
      "Set parameter WLSAccessID\n",
      "Set parameter WLSSecret\n",
      "Set parameter LicenseID to value 2562957\n",
      "Academic license 2562957 - for non-commercial use only - registered to br___@umontreal.ca\n",
      "Set parameter WLSAccessID\n",
      "Set parameter WLSSecret\n",
      "Set parameter LicenseID to value 2562957\n",
      "Academic license 2562957 - for non-commercial use only - registered to br___@umontreal.ca\n",
      "Set parameter WLSAccessID\n",
      "Set parameter WLSSecret\n",
      "Set parameter LicenseID to value 2562957\n",
      "Academic license 2562957 - for non-commercial use only - registered to br___@umontreal.ca\n",
      "Set parameter WLSAccessID\n",
      "Set parameter WLSSecret\n",
      "Set parameter LicenseID to value 2562957\n",
      "Academic license 2562957 - for non-commercial use only - registered to br___@umontreal.ca\n",
      "Set parameter WLSAccessID\n",
      "Set parameter WLSSecret\n",
      "Set parameter LicenseID to value 2562957\n",
      "Academic license 2562957 - for non-commercial use only - registered to br___@umontreal.ca\n",
      "Set parameter WLSAccessID\n",
      "Set parameter WLSSecret\n",
      "Set parameter LicenseID to value 2562957\n",
      "Academic license 2562957 - for non-commercial use only - registered to br___@umontreal.ca\n",
      "Set parameter WLSAccessID\n",
      "Set parameter WLSSecret\n",
      "Set parameter LicenseID to value 2562957\n",
      "Academic license 2562957 - for non-commercial use only - registered to br___@umontreal.ca\n"
     ]
    },
    {
     "data": {
      "text/plain": [
       "2-element Vector{Vector{Float64}}:\n",
       " [0.0, 0.0, 1.0]\n",
       " [0.0, 0.0, 1.0]"
      ]
     },
     "metadata": {},
     "output_type": "display_data"
    }
   ],
   "source": [
    "t, NE_utilities, NE_mixed = NormalGames.NashEquilibriaPNS(G,false,false,false)\n",
    "# each element in NE_mixed is a mixed NE, represented as a vector of probabilities in the same shape as S_X\n",
    "\n",
    "NE_mixed = NE_mixed[1]  # take the first NE"
   ]
  },
  {
   "cell_type": "code",
   "execution_count": 86,
   "metadata": {},
   "outputs": [
    {
     "data": {
      "text/plain": [
       "2-element Vector{DiscreteMixedStrategy}:\n",
       " DiscreteMixedStrategy([1.0], [[1.25]])\n",
       " DiscreteMixedStrategy([1.0], [[0.625]])"
      ]
     },
     "metadata": {},
     "output_type": "display_data"
    }
   ],
   "source": [
    "σ = [IPG.DiscreteMixedStrategy(NE_mixed[p], S_X[p]) for p in 1:m]"
   ]
  },
  {
   "cell_type": "markdown",
   "metadata": {},
   "source": [
    "# Step 3: Termination\n",
    "\n",
    "Build a new strategy from the best reactions of each player.\n",
    "Check if the new strategy is $\\varepsilon$-close to the mixed NE."
   ]
  },
  {
   "cell_type": "code",
   "execution_count": 87,
   "metadata": {},
   "outputs": [
    {
     "name": "stdout",
     "output_type": "stream",
     "text": [
      "Set parameter WLSAccessID\n",
      "Set parameter WLSSecret\n",
      "Set parameter LicenseID to value 2562957\n",
      "Academic license 2562957 - for non-commercial use only - registered to br___@umontreal.ca\n"
     ]
    },
    {
     "data": {
      "text/plain": [
       "1-element Vector{Float64}:\n",
       " 0.3125"
      ]
     },
     "metadata": {},
     "output_type": "display_data"
    }
   ],
   "source": [
    "function deviation_reaction(Π::Vector{QuadraticPayoff}, X::Vector{Strategies}, p::Integer, σ::Vector{DiscreteMixedStrategy})\n",
    "    Πp = Π[p]\n",
    "    Xp = X[p]\n",
    "\n",
    "    model = Model(Gurobi.Optimizer)\n",
    "\n",
    "    # the length of the strategy must match the strategies in the support of the profile\n",
    "    @variable(model, xp[1:length(σ[p].supp[1])])\n",
    "\n",
    "    @constraint(model, Xp.Ap * xp <= Xp.bp)\n",
    "\n",
    "    # TODO: No idea why the following doesn't work\n",
    "    # @objective(model, Max, sum([IPG.bilateral_payoff(Πp, p, xp, k, σ[k]) for k in 1:m]))\n",
    "\n",
    "    obj = QuadExpr()\n",
    "    for k in 1:m\n",
    "        obj += IPG.bilateral_payoff(Πp, p, xp, k, σ[k])\n",
    "    end\n",
    "    @objective(model, Max, obj)\n",
    "\n",
    "    set_silent(model)\n",
    "    optimize!(model)\n",
    "\n",
    "    return value.(xp)\n",
    "end\n",
    "\n",
    "deviation_reaction(Π, X, 1, σ)"
   ]
  },
  {
   "cell_type": "code",
   "execution_count": 88,
   "metadata": {},
   "outputs": [
    {
     "name": "stdout",
     "output_type": "stream",
     "text": [
      "Set parameter WLSAccessID\n",
      "Set parameter WLSSecret\n",
      "Set parameter LicenseID to value 2562957\n",
      "Academic license 2562957 - for non-commercial use only - registered to br___@umontreal.ca\n"
     ]
    },
    {
     "data": {
      "text/plain": [
       "(1, [0.3125])"
      ]
     },
     "metadata": {},
     "output_type": "display_data"
    }
   ],
   "source": [
    "function termination(Π::Vector{QuadraticPayoff}, X::Vector{Strategies}, σ::Vector{DiscreteMixedStrategy})\n",
    "    for p in 1:m\n",
    "        new_x_p = deviation_reaction(Π, X, p, σ)\n",
    "\n",
    "        new_σ = copy(σ)\n",
    "        new_σ[p] = IPG.DiscreteMixedStrategy([1], [new_x_p])\n",
    "        if payoff(Π, σ, p) < payoff(Π, new_σ, p)\n",
    "            return p, new_x_p\n",
    "        end\n",
    "    end\n",
    "\n",
    "    return -1, nothing\n",
    "end\n",
    "\n",
    "p, xk = termination(Π, X, σ)"
   ]
  },
  {
   "cell_type": "markdown",
   "metadata": {},
   "source": [
    "# Step 4: Generation of next sampled game\n",
    "\n",
    "Add the newly found strategy for player $p$ to `S_X` (sampled game), and close the loop."
   ]
  },
  {
   "cell_type": "code",
   "execution_count": 89,
   "metadata": {},
   "outputs": [
    {
     "data": {
      "text/plain": [
       "4-element Vector{Vector{Float64}}:\n",
       " [10.0]\n",
       " [5.0]\n",
       " [1.25]\n",
       " [0.3125]"
      ]
     },
     "metadata": {},
     "output_type": "display_data"
    }
   ],
   "source": [
    "push!(S_X[p], xk)"
   ]
  },
  {
   "cell_type": "markdown",
   "metadata": {},
   "source": [
    "# Plots"
   ]
  },
  {
   "cell_type": "code",
   "execution_count": 16,
   "metadata": {},
   "outputs": [],
   "source": [
    "using Plots"
   ]
  },
  {
   "cell_type": "code",
   "execution_count": 90,
   "metadata": {},
   "outputs": [
    {
     "data": {
      "image/png": "[encoded data removed]",
      "image/svg+xml": [
       "<?xml version=\"1.0\" encoding=\"utf-8\"?>\n",
       "<svg xmlns=\"http://www.w3.org/2000/svg\" xmlns:xlink=\"http://www.w3.org/1999/xlink\" width=\"600\" height=\"400\" viewBox=\"0 0 2400 1600\">\n",
       "<defs>\n",
       "  <clipPath id=\"clip990\">\n",
       "    <rect x=\"0\" y=\"0\" width=\"2400\" height=\"1600\"/>\n",
       "  </clipPath>\n",
       "</defs>\n",
       "<path clip-path=\"url(#clip990)\" d=\"M0 1600 L2400 1600 L2400 0 L0 0  Z\" fill=\"#ffffff\" fill-rule=\"evenodd\" fill-opacity=\"1\"/>\n",
       "<defs>\n",
       "  <clipPath id=\"clip991\">\n",
       "    <rect x=\"480\" y=\"0\" width=\"1681\" height=\"1600\"/>\n",
       "  </clipPath>\n",
       "</defs>\n",
       "<path clip-path=\"url(#clip990)\" d=\"M247.459 1423.18 L2352.76 1423.18 L2352.76 123.472 L247.459 123.472  Z\" fill=\"#ffffff\" fill-rule=\"evenodd\" fill-opacity=\"1\"/>\n",
       "<defs>\n",
       "  <clipPath id=\"clip992\">\n",
       "    <rect x=\"247\" y=\"123\" width=\"2106\" height=\"1301\"/>\n",
       "  </clipPath>\n",
       "</defs>\n",
       "<polyline clip-path=\"url(#clip992)\" style=\"stroke:#000000; stroke-linecap:round; stroke-linejoin:round; stroke-width:2; stroke-opacity:0.1; fill:none\" points=\"247.459,1423.18 247.459,123.472 \"/>\n",
       "<polyline clip-path=\"url(#clip992)\" style=\"stroke:#000000; stroke-linecap:round; stroke-linejoin:round; stroke-width:2; stroke-opacity:0.1; fill:none\" points=\"763.463,1423.18 763.463,123.472 \"/>\n",
       "<polyline clip-path=\"url(#clip992)\" style=\"stroke:#000000; stroke-linecap:round; stroke-linejoin:round; stroke-width:2; stroke-opacity:0.1; fill:none\" points=\"1279.47,1423.18 1279.47,123.472 \"/>\n",
       "<polyline clip-path=\"url(#clip992)\" style=\"stroke:#000000; stroke-linecap:round; stroke-linejoin:round; stroke-width:2; stroke-opacity:0.1; fill:none\" points=\"1795.47,1423.18 1795.47,123.472 \"/>\n",
       "<polyline clip-path=\"url(#clip992)\" style=\"stroke:#000000; stroke-linecap:round; stroke-linejoin:round; stroke-width:2; stroke-opacity:0.1; fill:none\" points=\"2311.48,1423.18 2311.48,123.472 \"/>\n",
       "<polyline clip-path=\"url(#clip992)\" style=\"stroke:#000000; stroke-linecap:round; stroke-linejoin:round; stroke-width:2; stroke-opacity:0.1; fill:none\" points=\"247.459,1423.18 2352.76,1423.18 \"/>\n",
       "<polyline clip-path=\"url(#clip992)\" style=\"stroke:#000000; stroke-linecap:round; stroke-linejoin:round; stroke-width:2; stroke-opacity:0.1; fill:none\" points=\"247.459,1104.62 2352.76,1104.62 \"/>\n",
       "<polyline clip-path=\"url(#clip992)\" style=\"stroke:#000000; stroke-linecap:round; stroke-linejoin:round; stroke-width:2; stroke-opacity:0.1; fill:none\" points=\"247.459,786.068 2352.76,786.068 \"/>\n",
       "<polyline clip-path=\"url(#clip992)\" style=\"stroke:#000000; stroke-linecap:round; stroke-linejoin:round; stroke-width:2; stroke-opacity:0.1; fill:none\" points=\"247.459,467.512 2352.76,467.512 \"/>\n",
       "<polyline clip-path=\"url(#clip992)\" style=\"stroke:#000000; stroke-linecap:round; stroke-linejoin:round; stroke-width:2; stroke-opacity:0.1; fill:none\" points=\"247.459,148.957 2352.76,148.957 \"/>\n",
       "<polyline clip-path=\"url(#clip990)\" style=\"stroke:#000000; stroke-linecap:round; stroke-linejoin:round; stroke-width:4; stroke-opacity:1; fill:none\" points=\"247.459,1423.18 2352.76,1423.18 \"/>\n",
       "<polyline clip-path=\"url(#clip990)\" style=\"stroke:#000000; stroke-linecap:round; stroke-linejoin:round; stroke-width:4; stroke-opacity:1; fill:none\" points=\"247.459,1423.18 247.459,1404.28 \"/>\n",
       "<polyline clip-path=\"url(#clip990)\" style=\"stroke:#000000; stroke-linecap:round; stroke-linejoin:round; stroke-width:4; stroke-opacity:1; fill:none\" points=\"763.463,1423.18 763.463,1404.28 \"/>\n",
       "<polyline clip-path=\"url(#clip990)\" style=\"stroke:#000000; stroke-linecap:round; stroke-linejoin:round; stroke-width:4; stroke-opacity:1; fill:none\" points=\"1279.47,1423.18 1279.47,1404.28 \"/>\n",
       "<polyline clip-path=\"url(#clip990)\" style=\"stroke:#000000; stroke-linecap:round; stroke-linejoin:round; stroke-width:4; stroke-opacity:1; fill:none\" points=\"1795.47,1423.18 1795.47,1404.28 \"/>\n",
       "<polyline clip-path=\"url(#clip990)\" style=\"stroke:#000000; stroke-linecap:round; stroke-linejoin:round; stroke-width:4; stroke-opacity:1; fill:none\" points=\"2311.48,1423.18 2311.48,1404.28 \"/>\n",
       "<path clip-path=\"url(#clip990)\" d=\"M224.843 1454.1 Q221.232 1454.1 219.403 1457.66 Q217.598 1461.2 217.598 1468.33 Q217.598 1475.44 219.403 1479.01 Q221.232 1482.55 224.843 1482.55 Q228.477 1482.55 230.283 1479.01 Q232.112 1475.44 232.112 1468.33 Q232.112 1461.2 230.283 1457.66 Q228.477 1454.1 224.843 1454.1 M224.843 1450.39 Q230.653 1450.39 233.709 1455 Q236.787 1459.58 236.787 1468.33 Q236.787 1477.06 233.709 1481.67 Q230.653 1486.25 224.843 1486.25 Q219.033 1486.25 215.954 1481.67 Q212.899 1477.06 212.899 1468.33 Q212.899 1459.58 215.954 1455 Q219.033 1450.39 224.843 1450.39 Z\" fill=\"#000000\" fill-rule=\"nonzero\" fill-opacity=\"1\" /><path clip-path=\"url(#clip990)\" d=\"M245.005 1479.7 L249.889 1479.7 L249.889 1485.58 L245.005 1485.58 L245.005 1479.7 Z\" fill=\"#000000\" fill-rule=\"nonzero\" fill-opacity=\"1\" /><path clip-path=\"url(#clip990)\" d=\"M270.074 1454.1 Q266.463 1454.1 264.635 1457.66 Q262.829 1461.2 262.829 1468.33 Q262.829 1475.44 264.635 1479.01 Q266.463 1482.55 270.074 1482.55 Q273.709 1482.55 275.514 1479.01 Q277.343 1475.44 277.343 1468.33 Q277.343 1461.2 275.514 1457.66 Q273.709 1454.1 270.074 1454.1 M270.074 1450.39 Q275.884 1450.39 278.94 1455 Q282.019 1459.58 282.019 1468.33 Q282.019 1477.06 278.94 1481.67 Q275.884 1486.25 270.074 1486.25 Q264.264 1486.25 261.185 1481.67 Q258.13 1477.06 258.13 1468.33 Q258.13 1459.58 261.185 1455 Q264.264 1450.39 270.074 1450.39 Z\" fill=\"#000000\" fill-rule=\"nonzero\" fill-opacity=\"1\" /><path clip-path=\"url(#clip990)\" d=\"M735.199 1481.64 L751.519 1481.64 L751.519 1485.58 L729.574 1485.58 L729.574 1481.64 Q732.236 1478.89 736.82 1474.26 Q741.426 1469.61 742.607 1468.27 Q744.852 1465.74 745.732 1464.01 Q746.634 1462.25 746.634 1460.56 Q746.634 1457.8 744.69 1456.07 Q742.769 1454.33 739.667 1454.33 Q737.468 1454.33 735.014 1455.09 Q732.583 1455.86 729.806 1457.41 L729.806 1452.69 Q732.63 1451.55 735.083 1450.97 Q737.537 1450.39 739.574 1450.39 Q744.945 1450.39 748.139 1453.08 Q751.333 1455.77 751.333 1460.26 Q751.333 1462.39 750.523 1464.31 Q749.736 1466.2 747.63 1468.8 Q747.051 1469.47 743.949 1472.69 Q740.847 1475.88 735.199 1481.64 Z\" fill=\"#000000\" fill-rule=\"nonzero\" fill-opacity=\"1\" /><path clip-path=\"url(#clip990)\" d=\"M761.333 1479.7 L766.218 1479.7 L766.218 1485.58 L761.333 1485.58 L761.333 1479.7 Z\" fill=\"#000000\" fill-rule=\"nonzero\" fill-opacity=\"1\" /><path clip-path=\"url(#clip990)\" d=\"M776.449 1451.02 L794.805 1451.02 L794.805 1454.96 L780.731 1454.96 L780.731 1463.43 Q781.75 1463.08 782.768 1462.92 Q783.787 1462.73 784.805 1462.73 Q790.592 1462.73 793.972 1465.9 Q797.352 1469.08 797.352 1474.49 Q797.352 1480.07 793.879 1483.17 Q790.407 1486.25 784.088 1486.25 Q781.912 1486.25 779.643 1485.88 Q777.398 1485.51 774.991 1484.77 L774.991 1480.07 Q777.074 1481.2 779.296 1481.76 Q781.518 1482.32 783.995 1482.32 Q788 1482.32 790.338 1480.21 Q792.676 1478.1 792.676 1474.49 Q792.676 1470.88 790.338 1468.77 Q788 1466.67 783.995 1466.67 Q782.12 1466.67 780.245 1467.08 Q778.393 1467.5 776.449 1468.38 L776.449 1451.02 Z\" fill=\"#000000\" fill-rule=\"nonzero\" fill-opacity=\"1\" /><path clip-path=\"url(#clip990)\" d=\"M1246.63 1451.02 L1264.99 1451.02 L1264.99 1454.96 L1250.91 1454.96 L1250.91 1463.43 Q1251.93 1463.08 1252.95 1462.92 Q1253.97 1462.73 1254.99 1462.73 Q1260.78 1462.73 1264.15 1465.9 Q1267.53 1469.08 1267.53 1474.49 Q1267.53 1480.07 1264.06 1483.17 Q1260.59 1486.25 1254.27 1486.25 Q1252.09 1486.25 1249.83 1485.88 Q1247.58 1485.51 1245.17 1484.77 L1245.17 1480.07 Q1247.26 1481.2 1249.48 1481.76 Q1251.7 1482.32 1254.18 1482.32 Q1258.18 1482.32 1260.52 1480.21 Q1262.86 1478.1 1262.86 1474.49 Q1262.86 1470.88 1260.52 1468.77 Q1258.18 1466.67 1254.18 1466.67 Q1252.3 1466.67 1250.43 1467.08 Q1248.58 1467.5 1246.63 1468.38 L1246.63 1451.02 Z\" fill=\"#000000\" fill-rule=\"nonzero\" fill-opacity=\"1\" /><path clip-path=\"url(#clip990)\" d=\"M1276.75 1479.7 L1281.63 1479.7 L1281.63 1485.58 L1276.75 1485.58 L1276.75 1479.7 Z\" fill=\"#000000\" fill-rule=\"nonzero\" fill-opacity=\"1\" /><path clip-path=\"url(#clip990)\" d=\"M1301.82 1454.1 Q1298.21 1454.1 1296.38 1457.66 Q1294.57 1461.2 1294.57 1468.33 Q1294.57 1475.44 1296.38 1479.01 Q1298.21 1482.55 1301.82 1482.55 Q1305.45 1482.55 1307.26 1479.01 Q1309.09 1475.44 1309.09 1468.33 Q1309.09 1461.2 1307.26 1457.66 Q1305.45 1454.1 1301.82 1454.1 M1301.82 1450.39 Q1307.63 1450.39 1310.68 1455 Q1313.76 1459.58 1313.76 1468.33 Q1313.76 1477.06 1310.68 1481.67 Q1307.63 1486.25 1301.82 1486.25 Q1296.01 1486.25 1292.93 1481.67 Q1289.87 1477.06 1289.87 1468.33 Q1289.87 1459.58 1292.93 1455 Q1296.01 1450.39 1301.82 1450.39 Z\" fill=\"#000000\" fill-rule=\"nonzero\" fill-opacity=\"1\" /><path clip-path=\"url(#clip990)\" d=\"M1761.79 1451.02 L1784.01 1451.02 L1784.01 1453.01 L1771.47 1485.58 L1766.58 1485.58 L1778.39 1454.96 L1761.79 1454.96 L1761.79 1451.02 Z\" fill=\"#000000\" fill-rule=\"nonzero\" fill-opacity=\"1\" /><path clip-path=\"url(#clip990)\" d=\"M1793.13 1479.7 L1798.02 1479.7 L1798.02 1485.58 L1793.13 1485.58 L1793.13 1479.7 Z\" fill=\"#000000\" fill-rule=\"nonzero\" fill-opacity=\"1\" /><path clip-path=\"url(#clip990)\" d=\"M1808.25 1451.02 L1826.61 1451.02 L1826.61 1454.96 L1812.53 1454.96 L1812.53 1463.43 Q1813.55 1463.08 1814.57 1462.92 Q1815.59 1462.73 1816.61 1462.73 Q1822.39 1462.73 1825.77 1465.9 Q1829.15 1469.08 1829.15 1474.49 Q1829.15 1480.07 1825.68 1483.17 Q1822.21 1486.25 1815.89 1486.25 Q1813.71 1486.25 1811.44 1485.88 Q1809.2 1485.51 1806.79 1484.77 L1806.79 1480.07 Q1808.87 1481.2 1811.1 1481.76 Q1813.32 1482.32 1815.8 1482.32 Q1819.8 1482.32 1822.14 1480.21 Q1824.48 1478.1 1824.48 1474.49 Q1824.48 1470.88 1822.14 1468.77 Q1819.8 1466.67 1815.8 1466.67 Q1813.92 1466.67 1812.05 1467.08 Q1810.19 1467.5 1808.25 1468.38 L1808.25 1451.02 Z\" fill=\"#000000\" fill-rule=\"nonzero\" fill-opacity=\"1\" /><path clip-path=\"url(#clip990)\" d=\"M2263.55 1481.64 L2271.19 1481.64 L2271.19 1455.28 L2262.88 1456.95 L2262.88 1452.69 L2271.14 1451.02 L2275.82 1451.02 L2275.82 1481.64 L2283.45 1481.64 L2283.45 1485.58 L2263.55 1485.58 L2263.55 1481.64 Z\" fill=\"#000000\" fill-rule=\"nonzero\" fill-opacity=\"1\" /><path clip-path=\"url(#clip990)\" d=\"M2302.9 1454.1 Q2299.29 1454.1 2297.46 1457.66 Q2295.65 1461.2 2295.65 1468.33 Q2295.65 1475.44 2297.46 1479.01 Q2299.29 1482.55 2302.9 1482.55 Q2306.53 1482.55 2308.34 1479.01 Q2310.17 1475.44 2310.17 1468.33 Q2310.17 1461.2 2308.34 1457.66 Q2306.53 1454.1 2302.9 1454.1 M2302.9 1450.39 Q2308.71 1450.39 2311.76 1455 Q2314.84 1459.58 2314.84 1468.33 Q2314.84 1477.06 2311.76 1481.67 Q2308.71 1486.25 2302.9 1486.25 Q2297.09 1486.25 2294.01 1481.67 Q2290.95 1477.06 2290.95 1468.33 Q2290.95 1459.58 2294.01 1455 Q2297.09 1450.39 2302.9 1450.39 Z\" fill=\"#000000\" fill-rule=\"nonzero\" fill-opacity=\"1\" /><path clip-path=\"url(#clip990)\" d=\"M2323.06 1479.7 L2327.95 1479.7 L2327.95 1485.58 L2323.06 1485.58 L2323.06 1479.7 Z\" fill=\"#000000\" fill-rule=\"nonzero\" fill-opacity=\"1\" /><path clip-path=\"url(#clip990)\" d=\"M2348.13 1454.1 Q2344.52 1454.1 2342.69 1457.66 Q2340.89 1461.2 2340.89 1468.33 Q2340.89 1475.44 2342.69 1479.01 Q2344.52 1482.55 2348.13 1482.55 Q2351.76 1482.55 2353.57 1479.01 Q2355.4 1475.44 2355.4 1468.33 Q2355.4 1461.2 2353.57 1457.66 Q2351.76 1454.1 2348.13 1454.1 M2348.13 1450.39 Q2353.94 1450.39 2357 1455 Q2360.07 1459.58 2360.07 1468.33 Q2360.07 1477.06 2357 1481.67 Q2353.94 1486.25 2348.13 1486.25 Q2342.32 1486.25 2339.24 1481.67 Q2336.19 1477.06 2336.19 1468.33 Q2336.19 1459.58 2339.24 1455 Q2342.32 1450.39 2348.13 1450.39 Z\" fill=\"#000000\" fill-rule=\"nonzero\" fill-opacity=\"1\" /><path clip-path=\"url(#clip990)\" d=\"M1180.23 1525.81 L1180.23 1543.66 L1188.31 1543.66 Q1192.8 1543.66 1195.25 1541.34 Q1197.7 1539.02 1197.7 1534.72 Q1197.7 1530.45 1195.25 1528.13 Q1192.8 1525.81 1188.31 1525.81 L1180.23 1525.81 M1173.8 1520.52 L1188.31 1520.52 Q1196.3 1520.52 1200.37 1524.15 Q1204.48 1527.75 1204.48 1534.72 Q1204.48 1541.75 1200.37 1545.35 Q1196.3 1548.95 1188.31 1548.95 L1180.23 1548.95 L1180.23 1568.04 L1173.8 1568.04 L1173.8 1520.52 Z\" fill=\"#000000\" fill-rule=\"nonzero\" fill-opacity=\"1\" /><path clip-path=\"url(#clip990)\" d=\"M1212.85 1518.52 L1218.71 1518.52 L1218.71 1568.04 L1212.85 1568.04 L1212.85 1518.52 Z\" fill=\"#000000\" fill-rule=\"nonzero\" fill-opacity=\"1\" /><path clip-path=\"url(#clip990)\" d=\"M1247.16 1550.12 Q1240.06 1550.12 1237.33 1551.75 Q1234.59 1553.37 1234.59 1557.29 Q1234.59 1560.4 1236.63 1562.25 Q1238.69 1564.07 1242.23 1564.07 Q1247.1 1564.07 1250.03 1560.63 Q1252.99 1557.16 1252.99 1551.43 L1252.99 1550.12 L1247.16 1550.12 M1258.84 1547.71 L1258.84 1568.04 L1252.99 1568.04 L1252.99 1562.63 Q1250.98 1565.88 1247.99 1567.44 Q1245 1568.97 1240.67 1568.97 Q1235.19 1568.97 1231.95 1565.91 Q1228.73 1562.82 1228.73 1557.67 Q1228.73 1551.65 1232.74 1548.6 Q1236.78 1545.54 1244.77 1545.54 L1252.99 1545.54 L1252.99 1544.97 Q1252.99 1540.93 1250.31 1538.73 Q1247.67 1536.5 1242.86 1536.5 Q1239.81 1536.5 1236.91 1537.23 Q1234.02 1537.97 1231.34 1539.43 L1231.34 1534.02 Q1234.56 1532.78 1237.58 1532.17 Q1240.6 1531.54 1243.47 1531.54 Q1251.2 1531.54 1255.02 1535.55 Q1258.84 1539.56 1258.84 1547.71 Z\" fill=\"#000000\" fill-rule=\"nonzero\" fill-opacity=\"1\" /><path clip-path=\"url(#clip990)\" d=\"M1285.74 1571.35 Q1283.25 1577.72 1280.9 1579.66 Q1278.54 1581.6 1274.6 1581.6 L1269.92 1581.6 L1269.92 1576.7 L1273.36 1576.7 Q1275.77 1576.7 1277.11 1575.56 Q1278.45 1574.41 1280.07 1570.14 L1281.12 1567.47 L1266.7 1532.4 L1272.91 1532.4 L1284.05 1560.28 L1295.19 1532.4 L1301.4 1532.4 L1285.74 1571.35 Z\" fill=\"#000000\" fill-rule=\"nonzero\" fill-opacity=\"1\" /><path clip-path=\"url(#clip990)\" d=\"M1339.97 1548.76 L1339.97 1551.62 L1313.05 1551.62 Q1313.43 1557.67 1316.67 1560.85 Q1319.95 1564 1325.78 1564 Q1329.15 1564 1332.3 1563.17 Q1335.48 1562.35 1338.6 1560.69 L1338.6 1566.23 Q1335.45 1567.57 1332.14 1568.27 Q1328.83 1568.97 1325.43 1568.97 Q1316.9 1568.97 1311.9 1564 Q1306.93 1559.04 1306.93 1550.57 Q1306.93 1541.82 1311.65 1536.69 Q1316.39 1531.54 1324.41 1531.54 Q1331.6 1531.54 1335.77 1536.18 Q1339.97 1540.8 1339.97 1548.76 M1334.12 1547.04 Q1334.05 1542.23 1331.41 1539.37 Q1328.8 1536.5 1324.47 1536.5 Q1319.57 1536.5 1316.61 1539.27 Q1313.68 1542.04 1313.24 1547.07 L1334.12 1547.04 Z\" fill=\"#000000\" fill-rule=\"nonzero\" fill-opacity=\"1\" /><path clip-path=\"url(#clip990)\" d=\"M1370.24 1537.87 Q1369.25 1537.3 1368.08 1537.04 Q1366.93 1536.76 1365.53 1536.76 Q1360.57 1536.76 1357.89 1540 Q1355.25 1543.22 1355.25 1549.27 L1355.25 1568.04 L1349.36 1568.04 L1349.36 1532.4 L1355.25 1532.4 L1355.25 1537.93 Q1357.1 1534.69 1360.06 1533.13 Q1363.02 1531.54 1367.25 1531.54 Q1367.85 1531.54 1368.59 1531.63 Q1369.32 1531.7 1370.21 1531.85 L1370.24 1537.87 Z\" fill=\"#000000\" fill-rule=\"nonzero\" fill-opacity=\"1\" /><path clip-path=\"url(#clip990)\" d=\"M1399.05 1562.63 L1409.55 1562.63 L1409.55 1526.38 L1398.12 1528.67 L1398.12 1522.82 L1409.49 1520.52 L1415.92 1520.52 L1415.92 1562.63 L1426.42 1562.63 L1426.42 1568.04 L1399.05 1568.04 L1399.05 1562.63 Z\" fill=\"#000000\" fill-rule=\"nonzero\" fill-opacity=\"1\" /><polyline clip-path=\"url(#clip990)\" style=\"stroke:#000000; stroke-linecap:round; stroke-linejoin:round; stroke-width:4; stroke-opacity:1; fill:none\" points=\"247.459,1423.18 247.459,123.472 \"/>\n",
       "<polyline clip-path=\"url(#clip990)\" style=\"stroke:#000000; stroke-linecap:round; stroke-linejoin:round; stroke-width:4; stroke-opacity:1; fill:none\" points=\"247.459,1423.18 266.356,1423.18 \"/>\n",
       "<polyline clip-path=\"url(#clip990)\" style=\"stroke:#000000; stroke-linecap:round; stroke-linejoin:round; stroke-width:4; stroke-opacity:1; fill:none\" points=\"247.459,1104.62 266.356,1104.62 \"/>\n",
       "<polyline clip-path=\"url(#clip990)\" style=\"stroke:#000000; stroke-linecap:round; stroke-linejoin:round; stroke-width:4; stroke-opacity:1; fill:none\" points=\"247.459,786.068 266.356,786.068 \"/>\n",
       "<polyline clip-path=\"url(#clip990)\" style=\"stroke:#000000; stroke-linecap:round; stroke-linejoin:round; stroke-width:4; stroke-opacity:1; fill:none\" points=\"247.459,467.512 266.356,467.512 \"/>\n",
       "<polyline clip-path=\"url(#clip990)\" style=\"stroke:#000000; stroke-linecap:round; stroke-linejoin:round; stroke-width:4; stroke-opacity:1; fill:none\" points=\"247.459,148.957 266.356,148.957 \"/>\n",
       "<path clip-path=\"url(#clip990)\" d=\"M154.283 1408.98 Q150.672 1408.98 148.843 1412.54 Q147.038 1416.08 147.038 1423.21 Q147.038 1430.32 148.843 1433.89 Q150.672 1437.43 154.283 1437.43 Q157.917 1437.43 159.723 1433.89 Q161.552 1430.32 161.552 1423.21 Q161.552 1416.08 159.723 1412.54 Q157.917 1408.98 154.283 1408.98 M154.283 1405.27 Q160.093 1405.27 163.149 1409.88 Q166.227 1414.46 166.227 1423.21 Q166.227 1431.94 163.149 1436.55 Q160.093 1441.13 154.283 1441.13 Q148.473 1441.13 145.394 1436.55 Q142.339 1431.94 142.339 1423.21 Q142.339 1414.46 145.394 1409.88 Q148.473 1405.27 154.283 1405.27 Z\" fill=\"#000000\" fill-rule=\"nonzero\" fill-opacity=\"1\" /><path clip-path=\"url(#clip990)\" d=\"M174.445 1434.58 L179.329 1434.58 L179.329 1440.46 L174.445 1440.46 L174.445 1434.58 Z\" fill=\"#000000\" fill-rule=\"nonzero\" fill-opacity=\"1\" /><path clip-path=\"url(#clip990)\" d=\"M199.514 1408.98 Q195.903 1408.98 194.075 1412.54 Q192.269 1416.08 192.269 1423.21 Q192.269 1430.32 194.075 1433.89 Q195.903 1437.43 199.514 1437.43 Q203.149 1437.43 204.954 1433.89 Q206.783 1430.32 206.783 1423.21 Q206.783 1416.08 204.954 1412.54 Q203.149 1408.98 199.514 1408.98 M199.514 1405.27 Q205.324 1405.27 208.38 1409.88 Q211.459 1414.46 211.459 1423.21 Q211.459 1431.94 208.38 1436.55 Q205.324 1441.13 199.514 1441.13 Q193.704 1441.13 190.625 1436.55 Q187.57 1431.94 187.57 1423.21 Q187.57 1414.46 190.625 1409.88 Q193.704 1405.27 199.514 1405.27 Z\" fill=\"#000000\" fill-rule=\"nonzero\" fill-opacity=\"1\" /><path clip-path=\"url(#clip990)\" d=\"M149.306 1117.97 L165.626 1117.97 L165.626 1121.9 L143.681 1121.9 L143.681 1117.97 Q146.343 1115.21 150.927 1110.58 Q155.533 1105.93 156.714 1104.59 Q158.959 1102.07 159.839 1100.33 Q160.741 1098.57 160.741 1096.88 Q160.741 1094.13 158.797 1092.39 Q156.876 1090.65 153.774 1090.65 Q151.575 1090.65 149.121 1091.42 Q146.691 1092.18 143.913 1093.73 L143.913 1089.01 Q146.737 1087.88 149.191 1087.3 Q151.644 1086.72 153.681 1086.72 Q159.052 1086.72 162.246 1089.4 Q165.44 1092.09 165.44 1096.58 Q165.44 1098.71 164.63 1100.63 Q163.843 1102.53 161.737 1105.12 Q161.158 1105.79 158.056 1109.01 Q154.954 1112.21 149.306 1117.97 Z\" fill=\"#000000\" fill-rule=\"nonzero\" fill-opacity=\"1\" /><path clip-path=\"url(#clip990)\" d=\"M175.44 1116.02 L180.325 1116.02 L180.325 1121.9 L175.44 1121.9 L175.44 1116.02 Z\" fill=\"#000000\" fill-rule=\"nonzero\" fill-opacity=\"1\" /><path clip-path=\"url(#clip990)\" d=\"M190.556 1087.34 L208.912 1087.34 L208.912 1091.28 L194.838 1091.28 L194.838 1099.75 Q195.857 1099.4 196.875 1099.24 Q197.894 1099.06 198.912 1099.06 Q204.699 1099.06 208.079 1102.23 Q211.459 1105.4 211.459 1110.82 Q211.459 1116.39 207.987 1119.5 Q204.514 1122.58 198.195 1122.58 Q196.019 1122.58 193.75 1122.2 Q191.505 1121.83 189.098 1121.09 L189.098 1116.39 Q191.181 1117.53 193.403 1118.08 Q195.625 1118.64 198.102 1118.64 Q202.107 1118.64 204.445 1116.53 Q206.783 1114.43 206.783 1110.82 Q206.783 1107.21 204.445 1105.1 Q202.107 1102.99 198.102 1102.99 Q196.227 1102.99 194.352 1103.41 Q192.5 1103.83 190.556 1104.71 L190.556 1087.34 Z\" fill=\"#000000\" fill-rule=\"nonzero\" fill-opacity=\"1\" /><path clip-path=\"url(#clip990)\" d=\"M144.329 768.788 L162.686 768.788 L162.686 772.723 L148.612 772.723 L148.612 781.196 Q149.63 780.848 150.649 780.686 Q151.667 780.501 152.686 780.501 Q158.473 780.501 161.852 783.672 Q165.232 786.844 165.232 792.26 Q165.232 797.839 161.76 800.941 Q158.288 804.02 151.968 804.02 Q149.792 804.02 147.524 803.649 Q145.279 803.279 142.871 802.538 L142.871 797.839 Q144.954 798.973 147.177 799.529 Q149.399 800.084 151.876 800.084 Q155.88 800.084 158.218 797.978 Q160.556 795.871 160.556 792.26 Q160.556 788.649 158.218 786.543 Q155.88 784.436 151.876 784.436 Q150.001 784.436 148.126 784.853 Q146.274 785.27 144.329 786.149 L144.329 768.788 Z\" fill=\"#000000\" fill-rule=\"nonzero\" fill-opacity=\"1\" /><path clip-path=\"url(#clip990)\" d=\"M174.445 797.469 L179.329 797.469 L179.329 803.348 L174.445 803.348 L174.445 797.469 Z\" fill=\"#000000\" fill-rule=\"nonzero\" fill-opacity=\"1\" /><path clip-path=\"url(#clip990)\" d=\"M199.514 771.867 Q195.903 771.867 194.075 775.432 Q192.269 778.973 192.269 786.103 Q192.269 793.209 194.075 796.774 Q195.903 800.316 199.514 800.316 Q203.149 800.316 204.954 796.774 Q206.783 793.209 206.783 786.103 Q206.783 778.973 204.954 775.432 Q203.149 771.867 199.514 771.867 M199.514 768.163 Q205.324 768.163 208.38 772.77 Q211.459 777.353 211.459 786.103 Q211.459 794.83 208.38 799.436 Q205.324 804.02 199.514 804.02 Q193.704 804.02 190.625 799.436 Q187.57 794.83 187.57 786.103 Q187.57 777.353 190.625 772.77 Q193.704 768.163 199.514 768.163 Z\" fill=\"#000000\" fill-rule=\"nonzero\" fill-opacity=\"1\" /><path clip-path=\"url(#clip990)\" d=\"M144.098 450.232 L166.32 450.232 L166.32 452.223 L153.774 484.792 L148.89 484.792 L160.695 454.168 L144.098 454.168 L144.098 450.232 Z\" fill=\"#000000\" fill-rule=\"nonzero\" fill-opacity=\"1\" /><path clip-path=\"url(#clip990)\" d=\"M175.44 478.913 L180.325 478.913 L180.325 484.792 L175.44 484.792 L175.44 478.913 Z\" fill=\"#000000\" fill-rule=\"nonzero\" fill-opacity=\"1\" /><path clip-path=\"url(#clip990)\" d=\"M190.556 450.232 L208.912 450.232 L208.912 454.168 L194.838 454.168 L194.838 462.64 Q195.857 462.293 196.875 462.13 Q197.894 461.945 198.912 461.945 Q204.699 461.945 208.079 465.117 Q211.459 468.288 211.459 473.705 Q211.459 479.283 207.987 482.385 Q204.514 485.464 198.195 485.464 Q196.019 485.464 193.75 485.093 Q191.505 484.723 189.098 483.982 L189.098 479.283 Q191.181 480.417 193.403 480.973 Q195.625 481.529 198.102 481.529 Q202.107 481.529 204.445 479.422 Q206.783 477.316 206.783 473.705 Q206.783 470.093 204.445 467.987 Q202.107 465.88 198.102 465.88 Q196.227 465.88 194.352 466.297 Q192.5 466.714 190.556 467.593 L190.556 450.232 Z\" fill=\"#000000\" fill-rule=\"nonzero\" fill-opacity=\"1\" /><path clip-path=\"url(#clip990)\" d=\"M114.931 162.301 L122.57 162.301 L122.57 135.936 L114.26 137.602 L114.26 133.343 L122.524 131.677 L127.2 131.677 L127.2 162.301 L134.839 162.301 L134.839 166.237 L114.931 166.237 L114.931 162.301 Z\" fill=\"#000000\" fill-rule=\"nonzero\" fill-opacity=\"1\" /><path clip-path=\"url(#clip990)\" d=\"M154.283 134.755 Q150.672 134.755 148.843 138.32 Q147.038 141.862 147.038 148.991 Q147.038 156.098 148.843 159.663 Q150.672 163.204 154.283 163.204 Q157.917 163.204 159.723 159.663 Q161.552 156.098 161.552 148.991 Q161.552 141.862 159.723 138.32 Q157.917 134.755 154.283 134.755 M154.283 131.052 Q160.093 131.052 163.149 135.658 Q166.227 140.241 166.227 148.991 Q166.227 157.718 163.149 162.325 Q160.093 166.908 154.283 166.908 Q148.473 166.908 145.394 162.325 Q142.339 157.718 142.339 148.991 Q142.339 140.241 145.394 135.658 Q148.473 131.052 154.283 131.052 Z\" fill=\"#000000\" fill-rule=\"nonzero\" fill-opacity=\"1\" /><path clip-path=\"url(#clip990)\" d=\"M174.445 160.357 L179.329 160.357 L179.329 166.237 L174.445 166.237 L174.445 160.357 Z\" fill=\"#000000\" fill-rule=\"nonzero\" fill-opacity=\"1\" /><path clip-path=\"url(#clip990)\" d=\"M199.514 134.755 Q195.903 134.755 194.075 138.32 Q192.269 141.862 192.269 148.991 Q192.269 156.098 194.075 159.663 Q195.903 163.204 199.514 163.204 Q203.149 163.204 204.954 159.663 Q206.783 156.098 206.783 148.991 Q206.783 141.862 204.954 138.32 Q203.149 134.755 199.514 134.755 M199.514 131.052 Q205.324 131.052 208.38 135.658 Q211.459 140.241 211.459 148.991 Q211.459 157.718 208.38 162.325 Q205.324 166.908 199.514 166.908 Q193.704 166.908 190.625 162.325 Q187.57 157.718 187.57 148.991 Q187.57 140.241 190.625 135.658 Q193.704 131.052 199.514 131.052 Z\" fill=\"#000000\" fill-rule=\"nonzero\" fill-opacity=\"1\" /><path clip-path=\"url(#clip990)\" d=\"M21.7677 892.954 L39.6235 892.954 L39.6235 884.869 Q39.6235 880.381 37.3 877.93 Q34.9765 875.48 30.6797 875.48 Q26.4147 875.48 24.0912 877.93 Q21.7677 880.381 21.7677 884.869 L21.7677 892.954 M16.4842 899.383 L16.4842 884.869 Q16.4842 876.88 20.1126 872.806 Q23.7092 868.7 30.6797 868.7 Q37.7138 868.7 41.3104 872.806 Q44.907 876.88 44.907 884.869 L44.907 892.954 L64.0042 892.954 L64.0042 899.383 L16.4842 899.383 Z\" fill=\"#000000\" fill-rule=\"nonzero\" fill-opacity=\"1\" /><path clip-path=\"url(#clip990)\" d=\"M14.479 860.329 L14.479 854.473 L64.0042 854.473 L64.0042 860.329 L14.479 860.329 Z\" fill=\"#000000\" fill-rule=\"nonzero\" fill-opacity=\"1\" /><path clip-path=\"url(#clip990)\" d=\"M46.0847 826.018 Q46.0847 833.116 47.7079 835.853 Q49.3312 838.59 53.2461 838.59 Q56.3653 838.59 58.2114 836.553 Q60.0256 834.485 60.0256 830.952 Q60.0256 826.082 56.5881 823.154 Q53.1188 820.193 47.3897 820.193 L46.0847 820.193 L46.0847 826.018 M43.6657 814.337 L64.0042 814.337 L64.0042 820.193 L58.5933 820.193 Q61.8398 822.199 63.3994 825.191 Q64.9272 828.182 64.9272 832.511 Q64.9272 837.986 61.8716 841.232 Q58.7843 844.447 53.6281 844.447 Q47.6125 844.447 44.5569 840.436 Q41.5014 836.394 41.5014 828.405 L41.5014 820.193 L40.9285 820.193 Q36.8862 820.193 34.6901 822.867 Q32.4621 825.509 32.4621 830.315 Q32.4621 833.371 33.1941 836.267 Q33.9262 839.163 35.3903 841.837 L29.9795 841.837 Q28.7381 838.622 28.1334 835.599 Q27.4968 832.575 27.4968 829.71 Q27.4968 821.976 31.5072 818.156 Q35.5176 814.337 43.6657 814.337 Z\" fill=\"#000000\" fill-rule=\"nonzero\" fill-opacity=\"1\" /><path clip-path=\"url(#clip990)\" d=\"M67.3143 787.442 Q73.68 789.925 75.6216 792.28 Q77.5631 794.635 77.5631 798.582 L77.5631 803.261 L72.6615 803.261 L72.6615 799.823 Q72.6615 797.404 71.5157 796.067 Q70.3699 794.731 66.1048 793.107 L63.4312 792.057 L28.3562 806.475 L28.3562 800.269 L56.238 789.129 L28.3562 777.989 L28.3562 771.782 L67.3143 787.442 Z\" fill=\"#000000\" fill-rule=\"nonzero\" fill-opacity=\"1\" /><path clip-path=\"url(#clip990)\" d=\"M44.7161 733.206 L47.5806 733.206 L47.5806 760.133 Q53.6281 759.751 56.8109 756.505 Q59.9619 753.226 59.9619 747.402 Q59.9619 744.028 59.1344 740.877 Q58.3069 737.694 56.6518 734.575 L62.1899 734.575 Q63.5267 737.726 64.227 741.036 Q64.9272 744.346 64.9272 747.752 Q64.9272 756.282 59.9619 761.279 Q54.9967 766.244 46.5303 766.244 Q37.7774 766.244 32.6531 761.534 Q27.4968 756.791 27.4968 748.77 Q27.4968 741.577 32.1438 737.407 Q36.7589 733.206 44.7161 733.206 M42.9973 739.063 Q38.1912 739.126 35.3266 741.768 Q32.4621 744.378 32.4621 748.707 Q32.4621 753.608 35.2312 756.568 Q38.0002 759.496 43.0292 759.942 L42.9973 739.063 Z\" fill=\"#000000\" fill-rule=\"nonzero\" fill-opacity=\"1\" /><path clip-path=\"url(#clip990)\" d=\"M33.8307 702.937 Q33.2578 703.924 33.0032 705.102 Q32.7167 706.247 32.7167 707.648 Q32.7167 712.613 35.9632 715.287 Q39.1779 717.928 45.2253 717.928 L64.0042 717.928 L64.0042 723.817 L28.3562 723.817 L28.3562 717.928 L33.8944 717.928 Q30.6479 716.082 29.0883 713.122 Q27.4968 710.162 27.4968 705.929 Q27.4968 705.324 27.5923 704.592 Q27.656 703.86 27.8151 702.969 L33.8307 702.937 Z\" fill=\"#000000\" fill-rule=\"nonzero\" fill-opacity=\"1\" /><path clip-path=\"url(#clip990)\" d=\"M58.5933 669.708 L58.5933 647.269 L64.0042 647.269 L64.0042 677.443 L58.5933 677.443 Q54.8057 673.782 48.44 667.48 Q42.0425 661.146 40.1964 659.523 Q36.7271 656.436 34.34 655.226 Q31.921 653.985 29.5975 653.985 Q25.8099 653.985 23.4228 656.658 Q21.0356 659.3 21.0356 663.565 Q21.0356 666.589 22.086 669.963 Q23.1363 673.305 25.2688 677.124 L18.7758 677.124 Q17.2162 673.241 16.4205 669.867 Q15.6248 666.494 15.6248 663.693 Q15.6248 656.308 19.3169 651.916 Q23.009 647.524 29.1837 647.524 Q32.112 647.524 34.7537 648.638 Q37.3637 649.72 40.9285 652.616 Q41.8515 653.412 46.2757 657.677 Q50.668 661.942 58.5933 669.708 Z\" fill=\"#000000\" fill-rule=\"nonzero\" fill-opacity=\"1\" /><path clip-path=\"url(#clip990)\" d=\"M856.594 18.8205 L856.594 41.5461 L866.883 41.5461 Q872.595 41.5461 875.714 38.5889 Q878.834 35.6318 878.834 30.163 Q878.834 24.7348 875.714 21.7777 Q872.595 18.8205 866.883 18.8205 L856.594 18.8205 M848.411 12.096 L866.883 12.096 Q877.051 12.096 882.236 16.714 Q887.462 21.2916 887.462 30.163 Q887.462 39.1155 882.236 43.6931 Q877.051 48.2706 866.883 48.2706 L856.594 48.2706 L856.594 72.576 L848.411 72.576 L848.411 12.096 Z\" fill=\"#000000\" fill-rule=\"nonzero\" fill-opacity=\"1\" /><path clip-path=\"url(#clip990)\" d=\"M922.948 34.1734 Q921.692 33.4443 920.193 33.1202 Q918.735 32.7556 916.953 32.7556 Q910.633 32.7556 907.23 36.8875 Q903.868 40.9789 903.868 48.6757 L903.868 72.576 L896.374 72.576 L896.374 27.2059 L903.868 27.2059 L903.868 34.2544 Q906.218 30.1225 909.985 28.1376 Q913.752 26.1121 919.14 26.1121 Q919.91 26.1121 920.841 26.2337 Q921.773 26.3147 922.907 26.5172 L922.948 34.1734 Z\" fill=\"#000000\" fill-rule=\"nonzero\" fill-opacity=\"1\" /><path clip-path=\"url(#clip990)\" d=\"M946.524 32.4315 Q940.529 32.4315 937.045 37.1306 Q933.561 41.7891 933.561 49.9314 Q933.561 58.0738 937.005 62.7728 Q940.488 67.4314 946.524 67.4314 Q952.479 67.4314 955.963 62.7323 Q959.447 58.0333 959.447 49.9314 Q959.447 41.8701 955.963 37.1711 Q952.479 32.4315 946.524 32.4315 M946.524 26.1121 Q956.246 26.1121 961.796 32.4315 Q967.346 38.7509 967.346 49.9314 Q967.346 61.0714 961.796 67.4314 Q956.246 73.7508 946.524 73.7508 Q936.761 73.7508 931.212 67.4314 Q925.702 61.0714 925.702 49.9314 Q925.702 38.7509 931.212 32.4315 Q936.761 26.1121 946.524 26.1121 Z\" fill=\"#000000\" fill-rule=\"nonzero\" fill-opacity=\"1\" /><path clip-path=\"url(#clip990)\" d=\"M1009.56 49.3643 Q1009.56 41.2625 1006.19 36.8065 Q1002.87 32.3505 996.836 32.3505 Q990.841 32.3505 987.479 36.8065 Q984.157 41.2625 984.157 49.3643 Q984.157 57.4256 987.479 61.8816 Q990.841 66.3376 996.836 66.3376 Q1002.87 66.3376 1006.19 61.8816 Q1009.56 57.4256 1009.56 49.3643 M1017.01 66.9452 Q1017.01 78.5308 1011.87 84.1616 Q1006.72 89.8329 996.107 89.8329 Q992.178 89.8329 988.694 89.2252 Q985.21 88.6581 981.929 87.4428 L981.929 80.1917 Q985.21 81.9741 988.41 82.8248 Q991.611 83.6755 994.932 83.6755 Q1002.26 83.6755 1005.91 79.8271 Q1009.56 76.0193 1009.56 68.282 L1009.56 64.5957 Q1007.25 68.6061 1003.64 70.5911 Q1000.04 72.576 995.013 72.576 Q986.669 72.576 981.564 66.2161 Q976.46 59.8562 976.46 49.3643 Q976.46 38.832 981.564 32.472 Q986.669 26.1121 995.013 26.1121 Q1000.04 26.1121 1003.64 28.0971 Q1007.25 30.082 1009.56 34.0924 L1009.56 27.2059 L1017.01 27.2059 L1017.01 66.9452 Z\" fill=\"#000000\" fill-rule=\"nonzero\" fill-opacity=\"1\" /><path clip-path=\"url(#clip990)\" d=\"M1058.65 34.1734 Q1057.4 33.4443 1055.9 33.1202 Q1054.44 32.7556 1052.66 32.7556 Q1046.34 32.7556 1042.94 36.8875 Q1039.57 40.9789 1039.57 48.6757 L1039.57 72.576 L1032.08 72.576 L1032.08 27.2059 L1039.57 27.2059 L1039.57 34.2544 Q1041.92 30.1225 1045.69 28.1376 Q1049.46 26.1121 1054.85 26.1121 Q1055.61 26.1121 1056.55 26.2337 Q1057.48 26.3147 1058.61 26.5172 L1058.65 34.1734 Z\" fill=\"#000000\" fill-rule=\"nonzero\" fill-opacity=\"1\" /><path clip-path=\"url(#clip990)\" d=\"M1103.46 48.0275 L1103.46 51.6733 L1069.19 51.6733 Q1069.67 59.3701 1073.8 63.421 Q1077.98 67.4314 1085.39 67.4314 Q1089.68 67.4314 1093.69 66.3781 Q1097.74 65.3249 1101.71 63.2184 L1101.71 70.267 Q1097.7 71.9684 1093.49 72.8596 Q1089.28 73.7508 1084.94 73.7508 Q1074.09 73.7508 1067.73 67.4314 Q1061.41 61.1119 1061.41 50.3365 Q1061.41 39.1965 1067.4 32.6746 Q1073.44 26.1121 1083.65 26.1121 Q1092.8 26.1121 1098.11 32.0264 Q1103.46 37.9003 1103.46 48.0275 M1096 45.84 Q1095.92 39.7232 1092.56 36.0774 Q1089.24 32.4315 1083.73 32.4315 Q1077.49 32.4315 1073.72 35.9558 Q1070 39.4801 1069.43 45.8805 L1096 45.84 Z\" fill=\"#000000\" fill-rule=\"nonzero\" fill-opacity=\"1\" /><path clip-path=\"url(#clip990)\" d=\"M1144.61 28.5427 L1144.61 35.5912 Q1141.45 33.9709 1138.05 33.1607 Q1134.65 32.3505 1131 32.3505 Q1125.45 32.3505 1122.66 34.0519 Q1119.9 35.7533 1119.9 39.156 Q1119.9 41.7486 1121.89 43.2475 Q1123.87 44.7058 1129.87 46.0426 L1132.42 46.6097 Q1140.36 48.3111 1143.68 51.4303 Q1147.04 54.509 1147.04 60.0587 Q1147.04 66.3781 1142.02 70.0644 Q1137.04 73.7508 1128.29 73.7508 Q1124.64 73.7508 1120.67 73.0216 Q1116.74 72.3329 1112.37 70.9151 L1112.37 63.2184 Q1116.5 65.3654 1120.51 66.4591 Q1124.52 67.5124 1128.45 67.5124 Q1133.72 67.5124 1136.55 65.73 Q1139.39 63.9071 1139.39 60.6258 Q1139.39 57.5877 1137.32 55.9673 Q1135.3 54.3469 1128.37 52.8481 L1125.78 52.2405 Q1118.85 50.7821 1115.77 47.7845 Q1112.69 44.7463 1112.69 39.4801 Q1112.69 33.0797 1117.23 29.5959 Q1121.77 26.1121 1130.11 26.1121 Q1134.24 26.1121 1137.89 26.7198 Q1141.53 27.3274 1144.61 28.5427 Z\" fill=\"#000000\" fill-rule=\"nonzero\" fill-opacity=\"1\" /><path clip-path=\"url(#clip990)\" d=\"M1187.84 28.5427 L1187.84 35.5912 Q1184.68 33.9709 1181.27 33.1607 Q1177.87 32.3505 1174.23 32.3505 Q1168.68 32.3505 1165.88 34.0519 Q1163.13 35.7533 1163.13 39.156 Q1163.13 41.7486 1165.11 43.2475 Q1167.1 44.7058 1173.09 46.0426 L1175.64 46.6097 Q1183.58 48.3111 1186.9 51.4303 Q1190.27 54.509 1190.27 60.0587 Q1190.27 66.3781 1185.24 70.0644 Q1180.26 73.7508 1171.51 73.7508 Q1167.87 73.7508 1163.9 73.0216 Q1159.97 72.3329 1155.59 70.9151 L1155.59 63.2184 Q1159.72 65.3654 1163.73 66.4591 Q1167.74 67.5124 1171.67 67.5124 Q1176.94 67.5124 1179.78 65.73 Q1182.61 63.9071 1182.61 60.6258 Q1182.61 57.5877 1180.54 55.9673 Q1178.52 54.3469 1171.59 52.8481 L1169 52.2405 Q1162.07 50.7821 1158.99 47.7845 Q1155.92 44.7463 1155.92 39.4801 Q1155.92 33.0797 1160.45 29.5959 Q1164.99 26.1121 1173.33 26.1121 Q1177.47 26.1121 1181.11 26.7198 Q1184.76 27.3274 1187.84 28.5427 Z\" fill=\"#000000\" fill-rule=\"nonzero\" fill-opacity=\"1\" /><path clip-path=\"url(#clip990)\" d=\"M1246.09 32.4315 Q1240.09 32.4315 1236.61 37.1306 Q1233.13 41.7891 1233.13 49.9314 Q1233.13 58.0738 1236.57 62.7728 Q1240.05 67.4314 1246.09 67.4314 Q1252.04 67.4314 1255.53 62.7323 Q1259.01 58.0333 1259.01 49.9314 Q1259.01 41.8701 1255.53 37.1711 Q1252.04 32.4315 1246.09 32.4315 M1246.09 26.1121 Q1255.81 26.1121 1261.36 32.4315 Q1266.91 38.7509 1266.91 49.9314 Q1266.91 61.0714 1261.36 67.4314 Q1255.81 73.7508 1246.09 73.7508 Q1236.33 73.7508 1230.78 67.4314 Q1225.27 61.0714 1225.27 49.9314 Q1225.27 38.7509 1230.78 32.4315 Q1236.33 26.1121 1246.09 26.1121 Z\" fill=\"#000000\" fill-rule=\"nonzero\" fill-opacity=\"1\" /><path clip-path=\"url(#clip990)\" d=\"M1302.23 9.54393 L1302.23 15.7418 L1295.1 15.7418 Q1291.09 15.7418 1289.51 17.3622 Q1287.97 18.9825 1287.97 23.1955 L1287.97 27.2059 L1300.25 27.2059 L1300.25 32.9987 L1287.97 32.9987 L1287.97 72.576 L1280.48 72.576 L1280.48 32.9987 L1273.35 32.9987 L1273.35 27.2059 L1280.48 27.2059 L1280.48 24.0462 Q1280.48 16.471 1284 13.0277 Q1287.53 9.54393 1295.19 9.54393 L1302.23 9.54393 Z\" fill=\"#000000\" fill-rule=\"nonzero\" fill-opacity=\"1\" /><path clip-path=\"url(#clip990)\" d=\"M1364.7 34.0924 L1364.7 9.54393 L1372.15 9.54393 L1372.15 72.576 L1364.7 72.576 L1364.7 65.7705 Q1362.35 69.8214 1358.74 71.8063 Q1355.18 73.7508 1350.16 73.7508 Q1341.93 73.7508 1336.75 67.1883 Q1331.6 60.6258 1331.6 49.9314 Q1331.6 39.2371 1336.75 32.6746 Q1341.93 26.1121 1350.16 26.1121 Q1355.18 26.1121 1358.74 28.0971 Q1362.35 30.0415 1364.7 34.0924 M1339.3 49.9314 Q1339.3 58.1548 1342.66 62.8538 Q1346.06 67.5124 1351.98 67.5124 Q1357.89 67.5124 1361.3 62.8538 Q1364.7 58.1548 1364.7 49.9314 Q1364.7 41.7081 1361.3 37.0496 Q1357.89 32.3505 1351.98 32.3505 Q1346.06 32.3505 1342.66 37.0496 Q1339.3 41.7081 1339.3 49.9314 Z\" fill=\"#000000\" fill-rule=\"nonzero\" fill-opacity=\"1\" /><path clip-path=\"url(#clip990)\" d=\"M1426.31 48.0275 L1426.31 51.6733 L1392.04 51.6733 Q1392.53 59.3701 1396.66 63.421 Q1400.83 67.4314 1408.25 67.4314 Q1412.54 67.4314 1416.55 66.3781 Q1420.6 65.3249 1424.57 63.2184 L1424.57 70.267 Q1420.56 71.9684 1416.35 72.8596 Q1412.14 73.7508 1407.8 73.7508 Q1396.94 73.7508 1390.58 67.4314 Q1384.26 61.1119 1384.26 50.3365 Q1384.26 39.1965 1390.26 32.6746 Q1396.3 26.1121 1406.5 26.1121 Q1415.66 26.1121 1420.97 32.0264 Q1426.31 37.9003 1426.31 48.0275 M1418.86 45.84 Q1418.78 39.7232 1415.42 36.0774 Q1412.09 32.4315 1406.59 32.4315 Q1400.35 32.4315 1396.58 35.9558 Q1392.85 39.4801 1392.29 45.8805 L1418.86 45.84 Z\" fill=\"#000000\" fill-rule=\"nonzero\" fill-opacity=\"1\" /><path clip-path=\"url(#clip990)\" d=\"M1433.2 27.2059 L1441.1 27.2059 L1455.28 65.2844 L1469.46 27.2059 L1477.35 27.2059 L1460.34 72.576 L1450.21 72.576 L1433.2 27.2059 Z\" fill=\"#000000\" fill-rule=\"nonzero\" fill-opacity=\"1\" /><path clip-path=\"url(#clip990)\" d=\"M1487.64 27.2059 L1495.1 27.2059 L1495.1 72.576 L1487.64 72.576 L1487.64 27.2059 M1487.64 9.54393 L1495.1 9.54393 L1495.1 18.9825 L1487.64 18.9825 L1487.64 9.54393 Z\" fill=\"#000000\" fill-rule=\"nonzero\" fill-opacity=\"1\" /><path clip-path=\"url(#clip990)\" d=\"M1531.31 49.7694 Q1522.28 49.7694 1518.8 51.8354 Q1515.31 53.9013 1515.31 58.8839 Q1515.31 62.8538 1517.9 65.2034 Q1520.54 67.5124 1525.03 67.5124 Q1531.23 67.5124 1534.96 63.1374 Q1538.73 58.7219 1538.73 51.4303 L1538.73 49.7694 L1531.31 49.7694 M1546.18 46.6907 L1546.18 72.576 L1538.73 72.576 L1538.73 65.6895 Q1536.17 69.8214 1532.37 71.8063 Q1528.56 73.7508 1523.05 73.7508 Q1516.08 73.7508 1511.95 69.8619 Q1507.86 65.9325 1507.86 59.3701 Q1507.86 51.7138 1512.96 47.825 Q1518.11 43.9361 1528.27 43.9361 L1538.73 43.9361 L1538.73 43.2069 Q1538.73 38.0623 1535.32 35.2672 Q1531.96 32.4315 1525.84 32.4315 Q1521.96 32.4315 1518.27 33.3632 Q1514.58 34.295 1511.18 36.1584 L1511.18 29.2718 Q1515.27 27.692 1519.12 26.9223 Q1522.97 26.1121 1526.61 26.1121 Q1536.46 26.1121 1541.32 31.2163 Q1546.18 36.3204 1546.18 46.6907 Z\" fill=\"#000000\" fill-rule=\"nonzero\" fill-opacity=\"1\" /><path clip-path=\"url(#clip990)\" d=\"M1568.91 14.324 L1568.91 27.2059 L1584.26 27.2059 L1584.26 32.9987 L1568.91 32.9987 L1568.91 57.6282 Q1568.91 63.1779 1570.4 64.7578 Q1571.94 66.3376 1576.6 66.3376 L1584.26 66.3376 L1584.26 72.576 L1576.6 72.576 Q1567.97 72.576 1564.69 69.3758 Q1561.41 66.1351 1561.41 57.6282 L1561.41 32.9987 L1555.94 32.9987 L1555.94 27.2059 L1561.41 27.2059 L1561.41 14.324 L1568.91 14.324 Z\" fill=\"#000000\" fill-rule=\"nonzero\" fill-opacity=\"1\" /><path clip-path=\"url(#clip990)\" d=\"M1594.06 27.2059 L1601.51 27.2059 L1601.51 72.576 L1594.06 72.576 L1594.06 27.2059 M1594.06 9.54393 L1601.51 9.54393 L1601.51 18.9825 L1594.06 18.9825 L1594.06 9.54393 Z\" fill=\"#000000\" fill-rule=\"nonzero\" fill-opacity=\"1\" /><path clip-path=\"url(#clip990)\" d=\"M1634.69 32.4315 Q1628.7 32.4315 1625.21 37.1306 Q1621.73 41.7891 1621.73 49.9314 Q1621.73 58.0738 1625.17 62.7728 Q1628.66 67.4314 1634.69 67.4314 Q1640.65 67.4314 1644.13 62.7323 Q1647.61 58.0333 1647.61 49.9314 Q1647.61 41.8701 1644.13 37.1711 Q1640.65 32.4315 1634.69 32.4315 M1634.69 26.1121 Q1644.41 26.1121 1649.96 32.4315 Q1655.51 38.7509 1655.51 49.9314 Q1655.51 61.0714 1649.96 67.4314 Q1644.41 73.7508 1634.69 73.7508 Q1624.93 73.7508 1619.38 67.4314 Q1613.87 61.0714 1613.87 49.9314 Q1613.87 38.7509 1619.38 32.4315 Q1624.93 26.1121 1634.69 26.1121 Z\" fill=\"#000000\" fill-rule=\"nonzero\" fill-opacity=\"1\" /><path clip-path=\"url(#clip990)\" d=\"M1705.58 45.1919 L1705.58 72.576 L1698.13 72.576 L1698.13 45.4349 Q1698.13 38.994 1695.62 35.7938 Q1693.11 32.5936 1688.08 32.5936 Q1682.05 32.5936 1678.56 36.4419 Q1675.08 40.2903 1675.08 46.9338 L1675.08 72.576 L1667.59 72.576 L1667.59 27.2059 L1675.08 27.2059 L1675.08 34.2544 Q1677.75 30.163 1681.36 28.1376 Q1685 26.1121 1689.74 26.1121 Q1697.56 26.1121 1701.57 30.9732 Q1705.58 35.7938 1705.58 45.1919 Z\" fill=\"#000000\" fill-rule=\"nonzero\" fill-opacity=\"1\" /><path clip-path=\"url(#clip990)\" d=\"M1749.37 28.5427 L1749.37 35.5912 Q1746.21 33.9709 1742.81 33.1607 Q1739.41 32.3505 1735.76 32.3505 Q1730.21 32.3505 1727.42 34.0519 Q1724.66 35.7533 1724.66 39.156 Q1724.66 41.7486 1726.65 43.2475 Q1728.63 44.7058 1734.63 46.0426 L1737.18 46.6097 Q1745.12 48.3111 1748.44 51.4303 Q1751.8 54.509 1751.8 60.0587 Q1751.8 66.3781 1746.78 70.0644 Q1741.8 73.7508 1733.05 73.7508 Q1729.4 73.7508 1725.43 73.0216 Q1721.5 72.3329 1717.13 70.9151 L1717.13 63.2184 Q1721.26 65.3654 1725.27 66.4591 Q1729.28 67.5124 1733.21 67.5124 Q1738.48 67.5124 1741.31 65.73 Q1744.15 63.9071 1744.15 60.6258 Q1744.15 57.5877 1742.08 55.9673 Q1740.06 54.3469 1733.13 52.8481 L1730.54 52.2405 Q1723.61 50.7821 1720.53 47.7845 Q1717.45 44.7463 1717.45 39.4801 Q1717.45 33.0797 1721.99 29.5959 Q1726.53 26.1121 1734.87 26.1121 Q1739 26.1121 1742.65 26.7198 Q1746.29 27.3274 1749.37 28.5427 Z\" fill=\"#000000\" fill-rule=\"nonzero\" fill-opacity=\"1\" /><polyline clip-path=\"url(#clip992)\" style=\"stroke:#009af9; stroke-linecap:round; stroke-linejoin:round; stroke-width:4; stroke-opacity:1; fill:none\" points=\"2311.48,148.957 2311.48,786.068 763.463,786.068 763.463,1263.9 376.46,1263.9 376.46,1383.36 \"/>\n",
       "<circle clip-path=\"url(#clip992)\" cx=\"2311.48\" cy=\"148.957\" r=\"14.4\" fill=\"#009af9\" fill-rule=\"evenodd\" fill-opacity=\"1\" stroke=\"#000000\" stroke-opacity=\"1\" stroke-width=\"3.2\"/>\n",
       "<circle clip-path=\"url(#clip992)\" cx=\"2311.48\" cy=\"786.068\" r=\"14.4\" fill=\"#009af9\" fill-rule=\"evenodd\" fill-opacity=\"1\" stroke=\"#000000\" stroke-opacity=\"1\" stroke-width=\"3.2\"/>\n",
       "<circle clip-path=\"url(#clip992)\" cx=\"763.463\" cy=\"786.068\" r=\"14.4\" fill=\"#009af9\" fill-rule=\"evenodd\" fill-opacity=\"1\" stroke=\"#000000\" stroke-opacity=\"1\" stroke-width=\"3.2\"/>\n",
       "<circle clip-path=\"url(#clip992)\" cx=\"763.463\" cy=\"1263.9\" r=\"14.4\" fill=\"#009af9\" fill-rule=\"evenodd\" fill-opacity=\"1\" stroke=\"#000000\" stroke-opacity=\"1\" stroke-width=\"3.2\"/>\n",
       "<circle clip-path=\"url(#clip992)\" cx=\"376.46\" cy=\"1263.9\" r=\"14.4\" fill=\"#009af9\" fill-rule=\"evenodd\" fill-opacity=\"1\" stroke=\"#000000\" stroke-opacity=\"1\" stroke-width=\"3.2\"/>\n",
       "<circle clip-path=\"url(#clip992)\" cx=\"376.46\" cy=\"1383.36\" r=\"14.4\" fill=\"#009af9\" fill-rule=\"evenodd\" fill-opacity=\"1\" stroke=\"#000000\" stroke-opacity=\"1\" stroke-width=\"3.2\"/>\n",
       "</svg>\n"
      ],
      "text/html": [
       "<?xml version=\"1.0\" encoding=\"utf-8\"?>\n",
       "<svg xmlns=\"http://www.w3.org/2000/svg\" xmlns:xlink=\"http://www.w3.org/1999/xlink\" width=\"600\" height=\"400\" viewBox=\"0 0 2400 1600\">\n",
       "<defs>\n",
       "  <clipPath id=\"clip040\">\n",
       "    <rect x=\"0\" y=\"0\" width=\"2400\" height=\"1600\"/>\n",
       "  </clipPath>\n",
       "</defs>\n",
       "<path clip-path=\"url(#clip040)\" d=\"M0 1600 L2400 1600 L2400 0 L0 0  Z\" fill=\"#ffffff\" fill-rule=\"evenodd\" fill-opacity=\"1\"/>\n",
       "<defs>\n",
       "  <clipPath id=\"clip041\">\n",
       "    <rect x=\"480\" y=\"0\" width=\"1681\" height=\"1600\"/>\n",
       "  </clipPath>\n",
       "</defs>\n",
       "<path clip-path=\"url(#clip040)\" d=\"M247.459 1423.18 L2352.76 1423.18 L2352.76 123.472 L247.459 123.472  Z\" fill=\"#ffffff\" fill-rule=\"evenodd\" fill-opacity=\"1\"/>\n",
       "<defs>\n",
       "  <clipPath id=\"clip042\">\n",
       "    <rect x=\"247\" y=\"123\" width=\"2106\" height=\"1301\"/>\n",
       "  </clipPath>\n",
       "</defs>\n",
       "<polyline clip-path=\"url(#clip042)\" style=\"stroke:#000000; stroke-linecap:round; stroke-linejoin:round; stroke-width:2; stroke-opacity:0.1; fill:none\" points=\"247.459,1423.18 247.459,123.472 \"/>\n",
       "<polyline clip-path=\"url(#clip042)\" style=\"stroke:#000000; stroke-linecap:round; stroke-linejoin:round; stroke-width:2; stroke-opacity:0.1; fill:none\" points=\"763.463,1423.18 763.463,123.472 \"/>\n",
       "<polyline clip-path=\"url(#clip042)\" style=\"stroke:#000000; stroke-linecap:round; stroke-linejoin:round; stroke-width:2; stroke-opacity:0.1; fill:none\" points=\"1279.47,1423.18 1279.47,123.472 \"/>\n",
       "<polyline clip-path=\"url(#clip042)\" style=\"stroke:#000000; stroke-linecap:round; stroke-linejoin:round; stroke-width:2; stroke-opacity:0.1; fill:none\" points=\"1795.47,1423.18 1795.47,123.472 \"/>\n",
       "<polyline clip-path=\"url(#clip042)\" style=\"stroke:#000000; stroke-linecap:round; stroke-linejoin:round; stroke-width:2; stroke-opacity:0.1; fill:none\" points=\"2311.48,1423.18 2311.48,123.472 \"/>\n",
       "<polyline clip-path=\"url(#clip042)\" style=\"stroke:#000000; stroke-linecap:round; stroke-linejoin:round; stroke-width:2; stroke-opacity:0.1; fill:none\" points=\"247.459,1423.18 2352.76,1423.18 \"/>\n",
       "<polyline clip-path=\"url(#clip042)\" style=\"stroke:#000000; stroke-linecap:round; stroke-linejoin:round; stroke-width:2; stroke-opacity:0.1; fill:none\" points=\"247.459,1104.62 2352.76,1104.62 \"/>\n",
       "<polyline clip-path=\"url(#clip042)\" style=\"stroke:#000000; stroke-linecap:round; stroke-linejoin:round; stroke-width:2; stroke-opacity:0.1; fill:none\" points=\"247.459,786.068 2352.76,786.068 \"/>\n",
       "<polyline clip-path=\"url(#clip042)\" style=\"stroke:#000000; stroke-linecap:round; stroke-linejoin:round; stroke-width:2; stroke-opacity:0.1; fill:none\" points=\"247.459,467.512 2352.76,467.512 \"/>\n",
       "<polyline clip-path=\"url(#clip042)\" style=\"stroke:#000000; stroke-linecap:round; stroke-linejoin:round; stroke-width:2; stroke-opacity:0.1; fill:none\" points=\"247.459,148.957 2352.76,148.957 \"/>\n",
       "<polyline clip-path=\"url(#clip040)\" style=\"stroke:#000000; stroke-linecap:round; stroke-linejoin:round; stroke-width:4; stroke-opacity:1; fill:none\" points=\"247.459,1423.18 2352.76,1423.18 \"/>\n",
       "<polyline clip-path=\"url(#clip040)\" style=\"stroke:#000000; stroke-linecap:round; stroke-linejoin:round; stroke-width:4; stroke-opacity:1; fill:none\" points=\"247.459,1423.18 247.459,1404.28 \"/>\n",
       "<polyline clip-path=\"url(#clip040)\" style=\"stroke:#000000; stroke-linecap:round; stroke-linejoin:round; stroke-width:4; stroke-opacity:1; fill:none\" points=\"763.463,1423.18 763.463,1404.28 \"/>\n",
       "<polyline clip-path=\"url(#clip040)\" style=\"stroke:#000000; stroke-linecap:round; stroke-linejoin:round; stroke-width:4; stroke-opacity:1; fill:none\" points=\"1279.47,1423.18 1279.47,1404.28 \"/>\n",
       "<polyline clip-path=\"url(#clip040)\" style=\"stroke:#000000; stroke-linecap:round; stroke-linejoin:round; stroke-width:4; stroke-opacity:1; fill:none\" points=\"1795.47,1423.18 1795.47,1404.28 \"/>\n",
       "<polyline clip-path=\"url(#clip040)\" style=\"stroke:#000000; stroke-linecap:round; stroke-linejoin:round; stroke-width:4; stroke-opacity:1; fill:none\" points=\"2311.48,1423.18 2311.48,1404.28 \"/>\n",
       "<path clip-path=\"url(#clip040)\" d=\"M224.843 1454.1 Q221.232 1454.1 219.403 1457.66 Q217.598 1461.2 217.598 1468.33 Q217.598 1475.44 219.403 1479.01 Q221.232 1482.55 224.843 1482.55 Q228.477 1482.55 230.283 1479.01 Q232.112 1475.44 232.112 1468.33 Q232.112 1461.2 230.283 1457.66 Q228.477 1454.1 224.843 1454.1 M224.843 1450.39 Q230.653 1450.39 233.709 1455 Q236.787 1459.58 236.787 1468.33 Q236.787 1477.06 233.709 1481.67 Q230.653 1486.25 224.843 1486.25 Q219.033 1486.25 215.954 1481.67 Q212.899 1477.06 212.899 1468.33 Q212.899 1459.58 215.954 1455 Q219.033 1450.39 224.843 1450.39 Z\" fill=\"#000000\" fill-rule=\"nonzero\" fill-opacity=\"1\" /><path clip-path=\"url(#clip040)\" d=\"M245.005 1479.7 L249.889 1479.7 L249.889 1485.58 L245.005 1485.58 L245.005 1479.7 Z\" fill=\"#000000\" fill-rule=\"nonzero\" fill-opacity=\"1\" /><path clip-path=\"url(#clip040)\" d=\"M270.074 1454.1 Q266.463 1454.1 264.635 1457.66 Q262.829 1461.2 262.829 1468.33 Q262.829 1475.44 264.635 1479.01 Q266.463 1482.55 270.074 1482.55 Q273.709 1482.55 275.514 1479.01 Q277.343 1475.44 277.343 1468.33 Q277.343 1461.2 275.514 1457.66 Q273.709 1454.1 270.074 1454.1 M270.074 1450.39 Q275.884 1450.39 278.94 1455 Q282.019 1459.58 282.019 1468.33 Q282.019 1477.06 278.94 1481.67 Q275.884 1486.25 270.074 1486.25 Q264.264 1486.25 261.185 1481.67 Q258.13 1477.06 258.13 1468.33 Q258.13 1459.58 261.185 1455 Q264.264 1450.39 270.074 1450.39 Z\" fill=\"#000000\" fill-rule=\"nonzero\" fill-opacity=\"1\" /><path clip-path=\"url(#clip040)\" d=\"M735.199 1481.64 L751.519 1481.64 L751.519 1485.58 L729.574 1485.58 L729.574 1481.64 Q732.236 1478.89 736.82 1474.26 Q741.426 1469.61 742.607 1468.27 Q744.852 1465.74 745.732 1464.01 Q746.634 1462.25 746.634 1460.56 Q746.634 1457.8 744.69 1456.07 Q742.769 1454.33 739.667 1454.33 Q737.468 1454.33 735.014 1455.09 Q732.583 1455.86 729.806 1457.41 L729.806 1452.69 Q732.63 1451.55 735.083 1450.97 Q737.537 1450.39 739.574 1450.39 Q744.945 1450.39 748.139 1453.08 Q751.333 1455.77 751.333 1460.26 Q751.333 1462.39 750.523 1464.31 Q749.736 1466.2 747.63 1468.8 Q747.051 1469.47 743.949 1472.69 Q740.847 1475.88 735.199 1481.64 Z\" fill=\"#000000\" fill-rule=\"nonzero\" fill-opacity=\"1\" /><path clip-path=\"url(#clip040)\" d=\"M761.333 1479.7 L766.218 1479.7 L766.218 1485.58 L761.333 1485.58 L761.333 1479.7 Z\" fill=\"#000000\" fill-rule=\"nonzero\" fill-opacity=\"1\" /><path clip-path=\"url(#clip040)\" d=\"M776.449 1451.02 L794.805 1451.02 L794.805 1454.96 L780.731 1454.96 L780.731 1463.43 Q781.75 1463.08 782.768 1462.92 Q783.787 1462.73 784.805 1462.73 Q790.592 1462.73 793.972 1465.9 Q797.352 1469.08 797.352 1474.49 Q797.352 1480.07 793.879 1483.17 Q790.407 1486.25 784.088 1486.25 Q781.912 1486.25 779.643 1485.88 Q777.398 1485.51 774.991 1484.77 L774.991 1480.07 Q777.074 1481.2 779.296 1481.76 Q781.518 1482.32 783.995 1482.32 Q788 1482.32 790.338 1480.21 Q792.676 1478.1 792.676 1474.49 Q792.676 1470.88 790.338 1468.77 Q788 1466.67 783.995 1466.67 Q782.12 1466.67 780.245 1467.08 Q778.393 1467.5 776.449 1468.38 L776.449 1451.02 Z\" fill=\"#000000\" fill-rule=\"nonzero\" fill-opacity=\"1\" /><path clip-path=\"url(#clip040)\" d=\"M1246.63 1451.02 L1264.99 1451.02 L1264.99 1454.96 L1250.91 1454.96 L1250.91 1463.43 Q1251.93 1463.08 1252.95 1462.92 Q1253.97 1462.73 1254.99 1462.73 Q1260.78 1462.73 1264.15 1465.9 Q1267.53 1469.08 1267.53 1474.49 Q1267.53 1480.07 1264.06 1483.17 Q1260.59 1486.25 1254.27 1486.25 Q1252.09 1486.25 1249.83 1485.88 Q1247.58 1485.51 1245.17 1484.77 L1245.17 1480.07 Q1247.26 1481.2 1249.48 1481.76 Q1251.7 1482.32 1254.18 1482.32 Q1258.18 1482.32 1260.52 1480.21 Q1262.86 1478.1 1262.86 1474.49 Q1262.86 1470.88 1260.52 1468.77 Q1258.18 1466.67 1254.18 1466.67 Q1252.3 1466.67 1250.43 1467.08 Q1248.58 1467.5 1246.63 1468.38 L1246.63 1451.02 Z\" fill=\"#000000\" fill-rule=\"nonzero\" fill-opacity=\"1\" /><path clip-path=\"url(#clip040)\" d=\"M1276.75 1479.7 L1281.63 1479.7 L1281.63 1485.58 L1276.75 1485.58 L1276.75 1479.7 Z\" fill=\"#000000\" fill-rule=\"nonzero\" fill-opacity=\"1\" /><path clip-path=\"url(#clip040)\" d=\"M1301.82 1454.1 Q1298.21 1454.1 1296.38 1457.66 Q1294.57 1461.2 1294.57 1468.33 Q1294.57 1475.44 1296.38 1479.01 Q1298.21 1482.55 1301.82 1482.55 Q1305.45 1482.55 1307.26 1479.01 Q1309.09 1475.44 1309.09 1468.33 Q1309.09 1461.2 1307.26 1457.66 Q1305.45 1454.1 1301.82 1454.1 M1301.82 1450.39 Q1307.63 1450.39 1310.68 1455 Q1313.76 1459.58 1313.76 1468.33 Q1313.76 1477.06 1310.68 1481.67 Q1307.63 1486.25 1301.82 1486.25 Q1296.01 1486.25 1292.93 1481.67 Q1289.87 1477.06 1289.87 1468.33 Q1289.87 1459.58 1292.93 1455 Q1296.01 1450.39 1301.82 1450.39 Z\" fill=\"#000000\" fill-rule=\"nonzero\" fill-opacity=\"1\" /><path clip-path=\"url(#clip040)\" d=\"M1761.79 1451.02 L1784.01 1451.02 L1784.01 1453.01 L1771.47 1485.58 L1766.58 1485.58 L1778.39 1454.96 L1761.79 1454.96 L1761.79 1451.02 Z\" fill=\"#000000\" fill-rule=\"nonzero\" fill-opacity=\"1\" /><path clip-path=\"url(#clip040)\" d=\"M1793.13 1479.7 L1798.02 1479.7 L1798.02 1485.58 L1793.13 1485.58 L1793.13 1479.7 Z\" fill=\"#000000\" fill-rule=\"nonzero\" fill-opacity=\"1\" /><path clip-path=\"url(#clip040)\" d=\"M1808.25 1451.02 L1826.61 1451.02 L1826.61 1454.96 L1812.53 1454.96 L1812.53 1463.43 Q1813.55 1463.08 1814.57 1462.92 Q1815.59 1462.73 1816.61 1462.73 Q1822.39 1462.73 1825.77 1465.9 Q1829.15 1469.08 1829.15 1474.49 Q1829.15 1480.07 1825.68 1483.17 Q1822.21 1486.25 1815.89 1486.25 Q1813.71 1486.25 1811.44 1485.88 Q1809.2 1485.51 1806.79 1484.77 L1806.79 1480.07 Q1808.87 1481.2 1811.1 1481.76 Q1813.32 1482.32 1815.8 1482.32 Q1819.8 1482.32 1822.14 1480.21 Q1824.48 1478.1 1824.48 1474.49 Q1824.48 1470.88 1822.14 1468.77 Q1819.8 1466.67 1815.8 1466.67 Q1813.92 1466.67 1812.05 1467.08 Q1810.19 1467.5 1808.25 1468.38 L1808.25 1451.02 Z\" fill=\"#000000\" fill-rule=\"nonzero\" fill-opacity=\"1\" /><path clip-path=\"url(#clip040)\" d=\"M2263.55 1481.64 L2271.19 1481.64 L2271.19 1455.28 L2262.88 1456.95 L2262.88 1452.69 L2271.14 1451.02 L2275.82 1451.02 L2275.82 1481.64 L2283.45 1481.64 L2283.45 1485.58 L2263.55 1485.58 L2263.55 1481.64 Z\" fill=\"#000000\" fill-rule=\"nonzero\" fill-opacity=\"1\" /><path clip-path=\"url(#clip040)\" d=\"M2302.9 1454.1 Q2299.29 1454.1 2297.46 1457.66 Q2295.65 1461.2 2295.65 1468.33 Q2295.65 1475.44 2297.46 1479.01 Q2299.29 1482.55 2302.9 1482.55 Q2306.53 1482.55 2308.34 1479.01 Q2310.17 1475.44 2310.17 1468.33 Q2310.17 1461.2 2308.34 1457.66 Q2306.53 1454.1 2302.9 1454.1 M2302.9 1450.39 Q2308.71 1450.39 2311.76 1455 Q2314.84 1459.58 2314.84 1468.33 Q2314.84 1477.06 2311.76 1481.67 Q2308.71 1486.25 2302.9 1486.25 Q2297.09 1486.25 2294.01 1481.67 Q2290.95 1477.06 2290.95 1468.33 Q2290.95 1459.58 2294.01 1455 Q2297.09 1450.39 2302.9 1450.39 Z\" fill=\"#000000\" fill-rule=\"nonzero\" fill-opacity=\"1\" /><path clip-path=\"url(#clip040)\" d=\"M2323.06 1479.7 L2327.95 1479.7 L2327.95 1485.58 L2323.06 1485.58 L2323.06 1479.7 Z\" fill=\"#000000\" fill-rule=\"nonzero\" fill-opacity=\"1\" /><path clip-path=\"url(#clip040)\" d=\"M2348.13 1454.1 Q2344.52 1454.1 2342.69 1457.66 Q2340.89 1461.2 2340.89 1468.33 Q2340.89 1475.44 2342.69 1479.01 Q2344.52 1482.55 2348.13 1482.55 Q2351.76 1482.55 2353.57 1479.01 Q2355.4 1475.44 2355.4 1468.33 Q2355.4 1461.2 2353.57 1457.66 Q2351.76 1454.1 2348.13 1454.1 M2348.13 1450.39 Q2353.94 1450.39 2357 1455 Q2360.07 1459.58 2360.07 1468.33 Q2360.07 1477.06 2357 1481.67 Q2353.94 1486.25 2348.13 1486.25 Q2342.32 1486.25 2339.24 1481.67 Q2336.19 1477.06 2336.19 1468.33 Q2336.19 1459.58 2339.24 1455 Q2342.32 1450.39 2348.13 1450.39 Z\" fill=\"#000000\" fill-rule=\"nonzero\" fill-opacity=\"1\" /><path clip-path=\"url(#clip040)\" d=\"M1180.23 1525.81 L1180.23 1543.66 L1188.31 1543.66 Q1192.8 1543.66 1195.25 1541.34 Q1197.7 1539.02 1197.7 1534.72 Q1197.7 1530.45 1195.25 1528.13 Q1192.8 1525.81 1188.31 1525.81 L1180.23 1525.81 M1173.8 1520.52 L1188.31 1520.52 Q1196.3 1520.52 1200.37 1524.15 Q1204.48 1527.75 1204.48 1534.72 Q1204.48 1541.75 1200.37 1545.35 Q1196.3 1548.95 1188.31 1548.95 L1180.23 1548.95 L1180.23 1568.04 L1173.8 1568.04 L1173.8 1520.52 Z\" fill=\"#000000\" fill-rule=\"nonzero\" fill-opacity=\"1\" /><path clip-path=\"url(#clip040)\" d=\"M1212.85 1518.52 L1218.71 1518.52 L1218.71 1568.04 L1212.85 1568.04 L1212.85 1518.52 Z\" fill=\"#000000\" fill-rule=\"nonzero\" fill-opacity=\"1\" /><path clip-path=\"url(#clip040)\" d=\"M1247.16 1550.12 Q1240.06 1550.12 1237.33 1551.75 Q1234.59 1553.37 1234.59 1557.29 Q1234.59 1560.4 1236.63 1562.25 Q1238.69 1564.07 1242.23 1564.07 Q1247.1 1564.07 1250.03 1560.63 Q1252.99 1557.16 1252.99 1551.43 L1252.99 1550.12 L1247.16 1550.12 M1258.84 1547.71 L1258.84 1568.04 L1252.99 1568.04 L1252.99 1562.63 Q1250.98 1565.88 1247.99 1567.44 Q1245 1568.97 1240.67 1568.97 Q1235.19 1568.97 1231.95 1565.91 Q1228.73 1562.82 1228.73 1557.67 Q1228.73 1551.65 1232.74 1548.6 Q1236.78 1545.54 1244.77 1545.54 L1252.99 1545.54 L1252.99 1544.97 Q1252.99 1540.93 1250.31 1538.73 Q1247.67 1536.5 1242.86 1536.5 Q1239.81 1536.5 1236.91 1537.23 Q1234.02 1537.97 1231.34 1539.43 L1231.34 1534.02 Q1234.56 1532.78 1237.58 1532.17 Q1240.6 1531.54 1243.47 1531.54 Q1251.2 1531.54 1255.02 1535.55 Q1258.84 1539.56 1258.84 1547.71 Z\" fill=\"#000000\" fill-rule=\"nonzero\" fill-opacity=\"1\" /><path clip-path=\"url(#clip040)\" d=\"M1285.74 1571.35 Q1283.25 1577.72 1280.9 1579.66 Q1278.54 1581.6 1274.6 1581.6 L1269.92 1581.6 L1269.92 1576.7 L1273.36 1576.7 Q1275.77 1576.7 1277.11 1575.56 Q1278.45 1574.41 1280.07 1570.14 L1281.12 1567.47 L1266.7 1532.4 L1272.91 1532.4 L1284.05 1560.28 L1295.19 1532.4 L1301.4 1532.4 L1285.74 1571.35 Z\" fill=\"#000000\" fill-rule=\"nonzero\" fill-opacity=\"1\" /><path clip-path=\"url(#clip040)\" d=\"M1339.97 1548.76 L1339.97 1551.62 L1313.05 1551.62 Q1313.43 1557.67 1316.67 1560.85 Q1319.95 1564 1325.78 1564 Q1329.15 1564 1332.3 1563.17 Q1335.48 1562.35 1338.6 1560.69 L1338.6 1566.23 Q1335.45 1567.57 1332.14 1568.27 Q1328.83 1568.97 1325.43 1568.97 Q1316.9 1568.97 1311.9 1564 Q1306.93 1559.04 1306.93 1550.57 Q1306.93 1541.82 1311.65 1536.69 Q1316.39 1531.54 1324.41 1531.54 Q1331.6 1531.54 1335.77 1536.18 Q1339.97 1540.8 1339.97 1548.76 M1334.12 1547.04 Q1334.05 1542.23 1331.41 1539.37 Q1328.8 1536.5 1324.47 1536.5 Q1319.57 1536.5 1316.61 1539.27 Q1313.68 1542.04 1313.24 1547.07 L1334.12 1547.04 Z\" fill=\"#000000\" fill-rule=\"nonzero\" fill-opacity=\"1\" /><path clip-path=\"url(#clip040)\" d=\"M1370.24 1537.87 Q1369.25 1537.3 1368.08 1537.04 Q1366.93 1536.76 1365.53 1536.76 Q1360.57 1536.76 1357.89 1540 Q1355.25 1543.22 1355.25 1549.27 L1355.25 1568.04 L1349.36 1568.04 L1349.36 1532.4 L1355.25 1532.4 L1355.25 1537.93 Q1357.1 1534.69 1360.06 1533.13 Q1363.02 1531.54 1367.25 1531.54 Q1367.85 1531.54 1368.59 1531.63 Q1369.32 1531.7 1370.21 1531.85 L1370.24 1537.87 Z\" fill=\"#000000\" fill-rule=\"nonzero\" fill-opacity=\"1\" /><path clip-path=\"url(#clip040)\" d=\"M1399.05 1562.63 L1409.55 1562.63 L1409.55 1526.38 L1398.12 1528.67 L1398.12 1522.82 L1409.49 1520.52 L1415.92 1520.52 L1415.92 1562.63 L1426.42 1562.63 L1426.42 1568.04 L1399.05 1568.04 L1399.05 1562.63 Z\" fill=\"#000000\" fill-rule=\"nonzero\" fill-opacity=\"1\" /><polyline clip-path=\"url(#clip040)\" style=\"stroke:#000000; stroke-linecap:round; stroke-linejoin:round; stroke-width:4; stroke-opacity:1; fill:none\" points=\"247.459,1423.18 247.459,123.472 \"/>\n",
       "<polyline clip-path=\"url(#clip040)\" style=\"stroke:#000000; stroke-linecap:round; stroke-linejoin:round; stroke-width:4; stroke-opacity:1; fill:none\" points=\"247.459,1423.18 266.356,1423.18 \"/>\n",
       "<polyline clip-path=\"url(#clip040)\" style=\"stroke:#000000; stroke-linecap:round; stroke-linejoin:round; stroke-width:4; stroke-opacity:1; fill:none\" points=\"247.459,1104.62 266.356,1104.62 \"/>\n",
       "<polyline clip-path=\"url(#clip040)\" style=\"stroke:#000000; stroke-linecap:round; stroke-linejoin:round; stroke-width:4; stroke-opacity:1; fill:none\" points=\"247.459,786.068 266.356,786.068 \"/>\n",
       "<polyline clip-path=\"url(#clip040)\" style=\"stroke:#000000; stroke-linecap:round; stroke-linejoin:round; stroke-width:4; stroke-opacity:1; fill:none\" points=\"247.459,467.512 266.356,467.512 \"/>\n",
       "<polyline clip-path=\"url(#clip040)\" style=\"stroke:#000000; stroke-linecap:round; stroke-linejoin:round; stroke-width:4; stroke-opacity:1; fill:none\" points=\"247.459,148.957 266.356,148.957 \"/>\n",
       "<path clip-path=\"url(#clip040)\" d=\"M154.283 1408.98 Q150.672 1408.98 148.843 1412.54 Q147.038 1416.08 147.038 1423.21 Q147.038 1430.32 148.843 1433.89 Q150.672 1437.43 154.283 1437.43 Q157.917 1437.43 159.723 1433.89 Q161.552 1430.32 161.552 1423.21 Q161.552 1416.08 159.723 1412.54 Q157.917 1408.98 154.283 1408.98 M154.283 1405.27 Q160.093 1405.27 163.149 1409.88 Q166.227 1414.46 166.227 1423.21 Q166.227 1431.94 163.149 1436.55 Q160.093 1441.13 154.283 1441.13 Q148.473 1441.13 145.394 1436.55 Q142.339 1431.94 142.339 1423.21 Q142.339 1414.46 145.394 1409.88 Q148.473 1405.27 154.283 1405.27 Z\" fill=\"#000000\" fill-rule=\"nonzero\" fill-opacity=\"1\" /><path clip-path=\"url(#clip040)\" d=\"M174.445 1434.58 L179.329 1434.58 L179.329 1440.46 L174.445 1440.46 L174.445 1434.58 Z\" fill=\"#000000\" fill-rule=\"nonzero\" fill-opacity=\"1\" /><path clip-path=\"url(#clip040)\" d=\"M199.514 1408.98 Q195.903 1408.98 194.075 1412.54 Q192.269 1416.08 192.269 1423.21 Q192.269 1430.32 194.075 1433.89 Q195.903 1437.43 199.514 1437.43 Q203.149 1437.43 204.954 1433.89 Q206.783 1430.32 206.783 1423.21 Q206.783 1416.08 204.954 1412.54 Q203.149 1408.98 199.514 1408.98 M199.514 1405.27 Q205.324 1405.27 208.38 1409.88 Q211.459 1414.46 211.459 1423.21 Q211.459 1431.94 208.38 1436.55 Q205.324 1441.13 199.514 1441.13 Q193.704 1441.13 190.625 1436.55 Q187.57 1431.94 187.57 1423.21 Q187.57 1414.46 190.625 1409.88 Q193.704 1405.27 199.514 1405.27 Z\" fill=\"#000000\" fill-rule=\"nonzero\" fill-opacity=\"1\" /><path clip-path=\"url(#clip040)\" d=\"M149.306 1117.97 L165.626 1117.97 L165.626 1121.9 L143.681 1121.9 L143.681 1117.97 Q146.343 1115.21 150.927 1110.58 Q155.533 1105.93 156.714 1104.59 Q158.959 1102.07 159.839 1100.33 Q160.741 1098.57 160.741 1096.88 Q160.741 1094.13 158.797 1092.39 Q156.876 1090.65 153.774 1090.65 Q151.575 1090.65 149.121 1091.42 Q146.691 1092.18 143.913 1093.73 L143.913 1089.01 Q146.737 1087.88 149.191 1087.3 Q151.644 1086.72 153.681 1086.72 Q159.052 1086.72 162.246 1089.4 Q165.44 1092.09 165.44 1096.58 Q165.44 1098.71 164.63 1100.63 Q163.843 1102.53 161.737 1105.12 Q161.158 1105.79 158.056 1109.01 Q154.954 1112.21 149.306 1117.97 Z\" fill=\"#000000\" fill-rule=\"nonzero\" fill-opacity=\"1\" /><path clip-path=\"url(#clip040)\" d=\"M175.44 1116.02 L180.325 1116.02 L180.325 1121.9 L175.44 1121.9 L175.44 1116.02 Z\" fill=\"#000000\" fill-rule=\"nonzero\" fill-opacity=\"1\" /><path clip-path=\"url(#clip040)\" d=\"M190.556 1087.34 L208.912 1087.34 L208.912 1091.28 L194.838 1091.28 L194.838 1099.75 Q195.857 1099.4 196.875 1099.24 Q197.894 1099.06 198.912 1099.06 Q204.699 1099.06 208.079 1102.23 Q211.459 1105.4 211.459 1110.82 Q211.459 1116.39 207.987 1119.5 Q204.514 1122.58 198.195 1122.58 Q196.019 1122.58 193.75 1122.2 Q191.505 1121.83 189.098 1121.09 L189.098 1116.39 Q191.181 1117.53 193.403 1118.08 Q195.625 1118.64 198.102 1118.64 Q202.107 1118.64 204.445 1116.53 Q206.783 1114.43 206.783 1110.82 Q206.783 1107.21 204.445 1105.1 Q202.107 1102.99 198.102 1102.99 Q196.227 1102.99 194.352 1103.41 Q192.5 1103.83 190.556 1104.71 L190.556 1087.34 Z\" fill=\"#000000\" fill-rule=\"nonzero\" fill-opacity=\"1\" /><path clip-path=\"url(#clip040)\" d=\"M144.329 768.788 L162.686 768.788 L162.686 772.723 L148.612 772.723 L148.612 781.196 Q149.63 780.848 150.649 780.686 Q151.667 780.501 152.686 780.501 Q158.473 780.501 161.852 783.672 Q165.232 786.844 165.232 792.26 Q165.232 797.839 161.76 800.941 Q158.288 804.02 151.968 804.02 Q149.792 804.02 147.524 803.649 Q145.279 803.279 142.871 802.538 L142.871 797.839 Q144.954 798.973 147.177 799.529 Q149.399 800.084 151.876 800.084 Q155.88 800.084 158.218 797.978 Q160.556 795.871 160.556 792.26 Q160.556 788.649 158.218 786.543 Q155.88 784.436 151.876 784.436 Q150.001 784.436 148.126 784.853 Q146.274 785.27 144.329 786.149 L144.329 768.788 Z\" fill=\"#000000\" fill-rule=\"nonzero\" fill-opacity=\"1\" /><path clip-path=\"url(#clip040)\" d=\"M174.445 797.469 L179.329 797.469 L179.329 803.348 L174.445 803.348 L174.445 797.469 Z\" fill=\"#000000\" fill-rule=\"nonzero\" fill-opacity=\"1\" /><path clip-path=\"url(#clip040)\" d=\"M199.514 771.867 Q195.903 771.867 194.075 775.432 Q192.269 778.973 192.269 786.103 Q192.269 793.209 194.075 796.774 Q195.903 800.316 199.514 800.316 Q203.149 800.316 204.954 796.774 Q206.783 793.209 206.783 786.103 Q206.783 778.973 204.954 775.432 Q203.149 771.867 199.514 771.867 M199.514 768.163 Q205.324 768.163 208.38 772.77 Q211.459 777.353 211.459 786.103 Q211.459 794.83 208.38 799.436 Q205.324 804.02 199.514 804.02 Q193.704 804.02 190.625 799.436 Q187.57 794.83 187.57 786.103 Q187.57 777.353 190.625 772.77 Q193.704 768.163 199.514 768.163 Z\" fill=\"#000000\" fill-rule=\"nonzero\" fill-opacity=\"1\" /><path clip-path=\"url(#clip040)\" d=\"M144.098 450.232 L166.32 450.232 L166.32 452.223 L153.774 484.792 L148.89 484.792 L160.695 454.168 L144.098 454.168 L144.098 450.232 Z\" fill=\"#000000\" fill-rule=\"nonzero\" fill-opacity=\"1\" /><path clip-path=\"url(#clip040)\" d=\"M175.44 478.913 L180.325 478.913 L180.325 484.792 L175.44 484.792 L175.44 478.913 Z\" fill=\"#000000\" fill-rule=\"nonzero\" fill-opacity=\"1\" /><path clip-path=\"url(#clip040)\" d=\"M190.556 450.232 L208.912 450.232 L208.912 454.168 L194.838 454.168 L194.838 462.64 Q195.857 462.293 196.875 462.13 Q197.894 461.945 198.912 461.945 Q204.699 461.945 208.079 465.117 Q211.459 468.288 211.459 473.705 Q211.459 479.283 207.987 482.385 Q204.514 485.464 198.195 485.464 Q196.019 485.464 193.75 485.093 Q191.505 484.723 189.098 483.982 L189.098 479.283 Q191.181 480.417 193.403 480.973 Q195.625 481.529 198.102 481.529 Q202.107 481.529 204.445 479.422 Q206.783 477.316 206.783 473.705 Q206.783 470.093 204.445 467.987 Q202.107 465.88 198.102 465.88 Q196.227 465.88 194.352 466.297 Q192.5 466.714 190.556 467.593 L190.556 450.232 Z\" fill=\"#000000\" fill-rule=\"nonzero\" fill-opacity=\"1\" /><path clip-path=\"url(#clip040)\" d=\"M114.931 162.301 L122.57 162.301 L122.57 135.936 L114.26 137.602 L114.26 133.343 L122.524 131.677 L127.2 131.677 L127.2 162.301 L134.839 162.301 L134.839 166.237 L114.931 166.237 L114.931 162.301 Z\" fill=\"#000000\" fill-rule=\"nonzero\" fill-opacity=\"1\" /><path clip-path=\"url(#clip040)\" d=\"M154.283 134.755 Q150.672 134.755 148.843 138.32 Q147.038 141.862 147.038 148.991 Q147.038 156.098 148.843 159.663 Q150.672 163.204 154.283 163.204 Q157.917 163.204 159.723 159.663 Q161.552 156.098 161.552 148.991 Q161.552 141.862 159.723 138.32 Q157.917 134.755 154.283 134.755 M154.283 131.052 Q160.093 131.052 163.149 135.658 Q166.227 140.241 166.227 148.991 Q166.227 157.718 163.149 162.325 Q160.093 166.908 154.283 166.908 Q148.473 166.908 145.394 162.325 Q142.339 157.718 142.339 148.991 Q142.339 140.241 145.394 135.658 Q148.473 131.052 154.283 131.052 Z\" fill=\"#000000\" fill-rule=\"nonzero\" fill-opacity=\"1\" /><path clip-path=\"url(#clip040)\" d=\"M174.445 160.357 L179.329 160.357 L179.329 166.237 L174.445 166.237 L174.445 160.357 Z\" fill=\"#000000\" fill-rule=\"nonzero\" fill-opacity=\"1\" /><path clip-path=\"url(#clip040)\" d=\"M199.514 134.755 Q195.903 134.755 194.075 138.32 Q192.269 141.862 192.269 148.991 Q192.269 156.098 194.075 159.663 Q195.903 163.204 199.514 163.204 Q203.149 163.204 204.954 159.663 Q206.783 156.098 206.783 148.991 Q206.783 141.862 204.954 138.32 Q203.149 134.755 199.514 134.755 M199.514 131.052 Q205.324 131.052 208.38 135.658 Q211.459 140.241 211.459 148.991 Q211.459 157.718 208.38 162.325 Q205.324 166.908 199.514 166.908 Q193.704 166.908 190.625 162.325 Q187.57 157.718 187.57 148.991 Q187.57 140.241 190.625 135.658 Q193.704 131.052 199.514 131.052 Z\" fill=\"#000000\" fill-rule=\"nonzero\" fill-opacity=\"1\" /><path clip-path=\"url(#clip040)\" d=\"M21.7677 892.954 L39.6235 892.954 L39.6235 884.869 Q39.6235 880.381 37.3 877.93 Q34.9765 875.48 30.6797 875.48 Q26.4147 875.48 24.0912 877.93 Q21.7677 880.381 21.7677 884.869 L21.7677 892.954 M16.4842 899.383 L16.4842 884.869 Q16.4842 876.88 20.1126 872.806 Q23.7092 868.7 30.6797 868.7 Q37.7138 868.7 41.3104 872.806 Q44.907 876.88 44.907 884.869 L44.907 892.954 L64.0042 892.954 L64.0042 899.383 L16.4842 899.383 Z\" fill=\"#000000\" fill-rule=\"nonzero\" fill-opacity=\"1\" /><path clip-path=\"url(#clip040)\" d=\"M14.479 860.329 L14.479 854.473 L64.0042 854.473 L64.0042 860.329 L14.479 860.329 Z\" fill=\"#000000\" fill-rule=\"nonzero\" fill-opacity=\"1\" /><path clip-path=\"url(#clip040)\" d=\"M46.0847 826.018 Q46.0847 833.116 47.7079 835.853 Q49.3312 838.59 53.2461 838.59 Q56.3653 838.59 58.2114 836.553 Q60.0256 834.485 60.0256 830.952 Q60.0256 826.082 56.5881 823.154 Q53.1188 820.193 47.3897 820.193 L46.0847 820.193 L46.0847 826.018 M43.6657 814.337 L64.0042 814.337 L64.0042 820.193 L58.5933 820.193 Q61.8398 822.199 63.3994 825.191 Q64.9272 828.182 64.9272 832.511 Q64.9272 837.986 61.8716 841.232 Q58.7843 844.447 53.6281 844.447 Q47.6125 844.447 44.5569 840.436 Q41.5014 836.394 41.5014 828.405 L41.5014 820.193 L40.9285 820.193 Q36.8862 820.193 34.6901 822.867 Q32.4621 825.509 32.4621 830.315 Q32.4621 833.371 33.1941 836.267 Q33.9262 839.163 35.3903 841.837 L29.9795 841.837 Q28.7381 838.622 28.1334 835.599 Q27.4968 832.575 27.4968 829.71 Q27.4968 821.976 31.5072 818.156 Q35.5176 814.337 43.6657 814.337 Z\" fill=\"#000000\" fill-rule=\"nonzero\" fill-opacity=\"1\" /><path clip-path=\"url(#clip040)\" d=\"M67.3143 787.442 Q73.68 789.925 75.6216 792.28 Q77.5631 794.635 77.5631 798.582 L77.5631 803.261 L72.6615 803.261 L72.6615 799.823 Q72.6615 797.404 71.5157 796.067 Q70.3699 794.731 66.1048 793.107 L63.4312 792.057 L28.3562 806.475 L28.3562 800.269 L56.238 789.129 L28.3562 777.989 L28.3562 771.782 L67.3143 787.442 Z\" fill=\"#000000\" fill-rule=\"nonzero\" fill-opacity=\"1\" /><path clip-path=\"url(#clip040)\" d=\"M44.7161 733.206 L47.5806 733.206 L47.5806 760.133 Q53.6281 759.751 56.8109 756.505 Q59.9619 753.226 59.9619 747.402 Q59.9619 744.028 59.1344 740.877 Q58.3069 737.694 56.6518 734.575 L62.1899 734.575 Q63.5267 737.726 64.227 741.036 Q64.9272 744.346 64.9272 747.752 Q64.9272 756.282 59.9619 761.279 Q54.9967 766.244 46.5303 766.244 Q37.7774 766.244 32.6531 761.534 Q27.4968 756.791 27.4968 748.77 Q27.4968 741.577 32.1438 737.407 Q36.7589 733.206 44.7161 733.206 M42.9973 739.063 Q38.1912 739.126 35.3266 741.768 Q32.4621 744.378 32.4621 748.707 Q32.4621 753.608 35.2312 756.568 Q38.0002 759.496 43.0292 759.942 L42.9973 739.063 Z\" fill=\"#000000\" fill-rule=\"nonzero\" fill-opacity=\"1\" /><path clip-path=\"url(#clip040)\" d=\"M33.8307 702.937 Q33.2578 703.924 33.0032 705.102 Q32.7167 706.247 32.7167 707.648 Q32.7167 712.613 35.9632 715.287 Q39.1779 717.928 45.2253 717.928 L64.0042 717.928 L64.0042 723.817 L28.3562 723.817 L28.3562 717.928 L33.8944 717.928 Q30.6479 716.082 29.0883 713.122 Q27.4968 710.162 27.4968 705.929 Q27.4968 705.324 27.5923 704.592 Q27.656 703.86 27.8151 702.969 L33.8307 702.937 Z\" fill=\"#000000\" fill-rule=\"nonzero\" fill-opacity=\"1\" /><path clip-path=\"url(#clip040)\" d=\"M58.5933 669.708 L58.5933 647.269 L64.0042 647.269 L64.0042 677.443 L58.5933 677.443 Q54.8057 673.782 48.44 667.48 Q42.0425 661.146 40.1964 659.523 Q36.7271 656.436 34.34 655.226 Q31.921 653.985 29.5975 653.985 Q25.8099 653.985 23.4228 656.658 Q21.0356 659.3 21.0356 663.565 Q21.0356 666.589 22.086 669.963 Q23.1363 673.305 25.2688 677.124 L18.7758 677.124 Q17.2162 673.241 16.4205 669.867 Q15.6248 666.494 15.6248 663.693 Q15.6248 656.308 19.3169 651.916 Q23.009 647.524 29.1837 647.524 Q32.112 647.524 34.7537 648.638 Q37.3637 649.72 40.9285 652.616 Q41.8515 653.412 46.2757 657.677 Q50.668 661.942 58.5933 669.708 Z\" fill=\"#000000\" fill-rule=\"nonzero\" fill-opacity=\"1\" /><path clip-path=\"url(#clip040)\" d=\"M856.594 18.8205 L856.594 41.5461 L866.883 41.5461 Q872.595 41.5461 875.714 38.5889 Q878.834 35.6318 878.834 30.163 Q878.834 24.7348 875.714 21.7777 Q872.595 18.8205 866.883 18.8205 L856.594 18.8205 M848.411 12.096 L866.883 12.096 Q877.051 12.096 882.236 16.714 Q887.462 21.2916 887.462 30.163 Q887.462 39.1155 882.236 43.6931 Q877.051 48.2706 866.883 48.2706 L856.594 48.2706 L856.594 72.576 L848.411 72.576 L848.411 12.096 Z\" fill=\"#000000\" fill-rule=\"nonzero\" fill-opacity=\"1\" /><path clip-path=\"url(#clip040)\" d=\"M922.948 34.1734 Q921.692 33.4443 920.193 33.1202 Q918.735 32.7556 916.953 32.7556 Q910.633 32.7556 907.23 36.8875 Q903.868 40.9789 903.868 48.6757 L903.868 72.576 L896.374 72.576 L896.374 27.2059 L903.868 27.2059 L903.868 34.2544 Q906.218 30.1225 909.985 28.1376 Q913.752 26.1121 919.14 26.1121 Q919.91 26.1121 920.841 26.2337 Q921.773 26.3147 922.907 26.5172 L922.948 34.1734 Z\" fill=\"#000000\" fill-rule=\"nonzero\" fill-opacity=\"1\" /><path clip-path=\"url(#clip040)\" d=\"M946.524 32.4315 Q940.529 32.4315 937.045 37.1306 Q933.561 41.7891 933.561 49.9314 Q933.561 58.0738 937.005 62.7728 Q940.488 67.4314 946.524 67.4314 Q952.479 67.4314 955.963 62.7323 Q959.447 58.0333 959.447 49.9314 Q959.447 41.8701 955.963 37.1711 Q952.479 32.4315 946.524 32.4315 M946.524 26.1121 Q956.246 26.1121 961.796 32.4315 Q967.346 38.7509 967.346 49.9314 Q967.346 61.0714 961.796 67.4314 Q956.246 73.7508 946.524 73.7508 Q936.761 73.7508 931.212 67.4314 Q925.702 61.0714 925.702 49.9314 Q925.702 38.7509 931.212 32.4315 Q936.761 26.1121 946.524 26.1121 Z\" fill=\"#000000\" fill-rule=\"nonzero\" fill-opacity=\"1\" /><path clip-path=\"url(#clip040)\" d=\"M1009.56 49.3643 Q1009.56 41.2625 1006.19 36.8065 Q1002.87 32.3505 996.836 32.3505 Q990.841 32.3505 987.479 36.8065 Q984.157 41.2625 984.157 49.3643 Q984.157 57.4256 987.479 61.8816 Q990.841 66.3376 996.836 66.3376 Q1002.87 66.3376 1006.19 61.8816 Q1009.56 57.4256 1009.56 49.3643 M1017.01 66.9452 Q1017.01 78.5308 1011.87 84.1616 Q1006.72 89.8329 996.107 89.8329 Q992.178 89.8329 988.694 89.2252 Q985.21 88.6581 981.929 87.4428 L981.929 80.1917 Q985.21 81.9741 988.41 82.8248 Q991.611 83.6755 994.932 83.6755 Q1002.26 83.6755 1005.91 79.8271 Q1009.56 76.0193 1009.56 68.282 L1009.56 64.5957 Q1007.25 68.6061 1003.64 70.5911 Q1000.04 72.576 995.013 72.576 Q986.669 72.576 981.564 66.2161 Q976.46 59.8562 976.46 49.3643 Q976.46 38.832 981.564 32.472 Q986.669 26.1121 995.013 26.1121 Q1000.04 26.1121 1003.64 28.0971 Q1007.25 30.082 1009.56 34.0924 L1009.56 27.2059 L1017.01 27.2059 L1017.01 66.9452 Z\" fill=\"#000000\" fill-rule=\"nonzero\" fill-opacity=\"1\" /><path clip-path=\"url(#clip040)\" d=\"M1058.65 34.1734 Q1057.4 33.4443 1055.9 33.1202 Q1054.44 32.7556 1052.66 32.7556 Q1046.34 32.7556 1042.94 36.8875 Q1039.57 40.9789 1039.57 48.6757 L1039.57 72.576 L1032.08 72.576 L1032.08 27.2059 L1039.57 27.2059 L1039.57 34.2544 Q1041.92 30.1225 1045.69 28.1376 Q1049.46 26.1121 1054.85 26.1121 Q1055.61 26.1121 1056.55 26.2337 Q1057.48 26.3147 1058.61 26.5172 L1058.65 34.1734 Z\" fill=\"#000000\" fill-rule=\"nonzero\" fill-opacity=\"1\" /><path clip-path=\"url(#clip040)\" d=\"M1103.46 48.0275 L1103.46 51.6733 L1069.19 51.6733 Q1069.67 59.3701 1073.8 63.421 Q1077.98 67.4314 1085.39 67.4314 Q1089.68 67.4314 1093.69 66.3781 Q1097.74 65.3249 1101.71 63.2184 L1101.71 70.267 Q1097.7 71.9684 1093.49 72.8596 Q1089.28 73.7508 1084.94 73.7508 Q1074.09 73.7508 1067.73 67.4314 Q1061.41 61.1119 1061.41 50.3365 Q1061.41 39.1965 1067.4 32.6746 Q1073.44 26.1121 1083.65 26.1121 Q1092.8 26.1121 1098.11 32.0264 Q1103.46 37.9003 1103.46 48.0275 M1096 45.84 Q1095.92 39.7232 1092.56 36.0774 Q1089.24 32.4315 1083.73 32.4315 Q1077.49 32.4315 1073.72 35.9558 Q1070 39.4801 1069.43 45.8805 L1096 45.84 Z\" fill=\"#000000\" fill-rule=\"nonzero\" fill-opacity=\"1\" /><path clip-path=\"url(#clip040)\" d=\"M1144.61 28.5427 L1144.61 35.5912 Q1141.45 33.9709 1138.05 33.1607 Q1134.65 32.3505 1131 32.3505 Q1125.45 32.3505 1122.66 34.0519 Q1119.9 35.7533 1119.9 39.156 Q1119.9 41.7486 1121.89 43.2475 Q1123.87 44.7058 1129.87 46.0426 L1132.42 46.6097 Q1140.36 48.3111 1143.68 51.4303 Q1147.04 54.509 1147.04 60.0587 Q1147.04 66.3781 1142.02 70.0644 Q1137.04 73.7508 1128.29 73.7508 Q1124.64 73.7508 1120.67 73.0216 Q1116.74 72.3329 1112.37 70.9151 L1112.37 63.2184 Q1116.5 65.3654 1120.51 66.4591 Q1124.52 67.5124 1128.45 67.5124 Q1133.72 67.5124 1136.55 65.73 Q1139.39 63.9071 1139.39 60.6258 Q1139.39 57.5877 1137.32 55.9673 Q1135.3 54.3469 1128.37 52.8481 L1125.78 52.2405 Q1118.85 50.7821 1115.77 47.7845 Q1112.69 44.7463 1112.69 39.4801 Q1112.69 33.0797 1117.23 29.5959 Q1121.77 26.1121 1130.11 26.1121 Q1134.24 26.1121 1137.89 26.7198 Q1141.53 27.3274 1144.61 28.5427 Z\" fill=\"#000000\" fill-rule=\"nonzero\" fill-opacity=\"1\" /><path clip-path=\"url(#clip040)\" d=\"M1187.84 28.5427 L1187.84 35.5912 Q1184.68 33.9709 1181.27 33.1607 Q1177.87 32.3505 1174.23 32.3505 Q1168.68 32.3505 1165.88 34.0519 Q1163.13 35.7533 1163.13 39.156 Q1163.13 41.7486 1165.11 43.2475 Q1167.1 44.7058 1173.09 46.0426 L1175.64 46.6097 Q1183.58 48.3111 1186.9 51.4303 Q1190.27 54.509 1190.27 60.0587 Q1190.27 66.3781 1185.24 70.0644 Q1180.26 73.7508 1171.51 73.7508 Q1167.87 73.7508 1163.9 73.0216 Q1159.97 72.3329 1155.59 70.9151 L1155.59 63.2184 Q1159.72 65.3654 1163.73 66.4591 Q1167.74 67.5124 1171.67 67.5124 Q1176.94 67.5124 1179.78 65.73 Q1182.61 63.9071 1182.61 60.6258 Q1182.61 57.5877 1180.54 55.9673 Q1178.52 54.3469 1171.59 52.8481 L1169 52.2405 Q1162.07 50.7821 1158.99 47.7845 Q1155.92 44.7463 1155.92 39.4801 Q1155.92 33.0797 1160.45 29.5959 Q1164.99 26.1121 1173.33 26.1121 Q1177.47 26.1121 1181.11 26.7198 Q1184.76 27.3274 1187.84 28.5427 Z\" fill=\"#000000\" fill-rule=\"nonzero\" fill-opacity=\"1\" /><path clip-path=\"url(#clip040)\" d=\"M1246.09 32.4315 Q1240.09 32.4315 1236.61 37.1306 Q1233.13 41.7891 1233.13 49.9314 Q1233.13 58.0738 1236.57 62.7728 Q1240.05 67.4314 1246.09 67.4314 Q1252.04 67.4314 1255.53 62.7323 Q1259.01 58.0333 1259.01 49.9314 Q1259.01 41.8701 1255.53 37.1711 Q1252.04 32.4315 1246.09 32.4315 M1246.09 26.1121 Q1255.81 26.1121 1261.36 32.4315 Q1266.91 38.7509 1266.91 49.9314 Q1266.91 61.0714 1261.36 67.4314 Q1255.81 73.7508 1246.09 73.7508 Q1236.33 73.7508 1230.78 67.4314 Q1225.27 61.0714 1225.27 49.9314 Q1225.27 38.7509 1230.78 32.4315 Q1236.33 26.1121 1246.09 26.1121 Z\" fill=\"#000000\" fill-rule=\"nonzero\" fill-opacity=\"1\" /><path clip-path=\"url(#clip040)\" d=\"M1302.23 9.54393 L1302.23 15.7418 L1295.1 15.7418 Q1291.09 15.7418 1289.51 17.3622 Q1287.97 18.9825 1287.97 23.1955 L1287.97 27.2059 L1300.25 27.2059 L1300.25 32.9987 L1287.97 32.9987 L1287.97 72.576 L1280.48 72.576 L1280.48 32.9987 L1273.35 32.9987 L1273.35 27.2059 L1280.48 27.2059 L1280.48 24.0462 Q1280.48 16.471 1284 13.0277 Q1287.53 9.54393 1295.19 9.54393 L1302.23 9.54393 Z\" fill=\"#000000\" fill-rule=\"nonzero\" fill-opacity=\"1\" /><path clip-path=\"url(#clip040)\" d=\"M1364.7 34.0924 L1364.7 9.54393 L1372.15 9.54393 L1372.15 72.576 L1364.7 72.576 L1364.7 65.7705 Q1362.35 69.8214 1358.74 71.8063 Q1355.18 73.7508 1350.16 73.7508 Q1341.93 73.7508 1336.75 67.1883 Q1331.6 60.6258 1331.6 49.9314 Q1331.6 39.2371 1336.75 32.6746 Q1341.93 26.1121 1350.16 26.1121 Q1355.18 26.1121 1358.74 28.0971 Q1362.35 30.0415 1364.7 34.0924 M1339.3 49.9314 Q1339.3 58.1548 1342.66 62.8538 Q1346.06 67.5124 1351.98 67.5124 Q1357.89 67.5124 1361.3 62.8538 Q1364.7 58.1548 1364.7 49.9314 Q1364.7 41.7081 1361.3 37.0496 Q1357.89 32.3505 1351.98 32.3505 Q1346.06 32.3505 1342.66 37.0496 Q1339.3 41.7081 1339.3 49.9314 Z\" fill=\"#000000\" fill-rule=\"nonzero\" fill-opacity=\"1\" /><path clip-path=\"url(#clip040)\" d=\"M1426.31 48.0275 L1426.31 51.6733 L1392.04 51.6733 Q1392.53 59.3701 1396.66 63.421 Q1400.83 67.4314 1408.25 67.4314 Q1412.54 67.4314 1416.55 66.3781 Q1420.6 65.3249 1424.57 63.2184 L1424.57 70.267 Q1420.56 71.9684 1416.35 72.8596 Q1412.14 73.7508 1407.8 73.7508 Q1396.94 73.7508 1390.58 67.4314 Q1384.26 61.1119 1384.26 50.3365 Q1384.26 39.1965 1390.26 32.6746 Q1396.3 26.1121 1406.5 26.1121 Q1415.66 26.1121 1420.97 32.0264 Q1426.31 37.9003 1426.31 48.0275 M1418.86 45.84 Q1418.78 39.7232 1415.42 36.0774 Q1412.09 32.4315 1406.59 32.4315 Q1400.35 32.4315 1396.58 35.9558 Q1392.85 39.4801 1392.29 45.8805 L1418.86 45.84 Z\" fill=\"#000000\" fill-rule=\"nonzero\" fill-opacity=\"1\" /><path clip-path=\"url(#clip040)\" d=\"M1433.2 27.2059 L1441.1 27.2059 L1455.28 65.2844 L1469.46 27.2059 L1477.35 27.2059 L1460.34 72.576 L1450.21 72.576 L1433.2 27.2059 Z\" fill=\"#000000\" fill-rule=\"nonzero\" fill-opacity=\"1\" /><path clip-path=\"url(#clip040)\" d=\"M1487.64 27.2059 L1495.1 27.2059 L1495.1 72.576 L1487.64 72.576 L1487.64 27.2059 M1487.64 9.54393 L1495.1 9.54393 L1495.1 18.9825 L1487.64 18.9825 L1487.64 9.54393 Z\" fill=\"#000000\" fill-rule=\"nonzero\" fill-opacity=\"1\" /><path clip-path=\"url(#clip040)\" d=\"M1531.31 49.7694 Q1522.28 49.7694 1518.8 51.8354 Q1515.31 53.9013 1515.31 58.8839 Q1515.31 62.8538 1517.9 65.2034 Q1520.54 67.5124 1525.03 67.5124 Q1531.23 67.5124 1534.96 63.1374 Q1538.73 58.7219 1538.73 51.4303 L1538.73 49.7694 L1531.31 49.7694 M1546.18 46.6907 L1546.18 72.576 L1538.73 72.576 L1538.73 65.6895 Q1536.17 69.8214 1532.37 71.8063 Q1528.56 73.7508 1523.05 73.7508 Q1516.08 73.7508 1511.95 69.8619 Q1507.86 65.9325 1507.86 59.3701 Q1507.86 51.7138 1512.96 47.825 Q1518.11 43.9361 1528.27 43.9361 L1538.73 43.9361 L1538.73 43.2069 Q1538.73 38.0623 1535.32 35.2672 Q1531.96 32.4315 1525.84 32.4315 Q1521.96 32.4315 1518.27 33.3632 Q1514.58 34.295 1511.18 36.1584 L1511.18 29.2718 Q1515.27 27.692 1519.12 26.9223 Q1522.97 26.1121 1526.61 26.1121 Q1536.46 26.1121 1541.32 31.2163 Q1546.18 36.3204 1546.18 46.6907 Z\" fill=\"#000000\" fill-rule=\"nonzero\" fill-opacity=\"1\" /><path clip-path=\"url(#clip040)\" d=\"M1568.91 14.324 L1568.91 27.2059 L1584.26 27.2059 L1584.26 32.9987 L1568.91 32.9987 L1568.91 57.6282 Q1568.91 63.1779 1570.4 64.7578 Q1571.94 66.3376 1576.6 66.3376 L1584.26 66.3376 L1584.26 72.576 L1576.6 72.576 Q1567.97 72.576 1564.69 69.3758 Q1561.41 66.1351 1561.41 57.6282 L1561.41 32.9987 L1555.94 32.9987 L1555.94 27.2059 L1561.41 27.2059 L1561.41 14.324 L1568.91 14.324 Z\" fill=\"#000000\" fill-rule=\"nonzero\" fill-opacity=\"1\" /><path clip-path=\"url(#clip040)\" d=\"M1594.06 27.2059 L1601.51 27.2059 L1601.51 72.576 L1594.06 72.576 L1594.06 27.2059 M1594.06 9.54393 L1601.51 9.54393 L1601.51 18.9825 L1594.06 18.9825 L1594.06 9.54393 Z\" fill=\"#000000\" fill-rule=\"nonzero\" fill-opacity=\"1\" /><path clip-path=\"url(#clip040)\" d=\"M1634.69 32.4315 Q1628.7 32.4315 1625.21 37.1306 Q1621.73 41.7891 1621.73 49.9314 Q1621.73 58.0738 1625.17 62.7728 Q1628.66 67.4314 1634.69 67.4314 Q1640.65 67.4314 1644.13 62.7323 Q1647.61 58.0333 1647.61 49.9314 Q1647.61 41.8701 1644.13 37.1711 Q1640.65 32.4315 1634.69 32.4315 M1634.69 26.1121 Q1644.41 26.1121 1649.96 32.4315 Q1655.51 38.7509 1655.51 49.9314 Q1655.51 61.0714 1649.96 67.4314 Q1644.41 73.7508 1634.69 73.7508 Q1624.93 73.7508 1619.38 67.4314 Q1613.87 61.0714 1613.87 49.9314 Q1613.87 38.7509 1619.38 32.4315 Q1624.93 26.1121 1634.69 26.1121 Z\" fill=\"#000000\" fill-rule=\"nonzero\" fill-opacity=\"1\" /><path clip-path=\"url(#clip040)\" d=\"M1705.58 45.1919 L1705.58 72.576 L1698.13 72.576 L1698.13 45.4349 Q1698.13 38.994 1695.62 35.7938 Q1693.11 32.5936 1688.08 32.5936 Q1682.05 32.5936 1678.56 36.4419 Q1675.08 40.2903 1675.08 46.9338 L1675.08 72.576 L1667.59 72.576 L1667.59 27.2059 L1675.08 27.2059 L1675.08 34.2544 Q1677.75 30.163 1681.36 28.1376 Q1685 26.1121 1689.74 26.1121 Q1697.56 26.1121 1701.57 30.9732 Q1705.58 35.7938 1705.58 45.1919 Z\" fill=\"#000000\" fill-rule=\"nonzero\" fill-opacity=\"1\" /><path clip-path=\"url(#clip040)\" d=\"M1749.37 28.5427 L1749.37 35.5912 Q1746.21 33.9709 1742.81 33.1607 Q1739.41 32.3505 1735.76 32.3505 Q1730.21 32.3505 1727.42 34.0519 Q1724.66 35.7533 1724.66 39.156 Q1724.66 41.7486 1726.65 43.2475 Q1728.63 44.7058 1734.63 46.0426 L1737.18 46.6097 Q1745.12 48.3111 1748.44 51.4303 Q1751.8 54.509 1751.8 60.0587 Q1751.8 66.3781 1746.78 70.0644 Q1741.8 73.7508 1733.05 73.7508 Q1729.4 73.7508 1725.43 73.0216 Q1721.5 72.3329 1717.13 70.9151 L1717.13 63.2184 Q1721.26 65.3654 1725.27 66.4591 Q1729.28 67.5124 1733.21 67.5124 Q1738.48 67.5124 1741.31 65.73 Q1744.15 63.9071 1744.15 60.6258 Q1744.15 57.5877 1742.08 55.9673 Q1740.06 54.3469 1733.13 52.8481 L1730.54 52.2405 Q1723.61 50.7821 1720.53 47.7845 Q1717.45 44.7463 1717.45 39.4801 Q1717.45 33.0797 1721.99 29.5959 Q1726.53 26.1121 1734.87 26.1121 Q1739 26.1121 1742.65 26.7198 Q1746.29 27.3274 1749.37 28.5427 Z\" fill=\"#000000\" fill-rule=\"nonzero\" fill-opacity=\"1\" /><polyline clip-path=\"url(#clip042)\" style=\"stroke:#009af9; stroke-linecap:round; stroke-linejoin:round; stroke-width:4; stroke-opacity:1; fill:none\" points=\"2311.48,148.957 2311.48,786.068 763.463,786.068 763.463,1263.9 376.46,1263.9 376.46,1383.36 \"/>\n",
       "<circle clip-path=\"url(#clip042)\" cx=\"2311.48\" cy=\"148.957\" r=\"14.4\" fill=\"#009af9\" fill-rule=\"evenodd\" fill-opacity=\"1\" stroke=\"#000000\" stroke-opacity=\"1\" stroke-width=\"3.2\"/>\n",
       "<circle clip-path=\"url(#clip042)\" cx=\"2311.48\" cy=\"786.068\" r=\"14.4\" fill=\"#009af9\" fill-rule=\"evenodd\" fill-opacity=\"1\" stroke=\"#000000\" stroke-opacity=\"1\" stroke-width=\"3.2\"/>\n",
       "<circle clip-path=\"url(#clip042)\" cx=\"763.463\" cy=\"786.068\" r=\"14.4\" fill=\"#009af9\" fill-rule=\"evenodd\" fill-opacity=\"1\" stroke=\"#000000\" stroke-opacity=\"1\" stroke-width=\"3.2\"/>\n",
       "<circle clip-path=\"url(#clip042)\" cx=\"763.463\" cy=\"1263.9\" r=\"14.4\" fill=\"#009af9\" fill-rule=\"evenodd\" fill-opacity=\"1\" stroke=\"#000000\" stroke-opacity=\"1\" stroke-width=\"3.2\"/>\n",
       "<circle clip-path=\"url(#clip042)\" cx=\"376.46\" cy=\"1263.9\" r=\"14.4\" fill=\"#009af9\" fill-rule=\"evenodd\" fill-opacity=\"1\" stroke=\"#000000\" stroke-opacity=\"1\" stroke-width=\"3.2\"/>\n",
       "<circle clip-path=\"url(#clip042)\" cx=\"376.46\" cy=\"1383.36\" r=\"14.4\" fill=\"#009af9\" fill-rule=\"evenodd\" fill-opacity=\"1\" stroke=\"#000000\" stroke-opacity=\"1\" stroke-width=\"3.2\"/>\n",
       "</svg>\n"
      ]
     },
     "metadata": {},
     "output_type": "display_data"
    }
   ],
   "source": [
    "k = 1\n",
    "points = []\n",
    "while true\n",
    "    i::Integer = floor(k / 2) + 1\n",
    "    j::Integer = floor((k-1) / 2) + 1\n",
    "\n",
    "    if i > length(S_X[1]) || j > length(S_X[2])\n",
    "        break\n",
    "    else\n",
    "        push!(points, [S_X[1][i][1], S_X[2][j][1]])\n",
    "        k += 1\n",
    "    end\n",
    "end\n",
    "\n",
    "plot([p[2] for p in points], [p[1] for p in points], marker=:c, title=\"Progress of deviations\", legend=false)\n",
    "# plot!(xscale=:log10, yscale=:log10)\n",
    "xlabel!(\"Player 1\")\n",
    "ylabel!(\"Player 2\")\n",
    "xlims!(0,10.2)\n",
    "ylims!(0,10.2)"
   ]
  }
 ],
 "metadata": {
  "kernelspec": {
   "display_name": "Julia 1.11.2",
   "language": "julia",
   "name": "julia-1.11"
  },
  "language_info": {
   "file_extension": ".jl",
   "mimetype": "application/julia",
   "name": "julia",
   "version": "1.11.2"
  }
 },
 "nbformat": 4,
 "nbformat_minor": 2
}
