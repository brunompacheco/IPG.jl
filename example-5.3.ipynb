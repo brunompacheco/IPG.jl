{
 "cells": [
  {
   "cell_type": "code",
   "execution_count": 1,
   "metadata": {},
   "outputs": [],
   "source": [
    "using JuMP, Gurobi, IPG"
   ]
  },
  {
   "cell_type": "code",
   "execution_count": 2,
   "metadata": {},
   "outputs": [],
   "source": [
    "n = m = 2\n",
    "\n",
    "X = [Strategies(-1, 0, 0), Strategies(-1, 0, 0)]\n",
    "Π = [QuadraticPayoff(0, [2, 1]), QuadraticPayoff(0, [1, 2])]\n",
    ";"
   ]
  },
  {
   "cell_type": "code",
   "execution_count": 3,
   "metadata": {},
   "outputs": [
    {
     "data": {
      "text/plain": [
       "0.0"
      ]
     },
     "metadata": {},
     "output_type": "display_data"
    }
   ],
   "source": [
    "x = [[0],[0]]\n",
    "payoff(Π, x, 1)"
   ]
  },
  {
   "cell_type": "markdown",
   "metadata": {},
   "source": [
    "# Step 1: Initialization\n",
    "\n",
    "Compute one pure strategy for each player. Build sampled normal-form game."
   ]
  },
  {
   "cell_type": "code",
   "execution_count": 4,
   "metadata": {},
   "outputs": [
    {
     "name": "stdout",
     "output_type": "stream",
     "text": [
      "Set parameter WLSAccessID\n",
      "Set parameter WLSSecret\n",
      "Set parameter LicenseID to value 2562957\n",
      "Academic license 2562957 - for non-commercial use only - registered to br___@umontreal.ca\n",
      "Set parameter WLSAccessID\n",
      "Set parameter WLSSecret\n",
      "Set parameter LicenseID to value 2562957\n",
      "Academic license 2562957 - for non-commercial use only - registered to br___@umontreal.ca\n"
     ]
    },
    {
     "data": {
      "text/plain": [
       "2-element Vector{Vector{Float64}}:\n",
       " [0.0]\n",
       " [0.0]"
      ]
     },
     "metadata": {},
     "output_type": "display_data"
    }
   ],
   "source": [
    "function find_feasible_pure_strategy(Xp::Strategies, Πp::QuadraticPayoff)\n",
    "    Ap, bp, Bp = Xp.Ap, Xp.bp, Xp.Bp\n",
    "\n",
    "    # Create a new model to solve the feasibility problem\n",
    "    m = Model(Gurobi.Optimizer)\n",
    "    @variable(m, xp[1:np(Xp)])\n",
    "    for i in 1:Bp  # TODO: there's probably a cleaner way to do this\n",
    "        set_binary(xp[i])\n",
    "    end\n",
    "    @constraint(m, Ap * xp <= bp)\n",
    "    @objective(m, Min, 0)  # Feasibility!\n",
    "\n",
    "    set_silent(m)\n",
    "    optimize!(m)\n",
    "\n",
    "    return value.(xp)\n",
    "end\n",
    "\n",
    "function find_feasible_pure_profile(X::Vector{Strategies}, Π::Vector{QuadraticPayoff})\n",
    "    return [find_feasible_pure_strategy(Xp, Πp) for (Xp, Πp) in zip(X, Π)]\n",
    "end\n",
    "\n",
    "x = find_feasible_pure_profile(X, Π)"
   ]
  },
  {
   "cell_type": "code",
   "execution_count": 5,
   "metadata": {},
   "outputs": [
    {
     "data": {
      "text/plain": [
       "2-element Vector{Vector{Float64}}:\n",
       " [10.0]\n",
       " [10.0]"
      ]
     },
     "metadata": {},
     "output_type": "display_data"
    }
   ],
   "source": [
    "x[1][1] = 10\n",
    "x[2][1] = 10\n",
    "x"
   ]
  },
  {
   "cell_type": "code",
   "execution_count": 6,
   "metadata": {},
   "outputs": [],
   "source": [
    "# sample of strategies\n",
    "S_X = [Vector{Vector{Float64}}() for p in 1:m]\n",
    "# S_X[p,j,i] is the i-th dimension of the j-th strategy of player p\n",
    "\n",
    "for p in 1:m\n",
    "    # add to sample the new strategy\n",
    "    push!(S_X[p], x[p])\n",
    "end"
   ]
  },
  {
   "cell_type": "code",
   "execution_count": 7,
   "metadata": {},
   "outputs": [],
   "source": [
    "# for p in 1:m\n",
    "#     # add to sample the new strategy\n",
    "#     push!(S_X[p], [1.0])\n",
    "# end"
   ]
  },
  {
   "cell_type": "markdown",
   "metadata": {},
   "source": [
    "# Step 2: Solve sampled game\n",
    "\n",
    "Compute a solution to the normal-form game with the sampled strategies."
   ]
  },
  {
   "cell_type": "code",
   "execution_count": 8,
   "metadata": {},
   "outputs": [],
   "source": [
    "# TODO: making the polymatrix with \"self-produced utilities\" breaks the algorithms in \n",
    "# NormalGames. I don't know why this is, but it is mentioned that they assume so in a\n",
    "# comment of function `GenerateGame`.\n",
    "\n",
    "# function get_polymatrix(S_X::Vector{<:Vector{<:Vector{<:Real}}}, Π::Vector{QuadraticPayoff})\n",
    "#     m = length(S_X)\n",
    "\n",
    "#     dims = [length(S_X[p]) for p in 1:m]\n",
    "\n",
    "#     polymatrix = Dict{Tuple{Integer, Integer}, Matrix{Float64}}()\n",
    "\n",
    "#     # compute utility of each player `p` using strategy `i_p` against player `k` using strategy `i_k`\n",
    "#     for p in 1:m\n",
    "#         for k in 1:m\n",
    "#             polymatrix[p,k] = zeros(length(S_X[p]), length(S_X[k]))\n",
    "\n",
    "#             if k == p  # fills only the diagonal\n",
    "#                 # TODO: this could be optimized by storing just the diagonal as well\n",
    "#                 for i_p in 1:length(S_X[p])\n",
    "#                     polymatrix[p,p][i_p,i_p] = IPG.bilateral_payoff(Π[p], p, S_X[p][i_p], p, S_X[p][i_p])\n",
    "#                 end\n",
    "#             else\n",
    "#                 for i_p in 1:length(S_X[p])\n",
    "#                     for i_k in 1:length(S_X[k])\n",
    "#                         polymatrix[p,k][i_p,i_k] = IPG.bilateral_payoff(Π[p], p, S_X[p][i_p], k, S_X[k][i_k])\n",
    "#                     end\n",
    "#                 end\n",
    "#             end\n",
    "#         end\n",
    "#     end\n",
    "\n",
    "#     return polymatrix\n",
    "# end\n",
    "\n",
    "# polymatrix = get_polymatrix(S_X, Π)"
   ]
  },
  {
   "cell_type": "code",
   "execution_count": 27,
   "metadata": {},
   "outputs": [
    {
     "data": {
      "text/plain": [
       "Dict{Tuple{Integer, Integer}, Matrix{Float64}} with 4 entries:\n",
       "  (1, 2) => [0.0 -75.0; 25.0 -12.5]\n",
       "  (1, 1) => [0.0 0.0; 0.0 0.0]\n",
       "  (2, 2) => [0.0 0.0; 0.0 0.0]\n",
       "  (2, 1) => [0.0 -50.0; 18.75 6.25]"
      ]
     },
     "metadata": {},
     "output_type": "display_data"
    }
   ],
   "source": [
    "function get_polymatrix(S_X::Vector{<:Vector{<:Vector{<:Real}}}, Π::Vector{QuadraticPayoff})\n",
    "    m = length(S_X)\n",
    "\n",
    "    dims = [length(S_X[p]) for p in 1:m]\n",
    "\n",
    "    polymatrix = Dict{Tuple{Integer, Integer}, Matrix{Float64}}()\n",
    "\n",
    "    # compute utility of each player `p` using strategy `i_p` against player `k` using strategy `i_k`\n",
    "    for p in 1:m\n",
    "        for k in 1:m\n",
    "            polymatrix[p,k] = zeros(length(S_X[p]), length(S_X[k]))\n",
    "\n",
    "            if k != p  # fills only the diagonal\n",
    "                for i_p in 1:length(S_X[p])\n",
    "                    for i_k in 1:length(S_X[k])\n",
    "                        polymatrix[p,k][i_p,i_k] = (\n",
    "                            IPG.bilateral_payoff(Π[p], p, S_X[p][i_p], k, S_X[k][i_k])\n",
    "                            + IPG.bilateral_payoff(Π[p], p, S_X[p][i_p], p, S_X[p][i_p])\n",
    "                        )\n",
    "                    end\n",
    "                end\n",
    "            end\n",
    "        end\n",
    "    end\n",
    "\n",
    "    return polymatrix\n",
    "end\n",
    "\n",
    "polymatrix = get_polymatrix(S_X, Π)"
   ]
  },
  {
   "cell_type": "code",
   "execution_count": 28,
   "metadata": {},
   "outputs": [
    {
     "data": {
      "text/plain": [
       "NormalGames.NormalGame(2, [2, 2], Dict((1, 2) => [0.0 -75.0; 25.0 -12.5], (1, 1) => [0.0 0.0; 0.0 0.0], (2, 2) => [0.0 0.0; 0.0 0.0], (2, 1) => [0.0 -50.0; 18.75 6.25]))"
      ]
     },
     "metadata": {},
     "output_type": "display_data"
    }
   ],
   "source": [
    "using NormalGames\n",
    "\n",
    "G = NormalGames.NormalGame(m, length.(S_X), polymatrix)"
   ]
  },
  {
   "cell_type": "code",
   "execution_count": 29,
   "metadata": {},
   "outputs": [
    {
     "name": "stdout",
     "output_type": "stream",
     "text": [
      "Set parameter WLSAccessID\n",
      "Set parameter WLSSecret\n",
      "Set parameter LicenseID to value 2562957\n",
      "Academic license 2562957 - for non-commercial use only - registered to br___@umontreal.ca\n",
      "Set parameter WLSAccessID\n",
      "Set parameter WLSSecret\n",
      "Set parameter LicenseID to value 2562957\n",
      "Academic license 2562957 - for non-commercial use only - registered to br___@umontreal.ca\n",
      "Set parameter WLSAccessID\n",
      "Set parameter WLSSecret\n",
      "Set parameter LicenseID to value 2562957\n",
      "Academic license 2562957 - for non-commercial use only - registered to br___@umontreal.ca\n",
      "Set parameter WLSAccessID\n",
      "Set parameter WLSSecret\n",
      "Set parameter LicenseID to value 2562957\n",
      "Academic license 2562957 - for non-commercial use only - registered to br___@umontreal.ca\n"
     ]
    },
    {
     "data": {
      "text/plain": [
       "2-element Vector{Vector{Float64}}:\n",
       " [0.0, 1.0]\n",
       " [0.0, 1.0]"
      ]
     },
     "metadata": {},
     "output_type": "display_data"
    }
   ],
   "source": [
    "t, NE_utilities, NE_mixed = NormalGames.NashEquilibriaPNS(G,false,false,false)\n",
    "# each element in NE_mixed is a mixed NE, represented as a vector of probabilities in the same shape as S_X\n",
    "\n",
    "NE_mixed = NE_mixed[1]  # take the first NE"
   ]
  },
  {
   "cell_type": "code",
   "execution_count": 30,
   "metadata": {},
   "outputs": [
    {
     "data": {
      "text/plain": [
       "2-element Vector{DiscreteMixedStrategy}:\n",
       " DiscreteMixedStrategy([1.0], [[5.0]])\n",
       " DiscreteMixedStrategy([1.0], [[2.5]])"
      ]
     },
     "metadata": {},
     "output_type": "display_data"
    }
   ],
   "source": [
    "σ = [IPG.DiscreteMixedStrategy(NE_mixed[p], S_X[p]) for p in 1:m]"
   ]
  },
  {
   "cell_type": "markdown",
   "metadata": {},
   "source": [
    "# Step 3: Termination\n",
    "\n",
    "Build a new strategy from the best reactions of each player.\n",
    "Check if the new strategy is $\\varepsilon$-close to the mixed NE."
   ]
  },
  {
   "cell_type": "code",
   "execution_count": 31,
   "metadata": {},
   "outputs": [
    {
     "name": "stdout",
     "output_type": "stream",
     "text": [
      "Set parameter WLSAccessID\n",
      "Set parameter WLSSecret\n",
      "Set parameter LicenseID to value 2562957\n",
      "Academic license 2562957 - for non-commercial use only - registered to br___@umontreal.ca\n"
     ]
    },
    {
     "data": {
      "text/plain": [
       "1-element Vector{Float64}:\n",
       " 1.25"
      ]
     },
     "metadata": {},
     "output_type": "display_data"
    }
   ],
   "source": [
    "function deviation_reaction(Π::Vector{QuadraticPayoff}, X::Vector{Strategies}, p::Integer, σ::Vector{DiscreteMixedStrategy})\n",
    "    Πp = Π[p]\n",
    "    Xp = X[p]\n",
    "\n",
    "    model = Model(Gurobi.Optimizer)\n",
    "\n",
    "    # the length of the strategy must match the strategies in the support of the profile\n",
    "    @variable(model, xp[1:length(σ[p].supp[1])])\n",
    "\n",
    "    @constraint(model, Xp.Ap * xp <= Xp.bp)\n",
    "\n",
    "    # TODO: No idea why the following doesn't work\n",
    "    # @objective(model, Max, sum([IPG.bilateral_payoff(Πp, p, xp, k, σ[k]) for k in 1:m]))\n",
    "\n",
    "    obj = QuadExpr()\n",
    "    for k in 1:m\n",
    "        obj += IPG.bilateral_payoff(Πp, p, xp, k, σ[k])\n",
    "    end\n",
    "    @objective(model, Max, obj)\n",
    "\n",
    "    set_silent(model)\n",
    "    optimize!(model)\n",
    "\n",
    "    return value.(xp)\n",
    "end\n",
    "\n",
    "deviation_reaction(Π, X, 1, σ)"
   ]
  },
  {
   "cell_type": "code",
   "execution_count": 32,
   "metadata": {},
   "outputs": [
    {
     "name": "stdout",
     "output_type": "stream",
     "text": [
      "Set parameter WLSAccessID\n",
      "Set parameter WLSSecret\n",
      "Set parameter LicenseID to value 2562957\n",
      "Academic license 2562957 - for non-commercial use only - registered to br___@umontreal.ca\n"
     ]
    },
    {
     "data": {
      "text/plain": [
       "(1, [1.25])"
      ]
     },
     "metadata": {},
     "output_type": "display_data"
    }
   ],
   "source": [
    "function termination(Π::Vector{QuadraticPayoff}, X::Vector{Strategies}, σ::Vector{DiscreteMixedStrategy})\n",
    "    for p in 1:m\n",
    "        new_x_p = deviation_reaction(Π, X, p, σ)\n",
    "\n",
    "        new_σ = copy(σ)\n",
    "        new_σ[p] = IPG.DiscreteMixedStrategy([1], [new_x_p])\n",
    "        if payoff(Π, σ, p) < payoff(Π, new_σ, p)\n",
    "            return p, new_x_p\n",
    "        end\n",
    "    end\n",
    "\n",
    "    return -1, nothing\n",
    "end\n",
    "\n",
    "p, xk = termination(Π, X, σ)"
   ]
  },
  {
   "cell_type": "markdown",
   "metadata": {},
   "source": [
    "# Step 4: Generation of next sampled game\n",
    "\n",
    "Add the newly found strategy for player $p$ to `S_X` (sampled game), and close the loop."
   ]
  },
  {
   "cell_type": "code",
   "execution_count": 33,
   "metadata": {},
   "outputs": [
    {
     "data": {
      "text/plain": [
       "3-element Vector{Vector{Float64}}:\n",
       " [10.0]\n",
       " [5.0]\n",
       " [1.25]"
      ]
     },
     "metadata": {},
     "output_type": "display_data"
    }
   ],
   "source": [
    "push!(S_X[p], xk)"
   ]
  }
 ],
 "metadata": {
  "kernelspec": {
   "display_name": "Julia 1.11.2",
   "language": "julia",
   "name": "julia-1.11"
  },
  "language_info": {
   "file_extension": ".jl",
   "mimetype": "application/julia",
   "name": "julia",
   "version": "1.11.2"
  }
 },
 "nbformat": 4,
 "nbformat_minor": 2
}
