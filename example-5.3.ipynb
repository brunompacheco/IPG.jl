{
 "cells": [
  {
   "cell_type": "code",
   "execution_count": 1,
   "metadata": {},
   "outputs": [],
   "source": [
    "using JuMP, Gurobi, IPG"
   ]
  },
  {
   "cell_type": "code",
   "execution_count": 2,
   "metadata": {},
   "outputs": [],
   "source": [
    "n = m = 2\n",
    "\n",
    "X = [Strategies(-1, 0, 0), Strategies(-1, 0, 0)]\n",
    "Π = [QuadraticPayoff(0, [2, 1]), QuadraticPayoff(0, [1, 2])]\n",
    ";"
   ]
  },
  {
   "cell_type": "code",
   "execution_count": 3,
   "metadata": {},
   "outputs": [
    {
     "data": {
      "text/plain": [
       "0.0"
      ]
     },
     "metadata": {},
     "output_type": "display_data"
    }
   ],
   "source": [
    "x = [[0],[0]]\n",
    "payoff(Π, x, 1)"
   ]
  },
  {
   "cell_type": "markdown",
   "metadata": {},
   "source": [
    "# Step 1: Initialization\n",
    "\n",
    "Compute one pure strategy for each player. Build sampled normal-form game."
   ]
  },
  {
   "cell_type": "code",
   "execution_count": 4,
   "metadata": {},
   "outputs": [
    {
     "name": "stdout",
     "output_type": "stream",
     "text": [
      "Set parameter WLSAccessID\n",
      "Set parameter WLSSecret\n",
      "Set parameter LicenseID to value 2562957\n",
      "Academic license 2562957 - for non-commercial use only - registered to br___@umontreal.ca\n",
      "Gurobi Optimizer version 12.0.0 build v12.0.0rc1 (armlinux64 - \"Ubuntu 22.04.5 LTS\")\n",
      "\n",
      "CPU model: ARM64\n",
      "Thread count: 8 physical cores, 8 logical processors, using up to 8 threads\n",
      "\n",
      "Academic license 2562957 - for non-commercial use only - registered to br___@umontreal.ca\n",
      "Optimize a model with 1 rows, 1 columns and 1 nonzeros\n",
      "Model fingerprint: 0x6864ecc9\n",
      "Coefficient statistics:\n",
      "  Matrix range     [1e+00, 1e+00]\n",
      "  Objective range  [0e+00, 0e+00]\n",
      "  Bounds range     [0e+00, 0e+00]\n",
      "  RHS range        [0e+00, 0e+00]\n",
      "Presolve removed 1 rows and 1 columns\n",
      "Presolve time: 0.00s\n",
      "Presolve: All rows and columns removed\n",
      "Iteration    Objective       Primal Inf.    Dual Inf.      Time\n",
      "       0    0.0000000e+00   0.000000e+00   0.000000e+00      0s\n",
      "\n",
      "Solved in 0 iterations and 0.00 seconds (0.00 work units)\n",
      "Optimal objective  0.000000000e+00\n",
      "\n",
      "User-callback calls 32, time in user-callback 0.00 sec\n",
      "Set parameter WLSAccessID\n",
      "Set parameter WLSSecret\n",
      "Set parameter LicenseID to value 2562957\n",
      "Academic license 2562957 - for non-commercial use only - registered to br___@umontreal.ca\n",
      "Gurobi Optimizer version 12.0.0 build v12.0.0rc1 (armlinux64 - \"Ubuntu 22.04.5 LTS\")\n",
      "\n",
      "CPU model: ARM64\n",
      "Thread count: 8 physical cores, 8 logical processors, using up to 8 threads\n",
      "\n",
      "Academic license 2562957 - for non-commercial use only - registered to br___@umontreal.ca\n",
      "Optimize a model with 1 rows, 1 columns and 1 nonzeros\n",
      "Model fingerprint: 0x6864ecc9\n",
      "Coefficient statistics:\n",
      "  Matrix range     [1e+00, 1e+00]\n",
      "  Objective range  [0e+00, 0e+00]\n",
      "  Bounds range     [0e+00, 0e+00]\n",
      "  RHS range        [0e+00, 0e+00]\n",
      "Presolve removed 1 rows and 1 columns\n",
      "Presolve time: 0.00s\n",
      "Presolve: All rows and columns removed\n",
      "Iteration    Objective       Primal Inf.    Dual Inf.      Time\n",
      "       0    0.0000000e+00   0.000000e+00   0.000000e+00      0s\n",
      "\n",
      "Solved in 0 iterations and 0.00 seconds (0.00 work units)\n",
      "Optimal objective  0.000000000e+00\n",
      "\n",
      "User-callback calls 32, time in user-callback 0.00 sec\n"
     ]
    },
    {
     "data": {
      "text/plain": [
       "2-element Vector{Vector{Float64}}:\n",
       " [0.0]\n",
       " [0.0]"
      ]
     },
     "metadata": {},
     "output_type": "display_data"
    }
   ],
   "source": [
    "function find_feasible_pure_strategy(Xp::Strategies, Πp::QuadraticPayoff)\n",
    "    Ap, bp, Bp = Xp.Ap, Xp.bp, Xp.Bp\n",
    "\n",
    "    # Create a new model to solve the feasibility problem\n",
    "    m = Model(Gurobi.Optimizer)\n",
    "    @variable(m, xp[1:np(Xp)])\n",
    "    for i in 1:Bp  # TODO: there's probably a cleaner way to do this\n",
    "        set_binary(xp[i])\n",
    "    end\n",
    "    @constraint(m, Ap * xp <= bp)\n",
    "    @objective(m, Min, 0)  # Feasibility!\n",
    "\n",
    "    # TODO: I'll probably want to silence this sometime in the future\n",
    "    optimize!(m)\n",
    "\n",
    "    return value.(xp)\n",
    "end\n",
    "\n",
    "function find_feasible_pure_profile(X::Vector{Strategies}, Π::Vector{QuadraticPayoff})\n",
    "    return [find_feasible_pure_strategy(Xp, Πp) for (Xp, Πp) in zip(X, Π)]\n",
    "end\n",
    "\n",
    "x = find_feasible_pure_profile(X, Π)"
   ]
  },
  {
   "cell_type": "code",
   "execution_count": 5,
   "metadata": {},
   "outputs": [
    {
     "data": {
      "text/plain": [
       "2-element Vector{Vector{Float64}}:\n",
       " [10.0]\n",
       " [10.0]"
      ]
     },
     "metadata": {},
     "output_type": "display_data"
    }
   ],
   "source": [
    "x[1][1] = 10\n",
    "x[2][1] = 10\n",
    "x"
   ]
  },
  {
   "cell_type": "code",
   "execution_count": 6,
   "metadata": {},
   "outputs": [],
   "source": [
    "# sample of strategies\n",
    "S_X = [Vector{Vector{Float64}}() for p in 1:m]\n",
    "# S_X[p,j,i] is the i-th dimension of the j-th strategy of player p\n",
    "\n",
    "for p in 1:m\n",
    "    # add to sample the new strategy\n",
    "    push!(S_X[p], x[p])\n",
    "end"
   ]
  },
  {
   "cell_type": "code",
   "execution_count": 7,
   "metadata": {},
   "outputs": [],
   "source": [
    "# for p in 1:m\n",
    "#     # add to sample the new strategy\n",
    "#     push!(S_X[p], [1.0])\n",
    "# end"
   ]
  },
  {
   "cell_type": "code",
   "execution_count": 8,
   "metadata": {},
   "outputs": [
    {
     "data": {
      "text/plain": [
       "Dict{Tuple{Integer, Integer}, Matrix{Float64}} with 4 entries:\n",
       "  (1, 2) => [100.0;;]\n",
       "  (1, 1) => [-100.0;;]\n",
       "  (2, 2) => [-100.0;;]\n",
       "  (2, 1) => [100.0;;]"
      ]
     },
     "metadata": {},
     "output_type": "display_data"
    }
   ],
   "source": [
    "function get_polymatrix(S_X::Vector{<:Vector{<:Vector{<:Real}}}, Π::Vector{QuadraticPayoff})\n",
    "    m = length(S_X)\n",
    "\n",
    "    dims = [length(S_X[p]) for p in 1:m]\n",
    "\n",
    "    polymatrix = Dict{Tuple{Integer, Integer}, Matrix{Float64}}()\n",
    "\n",
    "    for p in 1:m\n",
    "        for k in 1:m\n",
    "            polymatrix[p,k] = zeros(length(S_X[p]), length(S_X[k]))\n",
    "\n",
    "            if k == p\n",
    "                for i in length(S_X[p])\n",
    "                    polymatrix[p,p][i,i] = IPG.bilateral_payoff(Π[p], p, S_X[p][i], p, S_X[p][i])\n",
    "                end\n",
    "            else\n",
    "                for i in 1:length(S_X[p])\n",
    "                    for j in 1:length(S_X[k])\n",
    "                        polymatrix[p,k][i,j] = IPG.bilateral_payoff(Π[p], p, S_X[p][i], k, S_X[k][j])\n",
    "                    end\n",
    "                end\n",
    "            end\n",
    "        end\n",
    "    end\n",
    "\n",
    "    return polymatrix\n",
    "end\n",
    "\n",
    "polymatrix = get_polymatrix(S_X, Π)"
   ]
  },
  {
   "cell_type": "code",
   "execution_count": 9,
   "metadata": {},
   "outputs": [
    {
     "data": {
      "text/plain": [
       "NormalGames.NormalGame(2, [1, 1], Dict((1, 2) => [100.0;;], (1, 1) => [-100.0;;], (2, 2) => [-100.0;;], (2, 1) => [100.0;;]))"
      ]
     },
     "metadata": {},
     "output_type": "display_data"
    }
   ],
   "source": [
    "using NormalGames\n",
    "\n",
    "G = NormalGames.NormalGame(m, length.(S_X), polymatrix)"
   ]
  },
  {
   "cell_type": "markdown",
   "metadata": {},
   "source": [
    "# Step 2: Solve sampled game\n",
    "\n",
    "Compute a solution to the normal-form game with the sampled strategies."
   ]
  },
  {
   "cell_type": "code",
   "execution_count": 10,
   "metadata": {},
   "outputs": [
    {
     "name": "stdout",
     "output_type": "stream",
     "text": [
      "Set parameter WLSAccessID\n",
      "Set parameter WLSSecret\n",
      "Set parameter LicenseID to value 2562957\n",
      "Academic license 2562957 - for non-commercial use only - registered to br___@umontreal.ca\n"
     ]
    },
    {
     "data": {
      "text/plain": [
       "2-element Vector{Vector{Float64}}:\n",
       " [1.0]\n",
       " [1.0]"
      ]
     },
     "metadata": {},
     "output_type": "display_data"
    }
   ],
   "source": [
    "t, NE_utilities, NE_mixed = NormalGames.NashEquilibriaPNS(G,false,false,false)\n",
    "# each element in NE_mixed is a mixed NE, represented as a vector of probabilities in the same shape as S_X\n",
    "\n",
    "NE_mixed = NE_mixed[1]  # take the first NE"
   ]
  },
  {
   "cell_type": "code",
   "execution_count": 11,
   "metadata": {},
   "outputs": [
    {
     "data": {
      "text/plain": [
       "2-element Vector{Vector{Float64}}:\n",
       " [10.0]\n",
       " [10.0]"
      ]
     },
     "metadata": {},
     "output_type": "display_data"
    }
   ],
   "source": [
    "σ = [NE_mixed[p]' * S_X[p] for p in 1:m]"
   ]
  },
  {
   "cell_type": "markdown",
   "metadata": {},
   "source": [
    "# Step 3: Termination\n",
    "\n",
    "Build a new strategy from the best reactions of each player.\n",
    "Check if the new strategy is $\\varepsilon$-close to the mixed NE."
   ]
  },
  {
   "cell_type": "code",
   "execution_count": 12,
   "metadata": {},
   "outputs": [
    {
     "name": "stdout",
     "output_type": "stream",
     "text": [
      "Set parameter WLSAccessID\n",
      "Set parameter WLSSecret\n",
      "Set parameter LicenseID to value 2562957\n",
      "Academic license 2562957 - for non-commercial use only - registered to br___@umontreal.ca\n",
      "Gurobi Optimizer version 12.0.0 build v12.0.0rc1 (armlinux64 - \"Ubuntu 22.04.5 LTS\")\n",
      "\n",
      "CPU model: ARM64\n",
      "Thread count: 8 physical cores, 8 logical processors, using up to 8 threads\n",
      "\n",
      "Academic license 2562957 - for non-commercial use only - registered to br___@umontreal.ca\n",
      "Optimize a model with 1 rows, 1 columns and 1 nonzeros\n",
      "Model fingerprint: 0xd7445bdc\n",
      "Model has 1 quadratic objective term\n",
      "Coefficient statistics:\n",
      "  Matrix range     [1e+00, 1e+00]\n",
      "  Objective range  [1e+01, 1e+01]\n",
      "  QObjective range [2e+00, 2e+00]\n",
      "  Bounds range     [0e+00, 0e+00]\n",
      "  RHS range        [0e+00, 0e+00]\n",
      "Presolve removed 1 rows and 1 columns\n",
      "Presolve time: 0.00s\n",
      "Presolve: All rows and columns removed\n",
      "\n",
      "Barrier solved model in 0 iterations and 0.00 seconds (0.00 work units)\n",
      "Optimal objective 2.50000000e+01\n",
      "\n",
      "User-callback calls 39, time in user-callback 0.00 sec\n"
     ]
    },
    {
     "data": {
      "text/plain": [
       "1-element Vector{Float64}:\n",
       " 5.0"
      ]
     },
     "metadata": {},
     "output_type": "display_data"
    }
   ],
   "source": [
    "function deviation_reaction(Π::Vector{QuadraticPayoff}, X::Vector{Strategies}, p::Integer, σ::Vector{<:Vector{<:Real}})\n",
    "    Πp = Π[p]\n",
    "    Xp = X[p]\n",
    "\n",
    "    model = Model(Gurobi.Optimizer)\n",
    "\n",
    "    @variable(model, xp[1:length(σ[p])])\n",
    "\n",
    "    @constraint(model, Xp.Ap * xp <= Xp.bp)\n",
    "\n",
    "    # TODO: No idea why the following doesn't work\n",
    "    # @objective(model, Max, sum([IPG.bilateral_payoff(Πp, p, xp, k, σ[k]) for k in 1:m]))\n",
    "\n",
    "    obj = QuadExpr()\n",
    "    for k in 1:m\n",
    "        obj += IPG.bilateral_payoff(Πp, p, xp, k, σ[k])\n",
    "    end\n",
    "    @objective(model, Max, obj)\n",
    "\n",
    "    optimize!(model)\n",
    "\n",
    "    return value.(xp)\n",
    "end\n",
    "\n",
    "deviation_reaction(Π, X, 1, σ)"
   ]
  },
  {
   "cell_type": "code",
   "execution_count": 13,
   "metadata": {},
   "outputs": [
    {
     "name": "stdout",
     "output_type": "stream",
     "text": [
      "Set parameter WLSAccessID\n",
      "Set parameter WLSSecret\n",
      "Set parameter LicenseID to value 2562957\n",
      "Academic license 2562957 - for non-commercial use only - registered to br___@umontreal.ca\n",
      "Gurobi Optimizer version 12.0.0 build v12.0.0rc1 (armlinux64 - \"Ubuntu 22.04.5 LTS\")\n",
      "\n",
      "CPU model: ARM64\n",
      "Thread count: 8 physical cores, 8 logical processors, using up to 8 threads\n",
      "\n",
      "Academic license 2562957 - for non-commercial use only - registered to br___@umontreal.ca\n",
      "Optimize a model with 1 rows, 1 columns and 1 nonzeros\n",
      "Model fingerprint: 0xd7445bdc\n",
      "Model has 1 quadratic objective term\n",
      "Coefficient statistics:\n",
      "  Matrix range     [1e+00, 1e+00]\n",
      "  Objective range  [1e+01, 1e+01]\n",
      "  QObjective range [2e+00, 2e+00]\n",
      "  Bounds range     [0e+00, 0e+00]\n",
      "  RHS range        [0e+00, 0e+00]\n",
      "Presolve removed 1 rows and 1 columns\n",
      "Presolve time: 0.00s\n",
      "Presolve: All rows and columns removed\n",
      "\n",
      "Barrier solved model in 0 iterations and 0.00 seconds (0.00 work units)\n",
      "Optimal objective 2.50000000e+01\n",
      "\n",
      "User-callback calls 39, time in user-callback 0.00 sec\n"
     ]
    },
    {
     "data": {
      "text/plain": [
       "(1, [5.0])"
      ]
     },
     "metadata": {},
     "output_type": "display_data"
    }
   ],
   "source": [
    "function termination(Π::Vector{QuadraticPayoff}, X::Vector{Strategies}, σ::Vector{<:Vector{<:Real}})\n",
    "    for p in 1:m\n",
    "        new_x_p = deviation_reaction(Π, X, p, σ)\n",
    "\n",
    "        xk = copy(σ)\n",
    "        xk[p] = new_x_p\n",
    "        if payoff(Π, σ, p) < payoff(Π, xk, p)\n",
    "            return p, new_x_p\n",
    "        end\n",
    "    end\n",
    "\n",
    "    return -1, nothing\n",
    "end\n",
    "\n",
    "termination(Π, X, σ)"
   ]
  },
  {
   "cell_type": "markdown",
   "metadata": {},
   "source": [
    "# Step 4: Generation of next sampled game\n",
    "\n",
    "Add the newly found strategy for player $p$ to `S_X` (sampled game), and close the loop."
   ]
  }
 ],
 "metadata": {
  "kernelspec": {
   "display_name": "Julia 1.11.2",
   "language": "julia",
   "name": "julia-1.11"
  },
  "language_info": {
   "file_extension": ".jl",
   "mimetype": "application/julia",
   "name": "julia",
   "version": "1.11.2"
  }
 },
 "nbformat": 4,
 "nbformat_minor": 2
}
