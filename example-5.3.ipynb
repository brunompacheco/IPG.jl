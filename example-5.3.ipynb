{
 "cells": [
  {
   "cell_type": "code",
   "execution_count": 1,
   "metadata": {},
   "outputs": [],
   "source": [
    "using JuMP, Gurobi, IPG"
   ]
  },
  {
   "cell_type": "code",
   "execution_count": 2,
   "metadata": {},
   "outputs": [
    {
     "data": {
      "text/plain": [
       "IPG.Player(IPG.Strategies([1.0;;], [0.0], 0), IPG.QuadraticPayoff([0.0], [[1.0;;], [2.0;;]]))"
      ]
     },
     "metadata": {},
     "output_type": "display_data"
    }
   ],
   "source": [
    "n = m = 2\n",
    "\n",
    "p1 = IPG.Player(\n",
    "    IPG.Strategies(1, 0, 0),\n",
    "    IPG.QuadraticPayoff(0, [2, 1])\n",
    ")\n",
    "p2 = IPG.Player(\n",
    "    IPG.Strategies(1, 0, 0),\n",
    "    IPG.QuadraticPayoff(0, [1, 2])\n",
    ")"
   ]
  },
  {
   "cell_type": "code",
   "execution_count": 3,
   "metadata": {},
   "outputs": [
    {
     "data": {
      "text/plain": [
       "0.0"
      ]
     },
     "metadata": {},
     "output_type": "display_data"
    }
   ],
   "source": [
    "x = [0,0]\n",
    "IPG.payoff(p1.Πp, x, 1)"
   ]
  },
  {
   "cell_type": "markdown",
   "metadata": {},
   "source": [
    "# Initialization\n",
    "\n",
    "Compute one pure strategy for each player."
   ]
  },
  {
   "cell_type": "code",
   "execution_count": 8,
   "metadata": {},
   "outputs": [
    {
     "name": "stdout",
     "output_type": "stream",
     "text": [
      "Set parameter WLSAccessID\n",
      "Set parameter WLSSecret\n",
      "Set parameter LicenseID to value 2562957\n",
      "Academic license 2562957 - for non-commercial use only - registered to br___@umontreal.ca\n",
      "Gurobi Optimizer version 12.0.0 build v12.0.0rc1 (armlinux64 - \"Ubuntu 22.04.5 LTS\")\n",
      "\n",
      "CPU model: ARM64\n",
      "Thread count: 8 physical cores, 8 logical processors, using up to 8 threads\n",
      "\n",
      "Academic license 2562957 - for non-commercial use only - registered to br___@umontreal.ca\n",
      "Optimize a model with 1 rows, 1 columns and 1 nonzeros\n",
      "Model fingerprint: 0xe4a4e4c9\n",
      "Coefficient statistics:\n",
      "  Matrix range     [1e+00, 1e+00]\n",
      "  Objective range  [0e+00, 0e+00]\n",
      "  Bounds range     [0e+00, 0e+00]\n",
      "  RHS range        [0e+00, 0e+00]\n",
      "Presolve removed 1 rows and 1 columns\n",
      "Presolve time: 0.00s\n",
      "Presolve: All rows and columns removed\n",
      "Iteration    Objective       Primal Inf.    Dual Inf.      Time\n",
      "       0    0.0000000e+00   0.000000e+00   0.000000e+00      0s\n",
      "\n",
      "Solved in 0 iterations and 0.00 seconds (0.00 work units)\n",
      "Optimal objective  0.000000000e+00\n",
      "\n",
      "User-callback calls 32, time in user-callback 0.00 sec\n",
      "Set parameter WLSAccessID\n",
      "Set parameter WLSSecret\n",
      "Set parameter LicenseID to value 2562957\n",
      "Academic license 2562957 - for non-commercial use only - registered to br___@umontreal.ca\n",
      "Gurobi Optimizer version 12.0.0 build v12.0.0rc1 (armlinux64 - \"Ubuntu 22.04.5 LTS\")\n",
      "\n",
      "CPU model: ARM64\n",
      "Thread count: 8 physical cores, 8 logical processors, using up to 8 threads\n",
      "\n",
      "Academic license 2562957 - for non-commercial use only - registered to br___@umontreal.ca\n",
      "Optimize a model with 1 rows, 1 columns and 1 nonzeros\n",
      "Model fingerprint: 0xe4a4e4c9\n",
      "Coefficient statistics:\n",
      "  Matrix range     [1e+00, 1e+00]\n",
      "  Objective range  [0e+00, 0e+00]\n",
      "  Bounds range     [0e+00, 0e+00]\n",
      "  RHS range        [0e+00, 0e+00]\n",
      "Presolve removed 1 rows and 1 columns\n",
      "Presolve time: 0.00s\n",
      "Presolve: All rows and columns removed\n",
      "Iteration    Objective       Primal Inf.    Dual Inf.      Time\n",
      "       0    0.0000000e+00   0.000000e+00   0.000000e+00      0s\n",
      "\n",
      "Solved in 0 iterations and 0.00 seconds (0.00 work units)\n",
      "Optimal objective  0.000000000e+00\n",
      "\n",
      "User-callback calls 32, time in user-callback 0.00 sec\n"
     ]
    },
    {
     "data": {
      "text/plain": [
       "2-element Vector{Vector{Float64}}:\n",
       " [0.0]\n",
       " [0.0]"
      ]
     },
     "metadata": {},
     "output_type": "display_data"
    }
   ],
   "source": [
    "function find_feasible_pure_strategy(player::IPG.Player)\n",
    "    Ap, bp, Bp = player.Xp.Ap, player.Xp.bp, player.Xp.Bp\n",
    "\n",
    "    # Create a new model to solve the feasibility problem\n",
    "    m = Model(Gurobi.Optimizer)\n",
    "    @variable(m, xp[1:IPG.np(player)])\n",
    "    for i in 1:Bp  # TODO: there's probably a cleaner way to do this\n",
    "        set_binary(xp[i])\n",
    "    end\n",
    "    @constraint(m, Ap * xp <= bp)\n",
    "    @objective(m, Min, 0)  # Feasibility!\n",
    "\n",
    "    # TODO: I'll probably want to silence this sometime in the future\n",
    "    optimize!(m)\n",
    "\n",
    "    return value.(xp)\n",
    "end\n",
    "\n",
    "function find_feasible_pure_profile(P::Vector{IPG.Player})\n",
    "    return [find_feasible_pure_strategy(p) for p in P]\n",
    "end\n",
    "\n",
    "find_feasible_pure_profile([p1, p2])"
   ]
  },
  {
   "cell_type": "code",
   "execution_count": null,
   "metadata": {},
   "outputs": [],
   "source": [
    "function build_normal_game_from_sample(P::Vector{IPG.Player}, x::Vector{<:Vector{<:Real}})\n",
    "    # 1. compute polymatrix for every player and every strategy combination\n",
    "    #   this is basically calling `payoff` for each player considering every possible combination of strategies in the sample\n",
    "    #   also note the polymatrix can just be updated from the previous iteration with the new strategies added, but that's probably for the near future\n",
    "\n",
    "    # 2. convert to a NormalGame from NormalForm\n",
    "end"
   ]
  }
 ],
 "metadata": {
  "kernelspec": {
   "display_name": "Julia 1.11.2",
   "language": "julia",
   "name": "julia-1.11"
  },
  "language_info": {
   "file_extension": ".jl",
   "mimetype": "application/julia",
   "name": "julia",
   "version": "1.11.2"
  }
 },
 "nbformat": 4,
 "nbformat_minor": 2
}
