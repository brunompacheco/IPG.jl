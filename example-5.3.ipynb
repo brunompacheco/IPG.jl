{
 "cells": [
  {
   "cell_type": "code",
   "execution_count": 1,
   "metadata": {},
   "outputs": [],
   "source": [
    "using JuMP, Gurobi, IPG"
   ]
  },
  {
   "cell_type": "code",
   "execution_count": 2,
   "metadata": {},
   "outputs": [
    {
     "name": "stderr",
     "output_type": "stream",
     "text": [
      "┌ Warning: Axis contains one element: 1. If intended, you can safely ignore this warning. To explicitly pass the axis with one element, pass `[1]` instead of `1`.\n",
      "└ @ JuMP.Containers /home/vscode/.julia/packages/JuMP/CU7H5/src/Containers/DenseAxisArray.jl:185\n",
      "┌ Warning: Axis contains one element: 1. If intended, you can safely ignore this warning. To explicitly pass the axis with one element, pass `[1]` instead of `1`.\n",
      "└ @ JuMP.Containers /home/vscode/.julia/packages/JuMP/CU7H5/src/Containers/DenseAxisArray.jl:185\n"
     ]
    },
    {
     "data": {
      "text/plain": [
       "2-element Vector{Player}:\n",
       " Player(A JuMP Model\n",
       "├ solver: none\n",
       "├ objective_sense: FEASIBILITY_SENSE\n",
       "├ num_variables: 1\n",
       "├ num_constraints: 1\n",
       "│ └ VariableRef in MOI.GreaterThan{Float64}: 1\n",
       "└ Names registered in the model\n",
       "  └ :x1, QuadraticPayoff([0.0], [[2.0;;], [1.0;;]]), 1)\n",
       " Player(A JuMP Model\n",
       "├ solver: none\n",
       "├ objective_sense: FEASIBILITY_SENSE\n",
       "├ num_variables: 1\n",
       "├ num_constraints: 1\n",
       "│ └ VariableRef in MOI.GreaterThan{Float64}: 1\n",
       "└ Names registered in the model\n",
       "  └ :x2, QuadraticPayoff([0.0], [[1.0;;], [2.0;;]]), 2)"
      ]
     },
     "metadata": {},
     "output_type": "display_data"
    }
   ],
   "source": [
    "n = m = 2\n",
    "\n",
    "X1 = Model()\n",
    "@variable(X1, x1[1] >= 0)\n",
    "\n",
    "X2 = Model()\n",
    "@variable(X2, x2[1] >= 0)\n",
    "\n",
    "players = [\n",
    "    Player(X1, QuadraticPayoff(0, [2, 1]), 1),\n",
    "    Player(X2, QuadraticPayoff(0, [1, 2]), 2)\n",
    "]"
   ]
  },
  {
   "cell_type": "code",
   "execution_count": 3,
   "metadata": {},
   "outputs": [
    {
     "data": {
      "text/plain": [
       "(0.0, 0.0)"
      ]
     },
     "metadata": {},
     "output_type": "display_data"
    }
   ],
   "source": [
    "x = [[0],[0]]\n",
    "payoff(players[1], x), payoff(players[2], x)"
   ]
  },
  {
   "cell_type": "markdown",
   "metadata": {},
   "source": [
    "# Step 1: Initialization\n",
    "\n",
    "Compute one pure strategy for each player. Build sampled normal-form game."
   ]
  },
  {
   "cell_type": "code",
   "execution_count": 4,
   "metadata": {},
   "outputs": [
    {
     "name": "stdout",
     "output_type": "stream",
     "text": [
      "Set parameter WLSAccessID\n",
      "Set parameter WLSSecret\n",
      "Set parameter LicenseID to value 2562957\n",
      "Academic license 2562957 - for non-commercial use only - registered to br___@umontreal.ca\n",
      "Set parameter WLSAccessID\n",
      "Set parameter WLSSecret\n",
      "Set parameter LicenseID to value 2562957\n",
      "Academic license 2562957 - for non-commercial use only - registered to br___@umontreal.ca\n"
     ]
    },
    {
     "data": {
      "text/plain": [
       "2-element Vector{Vector{Float64}}:\n",
       " [0.0]\n",
       " [0.0]"
      ]
     },
     "metadata": {},
     "output_type": "display_data"
    }
   ],
   "source": [
    "function find_feasible_pure_strategy(player::Player; Optimizer=Gurobi.Optimizer)\n",
    "    model = player.Xp\n",
    "\n",
    "    set_optimizer(model, Optimizer)\n",
    "\n",
    "    # it is simply a feasibility problem\n",
    "    @objective(model, Min, 0)\n",
    "\n",
    "    set_silent(model)\n",
    "    optimize!(model)\n",
    "\n",
    "    return value.(all_variables(model))\n",
    "end\n",
    "\n",
    "function find_feasible_pure_profile(players::Vector{Player}; Optimizer=Gurobi.Optimizer)\n",
    "    return [find_feasible_pure_strategy(player, Optimizer=Optimizer) for player in players]\n",
    "end\n",
    "\n",
    "x = find_feasible_pure_profile(players)"
   ]
  },
  {
   "cell_type": "code",
   "execution_count": 5,
   "metadata": {},
   "outputs": [
    {
     "data": {
      "text/plain": [
       "2-element Vector{Vector{Float64}}:\n",
       " [10.0]\n",
       " [10.0]"
      ]
     },
     "metadata": {},
     "output_type": "display_data"
    }
   ],
   "source": [
    "x[1][1] = 10\n",
    "x[2][1] = 10\n",
    "x"
   ]
  },
  {
   "cell_type": "code",
   "execution_count": 6,
   "metadata": {},
   "outputs": [],
   "source": [
    "# sample of strategies\n",
    "S_X = [Vector{Vector{Float64}}() for p in 1:m]\n",
    "# S_X[p,j,i] is the i-th dimension of the j-th strategy of player p\n",
    "\n",
    "for p in 1:m\n",
    "    # add to sample the new strategy\n",
    "    push!(S_X[p], x[p])\n",
    "end"
   ]
  },
  {
   "cell_type": "code",
   "execution_count": 7,
   "metadata": {},
   "outputs": [],
   "source": [
    "# for p in 1:m\n",
    "#     # add to sample the new strategy\n",
    "#     push!(S_X[p], [1.0])\n",
    "# end"
   ]
  },
  {
   "cell_type": "markdown",
   "metadata": {},
   "source": [
    "# Step 2: Solve sampled game\n",
    "\n",
    "Compute a solution to the normal-form game with the sampled strategies."
   ]
  },
  {
   "cell_type": "code",
   "execution_count": 8,
   "metadata": {},
   "outputs": [],
   "source": [
    "# TODO: making the polymatrix with \"self-produced utilities\" breaks the algorithms in \n",
    "# NormalGames. I don't know why this is, but it is mentioned that they assume so in a\n",
    "# comment of function `GenerateGame`.\n",
    "\n",
    "# function get_polymatrix(S_X::Vector{<:Vector{<:Vector{<:Real}}}, Π::Vector{QuadraticPayoff})\n",
    "#     m = length(S_X)\n",
    "\n",
    "#     dims = [length(S_X[p]) for p in 1:m]\n",
    "\n",
    "#     polymatrix = Dict{Tuple{Integer, Integer}, Matrix{Float64}}()\n",
    "\n",
    "#     # compute utility of each player `p` using strategy `i_p` against player `k` using strategy `i_k`\n",
    "#     for p in 1:m\n",
    "#         for k in 1:m\n",
    "#             polymatrix[p,k] = zeros(length(S_X[p]), length(S_X[k]))\n",
    "\n",
    "#             if k == p  # fills only the diagonal\n",
    "#                 # TODO: this could be optimized by storing just the diagonal as well\n",
    "#                 for i_p in 1:length(S_X[p])\n",
    "#                     polymatrix[p,p][i_p,i_p] = IPG.bilateral_payoff(Π[p], p, S_X[p][i_p], p, S_X[p][i_p])\n",
    "#                 end\n",
    "#             else\n",
    "#                 for i_p in 1:length(S_X[p])\n",
    "#                     for i_k in 1:length(S_X[k])\n",
    "#                         polymatrix[p,k][i_p,i_k] = IPG.bilateral_payoff(Π[p], p, S_X[p][i_p], k, S_X[k][i_k])\n",
    "#                     end\n",
    "#                 end\n",
    "#             end\n",
    "#         end\n",
    "#     end\n",
    "\n",
    "#     return polymatrix\n",
    "# end\n",
    "\n",
    "# polymatrix = get_polymatrix(S_X, Π)"
   ]
  },
  {
   "cell_type": "code",
   "execution_count": 40,
   "metadata": {},
   "outputs": [
    {
     "data": {
      "text/plain": [
       "Dict{Tuple{Integer, Integer}, Matrix{Float64}} with 4 entries:\n",
       "  (1, 2) => [0.0 -75.0 -93.75; 25.0 -12.5 -21.875; 10.9375 1.5625 -0.78125]\n",
       "  (1, 1) => [0.0 0.0 0.0; 0.0 0.0 0.0; 0.0 0.0 0.0]\n",
       "  (2, 2) => [0.0 0.0 0.0; 0.0 0.0 0.0; 0.0 0.0 0.0]\n",
       "  (2, 1) => [0.0 -50.0 -87.5; 18.75 6.25 -3.125; 5.85938 2.73438 0.390625]"
      ]
     },
     "metadata": {},
     "output_type": "display_data"
    }
   ],
   "source": [
    "function get_polymatrix(S_X::Vector{<:Vector{<:Vector{<:Real}}}, players::Vector{Player})\n",
    "    dims = [length(S_X[player.p]) for player in players]\n",
    "\n",
    "    polymatrix = Dict{Tuple{Integer, Integer}, Matrix{Float64}}()\n",
    "\n",
    "    # compute utility of each player `p` using strategy `i_p` against player `k` using strategy `i_k`\n",
    "    for p in 1:m\n",
    "        for k in 1:m\n",
    "            polymatrix[p,k] = zeros(length(S_X[p]), length(S_X[k]))\n",
    "\n",
    "            if k != p  # fills only the diagonal\n",
    "                for i_p in 1:length(S_X[p])\n",
    "                    for i_k in 1:length(S_X[k])\n",
    "                        polymatrix[p,k][i_p,i_k] = (\n",
    "                            IPG.bilateral_payoff(players[p], S_X[p][i_p], players[k], S_X[k][i_k])\n",
    "                            + IPG.bilateral_payoff(players[p], S_X[p][i_p], players[p], S_X[p][i_p])\n",
    "                        )\n",
    "                    end\n",
    "                end\n",
    "            end\n",
    "        end\n",
    "    end\n",
    "\n",
    "    return polymatrix\n",
    "end\n",
    "\n",
    "polymatrix = get_polymatrix(S_X, players)"
   ]
  },
  {
   "cell_type": "code",
   "execution_count": 41,
   "metadata": {},
   "outputs": [
    {
     "data": {
      "text/plain": [
       "NormalGames.NormalGame(2, [3, 3], Dict((1, 2) => [0.0 -75.0 -93.75; 25.0 -12.5 -21.875; 10.9375 1.5625 -0.78125], (1, 1) => [0.0 0.0 0.0; 0.0 0.0 0.0; 0.0 0.0 0.0], (2, 2) => [0.0 0.0 0.0; 0.0 0.0 0.0; 0.0 0.0 0.0], (2, 1) => [0.0 -50.0 -87.5; 18.75 6.25 -3.125; 5.859375 2.734375 0.390625]))"
      ]
     },
     "metadata": {},
     "output_type": "display_data"
    }
   ],
   "source": [
    "using NormalGames\n",
    "\n",
    "G = NormalGames.NormalGame(m, length.(S_X), polymatrix)"
   ]
  },
  {
   "cell_type": "code",
   "execution_count": 42,
   "metadata": {},
   "outputs": [
    {
     "name": "stdout",
     "output_type": "stream",
     "text": [
      "Set parameter WLSAccessID\n",
      "Set parameter WLSSecret\n",
      "Set parameter LicenseID to value 2562957\n",
      "Academic license 2562957 - for non-commercial use only - registered to br___@umontreal.ca\n",
      "Set parameter WLSAccessID\n",
      "Set parameter WLSSecret\n",
      "Set parameter LicenseID to value 2562957\n",
      "Academic license 2562957 - for non-commercial use only - registered to br___@umontreal.ca\n",
      "Set parameter WLSAccessID\n",
      "Set parameter WLSSecret\n",
      "Set parameter LicenseID to value 2562957\n",
      "Academic license 2562957 - for non-commercial use only - registered to br___@umontreal.ca\n",
      "Set parameter WLSAccessID\n",
      "Set parameter WLSSecret\n",
      "Set parameter LicenseID to value 2562957\n",
      "Academic license 2562957 - for non-commercial use only - registered to br___@umontreal.ca\n",
      "Set parameter WLSAccessID\n",
      "Set parameter WLSSecret\n",
      "Set parameter LicenseID to value 2562957\n",
      "Academic license 2562957 - for non-commercial use only - registered to br___@umontreal.ca\n",
      "Set parameter WLSAccessID\n",
      "Set parameter WLSSecret\n",
      "Set parameter LicenseID to value 2562957\n",
      "Academic license 2562957 - for non-commercial use only - registered to br___@umontreal.ca\n",
      "Set parameter WLSAccessID\n",
      "Set parameter WLSSecret\n",
      "Set parameter LicenseID to value 2562957\n",
      "Academic license 2562957 - for non-commercial use only - registered to br___@umontreal.ca\n",
      "Set parameter WLSAccessID\n",
      "Set parameter WLSSecret\n",
      "Set parameter LicenseID to value 2562957\n",
      "Academic license 2562957 - for non-commercial use only - registered to br___@umontreal.ca\n",
      "Set parameter WLSAccessID\n",
      "Set parameter WLSSecret\n",
      "Set parameter LicenseID to value 2562957\n",
      "Academic license 2562957 - for non-commercial use only - registered to br___@umontreal.ca\n"
     ]
    },
    {
     "data": {
      "text/plain": [
       "2-element Vector{Vector{Float64}}:\n",
       " [0.0, 0.0, 1.0]\n",
       " [0.0, 0.0, 1.0]"
      ]
     },
     "metadata": {},
     "output_type": "display_data"
    }
   ],
   "source": [
    "t, NE_utilities, NE_mixed = NormalGames.NashEquilibriaPNS(G,false,false,false)\n",
    "# each element in NE_mixed is a mixed NE, represented as a vector of probabilities in the same shape as S_X\n",
    "\n",
    "NE_mixed = NE_mixed[1]  # take the first NE"
   ]
  },
  {
   "cell_type": "code",
   "execution_count": 43,
   "metadata": {},
   "outputs": [
    {
     "data": {
      "text/plain": [
       "2-element Vector{DiscreteMixedStrategy}:\n",
       " DiscreteMixedStrategy([1.0], [[1.25]])\n",
       " DiscreteMixedStrategy([1.0], [[0.625]])"
      ]
     },
     "metadata": {},
     "output_type": "display_data"
    }
   ],
   "source": [
    "σ = [IPG.DiscreteMixedStrategy(NE_mixed[p], S_X[p]) for p in 1:m]"
   ]
  },
  {
   "cell_type": "markdown",
   "metadata": {},
   "source": [
    "# Step 3: Termination\n",
    "\n",
    "Build a new strategy from the best reactions of each player.\n",
    "Check if the new strategy is $\\varepsilon$-close to the mixed NE."
   ]
  },
  {
   "cell_type": "code",
   "execution_count": 44,
   "metadata": {},
   "outputs": [
    {
     "name": "stdout",
     "output_type": "stream",
     "text": [
      "Set parameter WLSAccessID\n",
      "Set parameter WLSSecret\n",
      "Set parameter LicenseID to value 2562957\n",
      "Academic license 2562957 - for non-commercial use only - registered to br___@umontreal.ca\n"
     ]
    },
    {
     "data": {
      "text/plain": [
       "1-element Vector{Float64}:\n",
       " 0.3125"
      ]
     },
     "metadata": {},
     "output_type": "display_data"
    }
   ],
   "source": [
    "function deviation_reaction(player::Player, σ::Vector{DiscreteMixedStrategy}; Optimizer=Gurobi.Optimizer)\n",
    "    model = player.Xp\n",
    "    set_optimizer(model, Optimizer)\n",
    "\n",
    "    xp = all_variables(model)\n",
    "\n",
    "    # TODO: No idea why the following doesn't work\n",
    "    # @objective(model, Max, sum([IPG.bilateral_payoff(Πp, p, xp, k, σ[k]) for k in 1:m]))\n",
    "\n",
    "    obj = QuadExpr()\n",
    "    for k in 1:m\n",
    "        obj += IPG.bilateral_payoff(player.Πp, player.p, xp, k, σ[k])\n",
    "    end\n",
    "    @objective(model, Max, obj)\n",
    "\n",
    "    set_silent(model)\n",
    "    optimize!(model)\n",
    "\n",
    "    return value.(xp)\n",
    "end\n",
    "\n",
    "deviation_reaction(players[1], σ)"
   ]
  },
  {
   "cell_type": "code",
   "execution_count": 45,
   "metadata": {},
   "outputs": [
    {
     "name": "stdout",
     "output_type": "stream",
     "text": [
      "Set parameter WLSAccessID\n",
      "Set parameter WLSSecret\n",
      "Set parameter LicenseID to value 2562957\n",
      "Academic license 2562957 - for non-commercial use only - registered to br___@umontreal.ca\n"
     ]
    },
    {
     "data": {
      "text/plain": [
       "(1, [0.3125])"
      ]
     },
     "metadata": {},
     "output_type": "display_data"
    }
   ],
   "source": [
    "function termination(players::Vector{Player}, σ::Vector{DiscreteMixedStrategy})\n",
    "    for p in 1:m\n",
    "        player = players[p]\n",
    "        new_x_p = deviation_reaction(player, σ)\n",
    "\n",
    "        new_σ = copy(σ)\n",
    "        new_σ[p] = IPG.DiscreteMixedStrategy([1], [new_x_p])\n",
    "        if payoff(player, σ) < payoff(player, new_σ)\n",
    "            return p, new_x_p\n",
    "        end\n",
    "    end\n",
    "\n",
    "    return -1, nothing\n",
    "end\n",
    "\n",
    "p, xk = termination(players, σ)"
   ]
  },
  {
   "cell_type": "markdown",
   "metadata": {},
   "source": [
    "# Step 4: Generation of next sampled game\n",
    "\n",
    "Add the newly found strategy for player $p$ to `S_X` (sampled game), and close the loop."
   ]
  },
  {
   "cell_type": "code",
   "execution_count": 46,
   "metadata": {},
   "outputs": [
    {
     "data": {
      "text/plain": [
       "4-element Vector{Vector{Float64}}:\n",
       " [10.0]\n",
       " [5.0]\n",
       " [1.25]\n",
       " [0.3125]"
      ]
     },
     "metadata": {},
     "output_type": "display_data"
    }
   ],
   "source": [
    "push!(S_X[p], xk)"
   ]
  },
  {
   "cell_type": "markdown",
   "metadata": {},
   "source": [
    "# Plots"
   ]
  },
  {
   "cell_type": "code",
   "execution_count": 47,
   "metadata": {},
   "outputs": [],
   "source": [
    "using Plots"
   ]
  },
  {
   "cell_type": "code",
   "execution_count": 48,
   "metadata": {},
   "outputs": [
    {
     "data": {
      "image/png": "[encoded data removed]",
      "image/svg+xml": [
       "<?xml version=\"1.0\" encoding=\"utf-8\"?>\n",
       "<svg xmlns=\"http://www.w3.org/2000/svg\" xmlns:xlink=\"http://www.w3.org/1999/xlink\" width=\"600\" height=\"400\" viewBox=\"0 0 2400 1600\">\n",
       "<defs>\n",
       "  <clipPath id=\"clip020\">\n",
       "    <rect x=\"0\" y=\"0\" width=\"2400\" height=\"1600\"/>\n",
       "  </clipPath>\n",
       "</defs>\n",
       "<path clip-path=\"url(#clip020)\" d=\"M0 1600 L2400 1600 L2400 0 L0 0  Z\" fill=\"#ffffff\" fill-rule=\"evenodd\" fill-opacity=\"1\"/>\n",
       "<defs>\n",
       "  <clipPath id=\"clip021\">\n",
       "    <rect x=\"480\" y=\"0\" width=\"1681\" height=\"1600\"/>\n",
       "  </clipPath>\n",
       "</defs>\n",
       "<path clip-path=\"url(#clip020)\" d=\"M221.637 1410.9 L2352.76 1410.9 L2352.76 123.472 L221.637 123.472  Z\" fill=\"#ffffff\" fill-rule=\"evenodd\" fill-opacity=\"1\"/>\n",
       "<defs>\n",
       "  <clipPath id=\"clip022\">\n",
       "    <rect x=\"221\" y=\"123\" width=\"2132\" height=\"1288\"/>\n",
       "  </clipPath>\n",
       "</defs>\n",
       "<polyline clip-path=\"url(#clip022)\" style=\"stroke:#000000; stroke-linecap:round; stroke-linejoin:round; stroke-width:2; stroke-opacity:0.1; fill:none\" points=\"622.766,1410.9 622.766,123.472 \"/>\n",
       "<polyline clip-path=\"url(#clip022)\" style=\"stroke:#000000; stroke-linecap:round; stroke-linejoin:round; stroke-width:2; stroke-opacity:0.1; fill:none\" points=\"1123.67,1410.9 1123.67,123.472 \"/>\n",
       "<polyline clip-path=\"url(#clip022)\" style=\"stroke:#000000; stroke-linecap:round; stroke-linejoin:round; stroke-width:2; stroke-opacity:0.1; fill:none\" points=\"1624.57,1410.9 1624.57,123.472 \"/>\n",
       "<polyline clip-path=\"url(#clip022)\" style=\"stroke:#000000; stroke-linecap:round; stroke-linejoin:round; stroke-width:2; stroke-opacity:0.1; fill:none\" points=\"2125.47,1410.9 2125.47,123.472 \"/>\n",
       "<polyline clip-path=\"url(#clip022)\" style=\"stroke:#000000; stroke-linecap:round; stroke-linejoin:round; stroke-width:2; stroke-opacity:0.1; fill:none\" points=\"221.637,966.839 2352.76,966.839 \"/>\n",
       "<polyline clip-path=\"url(#clip022)\" style=\"stroke:#000000; stroke-linecap:round; stroke-linejoin:round; stroke-width:2; stroke-opacity:0.1; fill:none\" points=\"221.637,159.909 2352.76,159.909 \"/>\n",
       "<polyline clip-path=\"url(#clip020)\" style=\"stroke:#000000; stroke-linecap:round; stroke-linejoin:round; stroke-width:4; stroke-opacity:1; fill:none\" points=\"221.637,1410.9 2352.76,1410.9 \"/>\n",
       "<polyline clip-path=\"url(#clip020)\" style=\"stroke:#000000; stroke-linecap:round; stroke-linejoin:round; stroke-width:4; stroke-opacity:1; fill:none\" points=\"622.766,1410.9 622.766,1392 \"/>\n",
       "<polyline clip-path=\"url(#clip020)\" style=\"stroke:#000000; stroke-linecap:round; stroke-linejoin:round; stroke-width:4; stroke-opacity:1; fill:none\" points=\"1123.67,1410.9 1123.67,1392 \"/>\n",
       "<polyline clip-path=\"url(#clip020)\" style=\"stroke:#000000; stroke-linecap:round; stroke-linejoin:round; stroke-width:4; stroke-opacity:1; fill:none\" points=\"1624.57,1410.9 1624.57,1392 \"/>\n",
       "<polyline clip-path=\"url(#clip020)\" style=\"stroke:#000000; stroke-linecap:round; stroke-linejoin:round; stroke-width:4; stroke-opacity:1; fill:none\" points=\"2125.47,1410.9 2125.47,1392 \"/>\n",
       "<path clip-path=\"url(#clip020)\" d=\"M569.374 1485.02 L577.012 1485.02 L577.012 1458.66 L568.702 1460.32 L568.702 1456.06 L576.966 1454.4 L581.642 1454.4 L581.642 1485.02 L589.281 1485.02 L589.281 1488.96 L569.374 1488.96 L569.374 1485.02 Z\" fill=\"#000000\" fill-rule=\"nonzero\" fill-opacity=\"1\" /><path clip-path=\"url(#clip020)\" d=\"M608.725 1457.48 Q605.114 1457.48 603.285 1461.04 Q601.48 1464.58 601.48 1471.71 Q601.48 1478.82 603.285 1482.38 Q605.114 1485.92 608.725 1485.92 Q612.359 1485.92 614.165 1482.38 Q615.994 1478.82 615.994 1471.71 Q615.994 1464.58 614.165 1461.04 Q612.359 1457.48 608.725 1457.48 M608.725 1453.77 Q614.535 1453.77 617.591 1458.38 Q620.67 1462.96 620.67 1471.71 Q620.67 1480.44 617.591 1485.04 Q614.535 1489.63 608.725 1489.63 Q602.915 1489.63 599.836 1485.04 Q596.781 1480.44 596.781 1471.71 Q596.781 1462.96 599.836 1458.38 Q602.915 1453.77 608.725 1453.77 Z\" fill=\"#000000\" fill-rule=\"nonzero\" fill-opacity=\"1\" /><path clip-path=\"url(#clip020)\" d=\"M630.374 1435.97 Q627.44 1435.97 625.955 1438.86 Q624.488 1441.74 624.488 1447.53 Q624.488 1453.31 625.955 1456.2 Q627.44 1459.08 630.374 1459.08 Q633.327 1459.08 634.794 1456.2 Q636.28 1453.31 636.28 1447.53 Q636.28 1441.74 634.794 1438.86 Q633.327 1435.97 630.374 1435.97 M630.374 1432.96 Q635.095 1432.96 637.578 1436.7 Q640.079 1440.43 640.079 1447.53 Q640.079 1454.62 637.578 1458.37 Q635.095 1462.09 630.374 1462.09 Q625.654 1462.09 623.152 1458.37 Q620.67 1454.62 620.67 1447.53 Q620.67 1440.43 623.152 1436.7 Q625.654 1432.96 630.374 1432.96 Z\" fill=\"#000000\" fill-rule=\"nonzero\" fill-opacity=\"1\" /><path clip-path=\"url(#clip020)\" d=\"M646.756 1456.77 L650.724 1456.77 L650.724 1461.55 L646.756 1461.55 L646.756 1456.77 Z\" fill=\"#000000\" fill-rule=\"nonzero\" fill-opacity=\"1\" /><path clip-path=\"url(#clip020)\" d=\"M667.125 1435.97 Q664.191 1435.97 662.705 1438.86 Q661.238 1441.74 661.238 1447.53 Q661.238 1453.31 662.705 1456.2 Q664.191 1459.08 667.125 1459.08 Q670.078 1459.08 671.545 1456.2 Q673.03 1453.31 673.03 1447.53 Q673.03 1441.74 671.545 1438.86 Q670.078 1435.97 667.125 1435.97 M667.125 1432.96 Q671.845 1432.96 674.328 1436.7 Q676.83 1440.43 676.83 1447.53 Q676.83 1454.62 674.328 1458.37 Q671.845 1462.09 667.125 1462.09 Q662.404 1462.09 659.903 1458.37 Q657.42 1454.62 657.42 1447.53 Q657.42 1440.43 659.903 1436.7 Q662.404 1432.96 667.125 1432.96 Z\" fill=\"#000000\" fill-rule=\"nonzero\" fill-opacity=\"1\" /><path clip-path=\"url(#clip020)\" d=\"M1070.54 1485.02 L1078.18 1485.02 L1078.18 1458.66 L1069.87 1460.32 L1069.87 1456.06 L1078.13 1454.4 L1082.81 1454.4 L1082.81 1485.02 L1090.45 1485.02 L1090.45 1488.96 L1070.54 1488.96 L1070.54 1485.02 Z\" fill=\"#000000\" fill-rule=\"nonzero\" fill-opacity=\"1\" /><path clip-path=\"url(#clip020)\" d=\"M1109.89 1457.48 Q1106.28 1457.48 1104.45 1461.04 Q1102.65 1464.58 1102.65 1471.71 Q1102.65 1478.82 1104.45 1482.38 Q1106.28 1485.92 1109.89 1485.92 Q1113.53 1485.92 1115.33 1482.38 Q1117.16 1478.82 1117.16 1471.71 Q1117.16 1464.58 1115.33 1461.04 Q1113.53 1457.48 1109.89 1457.48 M1109.89 1453.77 Q1115.7 1453.77 1118.76 1458.38 Q1121.84 1462.96 1121.84 1471.71 Q1121.84 1480.44 1118.76 1485.04 Q1115.7 1489.63 1109.89 1489.63 Q1104.08 1489.63 1101 1485.04 Q1097.95 1480.44 1097.95 1471.71 Q1097.95 1462.96 1101 1458.38 Q1104.08 1453.77 1109.89 1453.77 Z\" fill=\"#000000\" fill-rule=\"nonzero\" fill-opacity=\"1\" /><path clip-path=\"url(#clip020)\" d=\"M1131.54 1435.97 Q1128.61 1435.97 1127.12 1438.86 Q1125.65 1441.74 1125.65 1447.53 Q1125.65 1453.31 1127.12 1456.2 Q1128.61 1459.08 1131.54 1459.08 Q1134.49 1459.08 1135.96 1456.2 Q1137.45 1453.31 1137.45 1447.53 Q1137.45 1441.74 1135.96 1438.86 Q1134.49 1435.97 1131.54 1435.97 M1131.54 1432.96 Q1136.26 1432.96 1138.74 1436.7 Q1141.25 1440.43 1141.25 1447.53 Q1141.25 1454.62 1138.74 1458.37 Q1136.26 1462.09 1131.54 1462.09 Q1126.82 1462.09 1124.32 1458.37 Q1121.84 1454.62 1121.84 1447.53 Q1121.84 1440.43 1124.32 1436.7 Q1126.82 1432.96 1131.54 1432.96 Z\" fill=\"#000000\" fill-rule=\"nonzero\" fill-opacity=\"1\" /><path clip-path=\"url(#clip020)\" d=\"M1147.92 1456.77 L1151.89 1456.77 L1151.89 1461.55 L1147.92 1461.55 L1147.92 1456.77 Z\" fill=\"#000000\" fill-rule=\"nonzero\" fill-opacity=\"1\" /><path clip-path=\"url(#clip020)\" d=\"M1171.68 1446.41 Q1174.4 1446.99 1175.93 1448.83 Q1177.47 1450.68 1177.47 1453.38 Q1177.47 1457.54 1174.61 1459.82 Q1171.75 1462.09 1166.49 1462.09 Q1164.72 1462.09 1162.84 1461.73 Q1160.97 1461.4 1158.98 1460.7 L1158.98 1457.03 Q1160.56 1457.95 1162.44 1458.42 Q1164.32 1458.89 1166.37 1458.89 Q1169.95 1458.89 1171.81 1457.48 Q1173.69 1456.07 1173.69 1453.38 Q1173.69 1450.9 1171.94 1449.51 Q1170.21 1448.1 1167.11 1448.1 L1163.83 1448.1 L1163.83 1444.98 L1167.26 1444.98 Q1170.06 1444.98 1171.54 1443.87 Q1173.03 1442.74 1173.03 1440.63 Q1173.03 1438.47 1171.49 1437.32 Q1169.96 1436.16 1167.11 1436.16 Q1165.54 1436.16 1163.76 1436.49 Q1161.97 1436.83 1159.83 1437.55 L1159.83 1434.16 Q1161.99 1433.56 1163.87 1433.26 Q1165.77 1432.96 1167.44 1432.96 Q1171.77 1432.96 1174.29 1434.93 Q1176.81 1436.89 1176.81 1440.24 Q1176.81 1442.57 1175.48 1444.19 Q1174.14 1445.79 1171.68 1446.41 Z\" fill=\"#000000\" fill-rule=\"nonzero\" fill-opacity=\"1\" /><path clip-path=\"url(#clip020)\" d=\"M1571.11 1485.02 L1578.75 1485.02 L1578.75 1458.66 L1570.44 1460.32 L1570.44 1456.06 L1578.71 1454.4 L1583.38 1454.4 L1583.38 1485.02 L1591.02 1485.02 L1591.02 1488.96 L1571.11 1488.96 L1571.11 1485.02 Z\" fill=\"#000000\" fill-rule=\"nonzero\" fill-opacity=\"1\" /><path clip-path=\"url(#clip020)\" d=\"M1610.46 1457.48 Q1606.85 1457.48 1605.02 1461.04 Q1603.22 1464.58 1603.22 1471.71 Q1603.22 1478.82 1605.02 1482.38 Q1606.85 1485.92 1610.46 1485.92 Q1614.1 1485.92 1615.9 1482.38 Q1617.73 1478.82 1617.73 1471.71 Q1617.73 1464.58 1615.9 1461.04 Q1614.1 1457.48 1610.46 1457.48 M1610.46 1453.77 Q1616.27 1453.77 1619.33 1458.38 Q1622.41 1462.96 1622.41 1471.71 Q1622.41 1480.44 1619.33 1485.04 Q1616.27 1489.63 1610.46 1489.63 Q1604.65 1489.63 1601.58 1485.04 Q1598.52 1480.44 1598.52 1471.71 Q1598.52 1462.96 1601.58 1458.38 Q1604.65 1453.77 1610.46 1453.77 Z\" fill=\"#000000\" fill-rule=\"nonzero\" fill-opacity=\"1\" /><path clip-path=\"url(#clip020)\" d=\"M1632.11 1435.97 Q1629.18 1435.97 1627.69 1438.86 Q1626.23 1441.74 1626.23 1447.53 Q1626.23 1453.31 1627.69 1456.2 Q1629.18 1459.08 1632.11 1459.08 Q1635.07 1459.08 1636.53 1456.2 Q1638.02 1453.31 1638.02 1447.53 Q1638.02 1441.74 1636.53 1438.86 Q1635.07 1435.97 1632.11 1435.97 M1632.11 1432.96 Q1636.83 1432.96 1639.32 1436.7 Q1641.82 1440.43 1641.82 1447.53 Q1641.82 1454.62 1639.32 1458.37 Q1636.83 1462.09 1632.11 1462.09 Q1627.39 1462.09 1624.89 1458.37 Q1622.41 1454.62 1622.41 1447.53 Q1622.41 1440.43 1624.89 1436.7 Q1627.39 1432.96 1632.11 1432.96 Z\" fill=\"#000000\" fill-rule=\"nonzero\" fill-opacity=\"1\" /><path clip-path=\"url(#clip020)\" d=\"M1648.5 1456.77 L1652.46 1456.77 L1652.46 1461.55 L1648.5 1461.55 L1648.5 1456.77 Z\" fill=\"#000000\" fill-rule=\"nonzero\" fill-opacity=\"1\" /><path clip-path=\"url(#clip020)\" d=\"M1669.33 1445.99 Q1666.78 1445.99 1665.27 1447.74 Q1663.79 1449.49 1663.79 1452.54 Q1663.79 1455.57 1665.27 1457.33 Q1666.78 1459.08 1669.33 1459.08 Q1671.89 1459.08 1673.38 1457.33 Q1674.88 1455.57 1674.88 1452.54 Q1674.88 1449.49 1673.38 1447.74 Q1671.89 1445.99 1669.33 1445.99 M1676.88 1434.09 L1676.88 1437.55 Q1675.45 1436.87 1673.98 1436.51 Q1672.53 1436.16 1671.1 1436.16 Q1667.34 1436.16 1665.35 1438.69 Q1663.37 1441.23 1663.09 1446.37 Q1664.2 1444.73 1665.87 1443.87 Q1667.55 1442.98 1669.56 1442.98 Q1673.79 1442.98 1676.24 1445.56 Q1678.7 1448.12 1678.7 1452.54 Q1678.7 1456.86 1676.14 1459.48 Q1673.58 1462.09 1669.33 1462.09 Q1664.46 1462.09 1661.89 1458.37 Q1659.31 1454.62 1659.31 1447.53 Q1659.31 1440.88 1662.47 1436.93 Q1665.63 1432.96 1670.95 1432.96 Q1672.38 1432.96 1673.83 1433.24 Q1675.3 1433.52 1676.88 1434.09 Z\" fill=\"#000000\" fill-rule=\"nonzero\" fill-opacity=\"1\" /><path clip-path=\"url(#clip020)\" d=\"M2072.16 1485.02 L2079.8 1485.02 L2079.8 1458.66 L2071.49 1460.32 L2071.49 1456.06 L2079.75 1454.4 L2084.43 1454.4 L2084.43 1485.02 L2092.06 1485.02 L2092.06 1488.96 L2072.16 1488.96 L2072.16 1485.02 Z\" fill=\"#000000\" fill-rule=\"nonzero\" fill-opacity=\"1\" /><path clip-path=\"url(#clip020)\" d=\"M2111.51 1457.48 Q2107.9 1457.48 2106.07 1461.04 Q2104.26 1464.58 2104.26 1471.71 Q2104.26 1478.82 2106.07 1482.38 Q2107.9 1485.92 2111.51 1485.92 Q2115.14 1485.92 2116.95 1482.38 Q2118.78 1478.82 2118.78 1471.71 Q2118.78 1464.58 2116.95 1461.04 Q2115.14 1457.48 2111.51 1457.48 M2111.51 1453.77 Q2117.32 1453.77 2120.37 1458.38 Q2123.45 1462.96 2123.45 1471.71 Q2123.45 1480.44 2120.37 1485.04 Q2117.32 1489.63 2111.51 1489.63 Q2105.7 1489.63 2102.62 1485.04 Q2099.56 1480.44 2099.56 1471.71 Q2099.56 1462.96 2102.62 1458.38 Q2105.7 1453.77 2111.51 1453.77 Z\" fill=\"#000000\" fill-rule=\"nonzero\" fill-opacity=\"1\" /><path clip-path=\"url(#clip020)\" d=\"M2133.16 1435.97 Q2130.22 1435.97 2128.74 1438.86 Q2127.27 1441.74 2127.27 1447.53 Q2127.27 1453.31 2128.74 1456.2 Q2130.22 1459.08 2133.16 1459.08 Q2136.11 1459.08 2137.58 1456.2 Q2139.06 1453.31 2139.06 1447.53 Q2139.06 1441.74 2137.58 1438.86 Q2136.11 1435.97 2133.16 1435.97 M2133.16 1432.96 Q2137.88 1432.96 2140.36 1436.7 Q2142.86 1440.43 2142.86 1447.53 Q2142.86 1454.62 2140.36 1458.37 Q2137.88 1462.09 2133.16 1462.09 Q2128.44 1462.09 2125.94 1458.37 Q2123.45 1454.62 2123.45 1447.53 Q2123.45 1440.43 2125.94 1436.7 Q2128.44 1432.96 2133.16 1432.96 Z\" fill=\"#000000\" fill-rule=\"nonzero\" fill-opacity=\"1\" /><path clip-path=\"url(#clip020)\" d=\"M2149.54 1456.77 L2153.51 1456.77 L2153.51 1461.55 L2149.54 1461.55 L2149.54 1456.77 Z\" fill=\"#000000\" fill-rule=\"nonzero\" fill-opacity=\"1\" /><path clip-path=\"url(#clip020)\" d=\"M2161.9 1460.96 L2161.9 1457.5 Q2163.33 1458.18 2164.79 1458.54 Q2166.26 1458.89 2167.67 1458.89 Q2171.43 1458.89 2173.41 1456.37 Q2175.4 1453.84 2175.68 1448.68 Q2174.59 1450.3 2172.92 1451.16 Q2171.24 1452.03 2169.21 1452.03 Q2165 1452.03 2162.54 1449.49 Q2160.09 1446.93 2160.09 1442.51 Q2160.09 1438.19 2162.65 1435.57 Q2165.21 1432.96 2169.46 1432.96 Q2174.33 1432.96 2176.89 1436.7 Q2179.46 1440.43 2179.46 1447.53 Q2179.46 1454.17 2176.3 1458.14 Q2173.16 1462.09 2167.84 1462.09 Q2166.41 1462.09 2164.94 1461.81 Q2163.48 1461.53 2161.9 1460.96 M2169.46 1449.06 Q2172.01 1449.06 2173.5 1447.31 Q2175 1445.56 2175 1442.51 Q2175 1439.48 2173.5 1437.74 Q2172.01 1435.97 2169.46 1435.97 Q2166.9 1435.97 2165.39 1437.74 Q2163.91 1439.48 2163.91 1442.51 Q2163.91 1445.56 2165.39 1447.31 Q2166.9 1449.06 2169.46 1449.06 Z\" fill=\"#000000\" fill-rule=\"nonzero\" fill-opacity=\"1\" /><path clip-path=\"url(#clip020)\" d=\"M1167.31 1531.95 L1167.31 1549.8 L1175.4 1549.8 Q1179.89 1549.8 1182.34 1547.48 Q1184.79 1545.16 1184.79 1540.86 Q1184.79 1536.6 1182.34 1534.27 Q1179.89 1531.95 1175.4 1531.95 L1167.31 1531.95 M1160.88 1526.67 L1175.4 1526.67 Q1183.39 1526.67 1187.46 1530.29 Q1191.57 1533.89 1191.57 1540.86 Q1191.57 1547.9 1187.46 1551.49 Q1183.39 1555.09 1175.4 1555.09 L1167.31 1555.09 L1167.31 1574.19 L1160.88 1574.19 L1160.88 1526.67 Z\" fill=\"#000000\" fill-rule=\"nonzero\" fill-opacity=\"1\" /><path clip-path=\"url(#clip020)\" d=\"M1199.94 1524.66 L1205.8 1524.66 L1205.8 1574.19 L1199.94 1574.19 L1199.94 1524.66 Z\" fill=\"#000000\" fill-rule=\"nonzero\" fill-opacity=\"1\" /><path clip-path=\"url(#clip020)\" d=\"M1234.25 1556.27 Q1227.15 1556.27 1224.41 1557.89 Q1221.68 1559.51 1221.68 1563.43 Q1221.68 1566.55 1223.71 1568.39 Q1225.78 1570.21 1229.32 1570.21 Q1234.19 1570.21 1237.11 1566.77 Q1240.07 1563.3 1240.07 1557.57 L1240.07 1556.27 L1234.25 1556.27 M1245.93 1553.85 L1245.93 1574.19 L1240.07 1574.19 L1240.07 1568.77 Q1238.07 1572.02 1235.08 1573.58 Q1232.09 1575.11 1227.76 1575.11 Q1222.28 1575.11 1219.04 1572.05 Q1215.82 1568.97 1215.82 1563.81 Q1215.82 1557.79 1219.83 1554.74 Q1223.87 1551.68 1231.86 1551.68 L1240.07 1551.68 L1240.07 1551.11 Q1240.07 1547.07 1237.4 1544.87 Q1234.76 1542.64 1229.95 1542.64 Q1226.9 1542.64 1224 1543.38 Q1221.1 1544.11 1218.43 1545.57 L1218.43 1540.16 Q1221.65 1538.92 1224.67 1538.31 Q1227.69 1537.68 1230.56 1537.68 Q1238.29 1537.68 1242.11 1541.69 Q1245.93 1545.7 1245.93 1553.85 Z\" fill=\"#000000\" fill-rule=\"nonzero\" fill-opacity=\"1\" /><path clip-path=\"url(#clip020)\" d=\"M1272.83 1577.5 Q1270.34 1583.86 1267.99 1585.8 Q1265.63 1587.74 1261.69 1587.74 L1257.01 1587.74 L1257.01 1582.84 L1260.44 1582.84 Q1262.86 1582.84 1264.2 1581.7 Q1265.54 1580.55 1267.16 1576.29 L1268.21 1573.61 L1253.79 1538.54 L1260 1538.54 L1271.14 1566.42 L1282.28 1538.54 L1288.49 1538.54 L1272.83 1577.5 Z\" fill=\"#000000\" fill-rule=\"nonzero\" fill-opacity=\"1\" /><path clip-path=\"url(#clip020)\" d=\"M1327.06 1554.9 L1327.06 1557.76 L1300.13 1557.76 Q1300.52 1563.81 1303.76 1566.99 Q1307.04 1570.14 1312.87 1570.14 Q1316.24 1570.14 1319.39 1569.32 Q1322.57 1568.49 1325.69 1566.83 L1325.69 1572.37 Q1322.54 1573.71 1319.23 1574.41 Q1315.92 1575.11 1312.52 1575.11 Q1303.99 1575.11 1298.99 1570.14 Q1294.02 1565.18 1294.02 1556.71 Q1294.02 1547.96 1298.73 1542.83 Q1303.48 1537.68 1311.5 1537.68 Q1318.69 1537.68 1322.86 1542.33 Q1327.06 1546.94 1327.06 1554.9 M1321.21 1553.18 Q1321.14 1548.37 1318.5 1545.51 Q1315.89 1542.64 1311.56 1542.64 Q1306.66 1542.64 1303.7 1545.41 Q1300.77 1548.18 1300.33 1553.21 L1321.21 1553.18 Z\" fill=\"#000000\" fill-rule=\"nonzero\" fill-opacity=\"1\" /><path clip-path=\"url(#clip020)\" d=\"M1357.33 1544.01 Q1356.34 1543.44 1355.17 1543.18 Q1354.02 1542.9 1352.62 1542.9 Q1347.65 1542.9 1344.98 1546.14 Q1342.34 1549.36 1342.34 1555.41 L1342.34 1574.19 L1336.45 1574.19 L1336.45 1538.54 L1342.34 1538.54 L1342.34 1544.08 Q1344.19 1540.83 1347.15 1539.27 Q1350.11 1537.68 1354.34 1537.68 Q1354.94 1537.68 1355.68 1537.77 Q1356.41 1537.84 1357.3 1538 L1357.33 1544.01 Z\" fill=\"#000000\" fill-rule=\"nonzero\" fill-opacity=\"1\" /><path clip-path=\"url(#clip020)\" d=\"M1386.14 1568.77 L1396.64 1568.77 L1396.64 1532.52 L1385.21 1534.81 L1385.21 1528.96 L1396.58 1526.67 L1403 1526.67 L1403 1568.77 L1413.51 1568.77 L1413.51 1574.19 L1386.14 1574.19 L1386.14 1568.77 Z\" fill=\"#000000\" fill-rule=\"nonzero\" fill-opacity=\"1\" /><polyline clip-path=\"url(#clip020)\" style=\"stroke:#000000; stroke-linecap:round; stroke-linejoin:round; stroke-width:4; stroke-opacity:1; fill:none\" points=\"221.637,1410.9 221.637,123.472 \"/>\n",
       "<polyline clip-path=\"url(#clip020)\" style=\"stroke:#000000; stroke-linecap:round; stroke-linejoin:round; stroke-width:4; stroke-opacity:1; fill:none\" points=\"221.637,966.839 240.535,966.839 \"/>\n",
       "<polyline clip-path=\"url(#clip020)\" style=\"stroke:#000000; stroke-linecap:round; stroke-linejoin:round; stroke-width:4; stroke-opacity:1; fill:none\" points=\"221.637,159.909 240.535,159.909 \"/>\n",
       "<path clip-path=\"url(#clip020)\" d=\"M114.931 986.632 L122.57 986.632 L122.57 960.266 L114.26 961.933 L114.26 957.673 L122.524 956.007 L127.2 956.007 L127.2 986.632 L134.839 986.632 L134.839 990.567 L114.931 990.567 L114.931 986.632 Z\" fill=\"#000000\" fill-rule=\"nonzero\" fill-opacity=\"1\" /><path clip-path=\"url(#clip020)\" d=\"M154.283 959.085 Q150.672 959.085 148.843 962.65 Q147.038 966.192 147.038 973.321 Q147.038 980.428 148.843 983.993 Q150.672 987.534 154.283 987.534 Q157.917 987.534 159.723 983.993 Q161.552 980.428 161.552 973.321 Q161.552 966.192 159.723 962.65 Q157.917 959.085 154.283 959.085 M154.283 955.382 Q160.093 955.382 163.149 959.988 Q166.227 964.572 166.227 973.321 Q166.227 982.048 163.149 986.655 Q160.093 991.238 154.283 991.238 Q148.473 991.238 145.394 986.655 Q142.339 982.048 142.339 973.321 Q142.339 964.572 145.394 959.988 Q148.473 955.382 154.283 955.382 Z\" fill=\"#000000\" fill-rule=\"nonzero\" fill-opacity=\"1\" /><path clip-path=\"url(#clip020)\" d=\"M175.932 937.578 Q172.998 937.578 171.512 940.474 Q170.045 943.352 170.045 949.145 Q170.045 954.919 171.512 957.815 Q172.998 960.693 175.932 960.693 Q178.885 960.693 180.352 957.815 Q181.838 954.919 181.838 949.145 Q181.838 943.352 180.352 940.474 Q178.885 937.578 175.932 937.578 M175.932 934.569 Q180.653 934.569 183.136 938.311 Q185.637 942.035 185.637 949.145 Q185.637 956.235 183.136 959.978 Q180.653 963.702 175.932 963.702 Q171.212 963.702 168.71 959.978 Q166.227 956.235 166.227 949.145 Q166.227 942.035 168.71 938.311 Q171.212 934.569 175.932 934.569 Z\" fill=\"#000000\" fill-rule=\"nonzero\" fill-opacity=\"1\" /><path clip-path=\"url(#clip020)\" d=\"M117.621 179.701 L125.26 179.701 L125.26 153.336 L116.95 155.002 L116.95 150.743 L125.214 149.076 L129.889 149.076 L129.889 179.701 L137.528 179.701 L137.528 183.636 L117.621 183.636 L117.621 179.701 Z\" fill=\"#000000\" fill-rule=\"nonzero\" fill-opacity=\"1\" /><path clip-path=\"url(#clip020)\" d=\"M156.973 152.155 Q153.362 152.155 151.533 155.72 Q149.727 159.261 149.727 166.391 Q149.727 173.497 151.533 177.062 Q153.362 180.604 156.973 180.604 Q160.607 180.604 162.412 177.062 Q164.241 173.497 164.241 166.391 Q164.241 159.261 162.412 155.72 Q160.607 152.155 156.973 152.155 M156.973 148.451 Q162.783 148.451 165.838 153.058 Q168.917 157.641 168.917 166.391 Q168.917 175.118 165.838 179.724 Q162.783 184.308 156.973 184.308 Q151.162 184.308 148.084 179.724 Q145.028 175.118 145.028 166.391 Q145.028 157.641 148.084 153.058 Q151.162 148.451 156.973 148.451 Z\" fill=\"#000000\" fill-rule=\"nonzero\" fill-opacity=\"1\" /><path clip-path=\"url(#clip020)\" d=\"M169.462 153.029 L175.669 153.029 L175.669 131.606 L168.917 132.961 L168.917 129.5 L175.631 128.146 L179.431 128.146 L179.431 153.029 L185.637 153.029 L185.637 156.226 L169.462 156.226 L169.462 153.029 Z\" fill=\"#000000\" fill-rule=\"nonzero\" fill-opacity=\"1\" /><path clip-path=\"url(#clip020)\" d=\"M21.7677 886.812 L39.6235 886.812 L39.6235 878.727 Q39.6235 874.24 37.3 871.789 Q34.9765 869.338 30.6797 869.338 Q26.4147 869.338 24.0912 871.789 Q21.7677 874.24 21.7677 878.727 L21.7677 886.812 M16.4842 893.241 L16.4842 878.727 Q16.4842 870.739 20.1126 866.664 Q23.7092 862.559 30.6797 862.559 Q37.7138 862.559 41.3104 866.664 Q44.907 870.739 44.907 878.727 L44.907 886.812 L64.0042 886.812 L64.0042 893.241 L16.4842 893.241 Z\" fill=\"#000000\" fill-rule=\"nonzero\" fill-opacity=\"1\" /><path clip-path=\"url(#clip020)\" d=\"M14.479 854.188 L14.479 848.331 L64.0042 848.331 L64.0042 854.188 L14.479 854.188 Z\" fill=\"#000000\" fill-rule=\"nonzero\" fill-opacity=\"1\" /><path clip-path=\"url(#clip020)\" d=\"M46.0847 819.877 Q46.0847 826.974 47.7079 829.712 Q49.3312 832.449 53.2461 832.449 Q56.3653 832.449 58.2114 830.412 Q60.0256 828.343 60.0256 824.81 Q60.0256 819.94 56.5881 817.012 Q53.1188 814.052 47.3897 814.052 L46.0847 814.052 L46.0847 819.877 M43.6657 808.195 L64.0042 808.195 L64.0042 814.052 L58.5933 814.052 Q61.8398 816.057 63.3994 819.049 Q64.9272 822.041 64.9272 826.37 Q64.9272 831.844 61.8716 835.091 Q58.7843 838.305 53.6281 838.305 Q47.6125 838.305 44.5569 834.295 Q41.5014 830.253 41.5014 822.264 L41.5014 814.052 L40.9285 814.052 Q36.8862 814.052 34.6901 816.725 Q32.4621 819.367 32.4621 824.173 Q32.4621 827.229 33.1941 830.125 Q33.9262 833.022 35.3903 835.695 L29.9795 835.695 Q28.7381 832.481 28.1334 829.457 Q27.4968 826.433 27.4968 823.569 Q27.4968 815.834 31.5072 812.015 Q35.5176 808.195 43.6657 808.195 Z\" fill=\"#000000\" fill-rule=\"nonzero\" fill-opacity=\"1\" /><path clip-path=\"url(#clip020)\" d=\"M67.3143 781.3 Q73.68 783.783 75.6216 786.138 Q77.5631 788.494 77.5631 792.44 L77.5631 797.119 L72.6615 797.119 L72.6615 793.682 Q72.6615 791.263 71.5157 789.926 Q70.3699 788.589 66.1048 786.966 L63.4312 785.915 L28.3562 800.334 L28.3562 794.127 L56.238 782.987 L28.3562 771.847 L28.3562 765.641 L67.3143 781.3 Z\" fill=\"#000000\" fill-rule=\"nonzero\" fill-opacity=\"1\" /><path clip-path=\"url(#clip020)\" d=\"M44.7161 727.065 L47.5806 727.065 L47.5806 753.991 Q53.6281 753.61 56.8109 750.363 Q59.9619 747.085 59.9619 741.26 Q59.9619 737.886 59.1344 734.735 Q58.3069 731.552 56.6518 728.433 L62.1899 728.433 Q63.5267 731.584 64.227 734.894 Q64.9272 738.205 64.9272 741.61 Q64.9272 750.14 59.9619 755.137 Q54.9967 760.103 46.5303 760.103 Q37.7774 760.103 32.6531 755.392 Q27.4968 750.649 27.4968 742.629 Q27.4968 735.435 32.1438 731.266 Q36.7589 727.065 44.7161 727.065 M42.9973 732.921 Q38.1912 732.985 35.3266 735.626 Q32.4621 738.236 32.4621 742.565 Q32.4621 747.467 35.2312 750.427 Q38.0002 753.355 43.0292 753.8 L42.9973 732.921 Z\" fill=\"#000000\" fill-rule=\"nonzero\" fill-opacity=\"1\" /><path clip-path=\"url(#clip020)\" d=\"M33.8307 696.796 Q33.2578 697.782 33.0032 698.96 Q32.7167 700.106 32.7167 701.506 Q32.7167 706.471 35.9632 709.145 Q39.1779 711.787 45.2253 711.787 L64.0042 711.787 L64.0042 717.675 L28.3562 717.675 L28.3562 711.787 L33.8944 711.787 Q30.6479 709.941 29.0883 706.981 Q27.4968 704.021 27.4968 699.787 Q27.4968 699.183 27.5923 698.451 Q27.656 697.719 27.8151 696.827 L33.8307 696.796 Z\" fill=\"#000000\" fill-rule=\"nonzero\" fill-opacity=\"1\" /><path clip-path=\"url(#clip020)\" d=\"M58.5933 663.567 L58.5933 641.127 L64.0042 641.127 L64.0042 671.301 L58.5933 671.301 Q54.8057 667.641 48.44 661.339 Q42.0425 655.005 40.1964 653.381 Q36.7271 650.294 34.34 649.085 Q31.921 647.843 29.5975 647.843 Q25.8099 647.843 23.4228 650.517 Q21.0356 653.159 21.0356 657.424 Q21.0356 660.447 22.086 663.821 Q23.1363 667.163 25.2688 670.983 L18.7758 670.983 Q17.2162 667.1 16.4205 663.726 Q15.6248 660.352 15.6248 657.551 Q15.6248 650.167 19.3169 645.774 Q23.009 641.382 29.1837 641.382 Q32.112 641.382 34.7537 642.496 Q37.3637 643.578 40.9285 646.475 Q41.8515 647.27 46.2757 651.535 Q50.668 655.8 58.5933 663.567 Z\" fill=\"#000000\" fill-rule=\"nonzero\" fill-opacity=\"1\" /><path clip-path=\"url(#clip020)\" d=\"M843.683 18.8205 L843.683 41.5461 L853.973 41.5461 Q859.684 41.5461 862.804 38.5889 Q865.923 35.6318 865.923 30.163 Q865.923 24.7348 862.804 21.7777 Q859.684 18.8205 853.973 18.8205 L843.683 18.8205 M835.5 12.096 L853.973 12.096 Q864.14 12.096 869.325 16.714 Q874.551 21.2916 874.551 30.163 Q874.551 39.1155 869.325 43.6931 Q864.14 48.2706 853.973 48.2706 L843.683 48.2706 L843.683 72.576 L835.5 72.576 L835.5 12.096 Z\" fill=\"#000000\" fill-rule=\"nonzero\" fill-opacity=\"1\" /><path clip-path=\"url(#clip020)\" d=\"M910.037 34.1734 Q908.781 33.4443 907.282 33.1202 Q905.824 32.7556 904.042 32.7556 Q897.722 32.7556 894.32 36.8875 Q890.957 40.9789 890.957 48.6757 L890.957 72.576 L883.463 72.576 L883.463 27.2059 L890.957 27.2059 L890.957 34.2544 Q893.307 30.1225 897.074 28.1376 Q900.842 26.1121 906.229 26.1121 Q906.999 26.1121 907.931 26.2337 Q908.862 26.3147 909.997 26.5172 L910.037 34.1734 Z\" fill=\"#000000\" fill-rule=\"nonzero\" fill-opacity=\"1\" /><path clip-path=\"url(#clip020)\" d=\"M933.613 32.4315 Q927.618 32.4315 924.134 37.1306 Q920.65 41.7891 920.65 49.9314 Q920.65 58.0738 924.094 62.7728 Q927.577 67.4314 933.613 67.4314 Q939.568 67.4314 943.052 62.7323 Q946.536 58.0333 946.536 49.9314 Q946.536 41.8701 943.052 37.1711 Q939.568 32.4315 933.613 32.4315 M933.613 26.1121 Q943.335 26.1121 948.885 32.4315 Q954.435 38.7509 954.435 49.9314 Q954.435 61.0714 948.885 67.4314 Q943.335 73.7508 933.613 73.7508 Q923.851 73.7508 918.301 67.4314 Q912.792 61.0714 912.792 49.9314 Q912.792 38.7509 918.301 32.4315 Q923.851 26.1121 933.613 26.1121 Z\" fill=\"#000000\" fill-rule=\"nonzero\" fill-opacity=\"1\" /><path clip-path=\"url(#clip020)\" d=\"M996.645 49.3643 Q996.645 41.2625 993.283 36.8065 Q989.961 32.3505 983.926 32.3505 Q977.93 32.3505 974.568 36.8065 Q971.246 41.2625 971.246 49.3643 Q971.246 57.4256 974.568 61.8816 Q977.93 66.3376 983.926 66.3376 Q989.961 66.3376 993.283 61.8816 Q996.645 57.4256 996.645 49.3643 M1004.1 66.9452 Q1004.1 78.5308 998.954 84.1616 Q993.81 89.8329 983.196 89.8329 Q979.267 89.8329 975.783 89.2252 Q972.299 88.6581 969.018 87.4428 L969.018 80.1917 Q972.299 81.9741 975.5 82.8248 Q978.7 83.6755 982.022 83.6755 Q989.354 83.6755 993 79.8271 Q996.645 76.0193 996.645 68.282 L996.645 64.5957 Q994.336 68.6061 990.731 70.5911 Q987.126 72.576 982.103 72.576 Q973.758 72.576 968.654 66.2161 Q963.55 59.8562 963.55 49.3643 Q963.55 38.832 968.654 32.472 Q973.758 26.1121 982.103 26.1121 Q987.126 26.1121 990.731 28.0971 Q994.336 30.082 996.645 34.0924 L996.645 27.2059 L1004.1 27.2059 L1004.1 66.9452 Z\" fill=\"#000000\" fill-rule=\"nonzero\" fill-opacity=\"1\" /><path clip-path=\"url(#clip020)\" d=\"M1045.74 34.1734 Q1044.49 33.4443 1042.99 33.1202 Q1041.53 32.7556 1039.75 32.7556 Q1033.43 32.7556 1030.02 36.8875 Q1026.66 40.9789 1026.66 48.6757 L1026.66 72.576 L1019.17 72.576 L1019.17 27.2059 L1026.66 27.2059 L1026.66 34.2544 Q1029.01 30.1225 1032.78 28.1376 Q1036.55 26.1121 1041.93 26.1121 Q1042.7 26.1121 1043.64 26.2337 Q1044.57 26.3147 1045.7 26.5172 L1045.74 34.1734 Z\" fill=\"#000000\" fill-rule=\"nonzero\" fill-opacity=\"1\" /><path clip-path=\"url(#clip020)\" d=\"M1090.55 48.0275 L1090.55 51.6733 L1056.27 51.6733 Q1056.76 59.3701 1060.89 63.421 Q1065.07 67.4314 1072.48 67.4314 Q1076.77 67.4314 1080.78 66.3781 Q1084.83 65.3249 1088.8 63.2184 L1088.8 70.267 Q1084.79 71.9684 1080.58 72.8596 Q1076.37 73.7508 1072.03 73.7508 Q1061.18 73.7508 1054.82 67.4314 Q1048.5 61.1119 1048.5 50.3365 Q1048.5 39.1965 1054.49 32.6746 Q1060.53 26.1121 1070.74 26.1121 Q1079.89 26.1121 1085.2 32.0264 Q1090.55 37.9003 1090.55 48.0275 M1083.09 45.84 Q1083.01 39.7232 1079.65 36.0774 Q1076.33 32.4315 1070.82 32.4315 Q1064.58 32.4315 1060.81 35.9558 Q1057.08 39.4801 1056.52 45.8805 L1083.09 45.84 Z\" fill=\"#000000\" fill-rule=\"nonzero\" fill-opacity=\"1\" /><path clip-path=\"url(#clip020)\" d=\"M1131.7 28.5427 L1131.7 35.5912 Q1128.54 33.9709 1125.14 33.1607 Q1121.74 32.3505 1118.09 32.3505 Q1112.54 32.3505 1109.75 34.0519 Q1106.99 35.7533 1106.99 39.156 Q1106.99 41.7486 1108.98 43.2475 Q1110.96 44.7058 1116.96 46.0426 L1119.51 46.6097 Q1127.45 48.3111 1130.77 51.4303 Q1134.13 54.509 1134.13 60.0587 Q1134.13 66.3781 1129.11 70.0644 Q1124.13 73.7508 1115.38 73.7508 Q1111.73 73.7508 1107.76 73.0216 Q1103.83 72.3329 1099.46 70.9151 L1099.46 63.2184 Q1103.59 65.3654 1107.6 66.4591 Q1111.61 67.5124 1115.54 67.5124 Q1120.81 67.5124 1123.64 65.73 Q1126.48 63.9071 1126.48 60.6258 Q1126.48 57.5877 1124.41 55.9673 Q1122.39 54.3469 1115.46 52.8481 L1112.87 52.2405 Q1105.94 50.7821 1102.86 47.7845 Q1099.78 44.7463 1099.78 39.4801 Q1099.78 33.0797 1104.32 29.5959 Q1108.86 26.1121 1117.2 26.1121 Q1121.33 26.1121 1124.98 26.7198 Q1128.62 27.3274 1131.7 28.5427 Z\" fill=\"#000000\" fill-rule=\"nonzero\" fill-opacity=\"1\" /><path clip-path=\"url(#clip020)\" d=\"M1174.93 28.5427 L1174.93 35.5912 Q1171.77 33.9709 1168.36 33.1607 Q1164.96 32.3505 1161.31 32.3505 Q1155.76 32.3505 1152.97 34.0519 Q1150.22 35.7533 1150.22 39.156 Q1150.22 41.7486 1152.2 43.2475 Q1154.19 44.7058 1160.18 46.0426 L1162.73 46.6097 Q1170.67 48.3111 1173.99 51.4303 Q1177.36 54.509 1177.36 60.0587 Q1177.36 66.3781 1172.33 70.0644 Q1167.35 73.7508 1158.6 73.7508 Q1154.95 73.7508 1150.98 73.0216 Q1147.06 72.3329 1142.68 70.9151 L1142.68 63.2184 Q1146.81 65.3654 1150.82 66.4591 Q1154.83 67.5124 1158.76 67.5124 Q1164.03 67.5124 1166.86 65.73 Q1169.7 63.9071 1169.7 60.6258 Q1169.7 57.5877 1167.63 55.9673 Q1165.61 54.3469 1158.68 52.8481 L1156.09 52.2405 Q1149.16 50.7821 1146.08 47.7845 Q1143 44.7463 1143 39.4801 Q1143 33.0797 1147.54 29.5959 Q1152.08 26.1121 1160.42 26.1121 Q1164.56 26.1121 1168.2 26.7198 Q1171.85 27.3274 1174.93 28.5427 Z\" fill=\"#000000\" fill-rule=\"nonzero\" fill-opacity=\"1\" /><path clip-path=\"url(#clip020)\" d=\"M1233.18 32.4315 Q1227.18 32.4315 1223.7 37.1306 Q1220.21 41.7891 1220.21 49.9314 Q1220.21 58.0738 1223.66 62.7728 Q1227.14 67.4314 1233.18 67.4314 Q1239.13 67.4314 1242.62 62.7323 Q1246.1 58.0333 1246.1 49.9314 Q1246.1 41.8701 1242.62 37.1711 Q1239.13 32.4315 1233.18 32.4315 M1233.18 26.1121 Q1242.9 26.1121 1248.45 32.4315 Q1254 38.7509 1254 49.9314 Q1254 61.0714 1248.45 67.4314 Q1242.9 73.7508 1233.18 73.7508 Q1223.42 73.7508 1217.87 67.4314 Q1212.36 61.0714 1212.36 49.9314 Q1212.36 38.7509 1217.87 32.4315 Q1223.42 26.1121 1233.18 26.1121 Z\" fill=\"#000000\" fill-rule=\"nonzero\" fill-opacity=\"1\" /><path clip-path=\"url(#clip020)\" d=\"M1289.32 9.54393 L1289.32 15.7418 L1282.19 15.7418 Q1278.18 15.7418 1276.6 17.3622 Q1275.06 18.9825 1275.06 23.1955 L1275.06 27.2059 L1287.34 27.2059 L1287.34 32.9987 L1275.06 32.9987 L1275.06 72.576 L1267.57 72.576 L1267.57 32.9987 L1260.44 32.9987 L1260.44 27.2059 L1267.57 27.2059 L1267.57 24.0462 Q1267.57 16.471 1271.09 13.0277 Q1274.62 9.54393 1282.27 9.54393 L1289.32 9.54393 Z\" fill=\"#000000\" fill-rule=\"nonzero\" fill-opacity=\"1\" /><path clip-path=\"url(#clip020)\" d=\"M1351.79 34.0924 L1351.79 9.54393 L1359.24 9.54393 L1359.24 72.576 L1351.79 72.576 L1351.79 65.7705 Q1349.44 69.8214 1345.83 71.8063 Q1342.27 73.7508 1337.25 73.7508 Q1329.02 73.7508 1323.84 67.1883 Q1318.69 60.6258 1318.69 49.9314 Q1318.69 39.2371 1323.84 32.6746 Q1329.02 26.1121 1337.25 26.1121 Q1342.27 26.1121 1345.83 28.0971 Q1349.44 30.0415 1351.79 34.0924 M1326.39 49.9314 Q1326.39 58.1548 1329.75 62.8538 Q1333.15 67.5124 1339.07 67.5124 Q1344.98 67.5124 1348.39 62.8538 Q1351.79 58.1548 1351.79 49.9314 Q1351.79 41.7081 1348.39 37.0496 Q1344.98 32.3505 1339.07 32.3505 Q1333.15 32.3505 1329.75 37.0496 Q1326.39 41.7081 1326.39 49.9314 Z\" fill=\"#000000\" fill-rule=\"nonzero\" fill-opacity=\"1\" /><path clip-path=\"url(#clip020)\" d=\"M1413.4 48.0275 L1413.4 51.6733 L1379.13 51.6733 Q1379.62 59.3701 1383.75 63.421 Q1387.92 67.4314 1395.34 67.4314 Q1399.63 67.4314 1403.64 66.3781 Q1407.69 65.3249 1411.66 63.2184 L1411.66 70.267 Q1407.65 71.9684 1403.44 72.8596 Q1399.22 73.7508 1394.89 73.7508 Q1384.03 73.7508 1377.67 67.4314 Q1371.35 61.1119 1371.35 50.3365 Q1371.35 39.1965 1377.35 32.6746 Q1383.39 26.1121 1393.59 26.1121 Q1402.75 26.1121 1408.06 32.0264 Q1413.4 37.9003 1413.4 48.0275 M1405.95 45.84 Q1405.87 39.7232 1402.51 36.0774 Q1399.18 32.4315 1393.67 32.4315 Q1387.44 32.4315 1383.67 35.9558 Q1379.94 39.4801 1379.37 45.8805 L1405.95 45.84 Z\" fill=\"#000000\" fill-rule=\"nonzero\" fill-opacity=\"1\" /><path clip-path=\"url(#clip020)\" d=\"M1420.29 27.2059 L1428.19 27.2059 L1442.37 65.2844 L1456.54 27.2059 L1464.44 27.2059 L1447.43 72.576 L1437.3 72.576 L1420.29 27.2059 Z\" fill=\"#000000\" fill-rule=\"nonzero\" fill-opacity=\"1\" /><path clip-path=\"url(#clip020)\" d=\"M1474.73 27.2059 L1482.19 27.2059 L1482.19 72.576 L1474.73 72.576 L1474.73 27.2059 M1474.73 9.54393 L1482.19 9.54393 L1482.19 18.9825 L1474.73 18.9825 L1474.73 9.54393 Z\" fill=\"#000000\" fill-rule=\"nonzero\" fill-opacity=\"1\" /><path clip-path=\"url(#clip020)\" d=\"M1518.4 49.7694 Q1509.37 49.7694 1505.88 51.8354 Q1502.4 53.9013 1502.4 58.8839 Q1502.4 62.8538 1504.99 65.2034 Q1507.63 67.5124 1512.12 67.5124 Q1518.32 67.5124 1522.05 63.1374 Q1525.82 58.7219 1525.82 51.4303 L1525.82 49.7694 L1518.4 49.7694 M1533.27 46.6907 L1533.27 72.576 L1525.82 72.576 L1525.82 65.6895 Q1523.26 69.8214 1519.46 71.8063 Q1515.65 73.7508 1510.14 73.7508 Q1503.17 73.7508 1499.04 69.8619 Q1494.95 65.9325 1494.95 59.3701 Q1494.95 51.7138 1500.05 47.825 Q1505.2 43.9361 1515.36 43.9361 L1525.82 43.9361 L1525.82 43.2069 Q1525.82 38.0623 1522.41 35.2672 Q1519.05 32.4315 1512.93 32.4315 Q1509.04 32.4315 1505.36 33.3632 Q1501.67 34.295 1498.27 36.1584 L1498.27 29.2718 Q1502.36 27.692 1506.21 26.9223 Q1510.06 26.1121 1513.7 26.1121 Q1523.55 26.1121 1528.41 31.2163 Q1533.27 36.3204 1533.27 46.6907 Z\" fill=\"#000000\" fill-rule=\"nonzero\" fill-opacity=\"1\" /><path clip-path=\"url(#clip020)\" d=\"M1555.99 14.324 L1555.99 27.2059 L1571.35 27.2059 L1571.35 32.9987 L1555.99 32.9987 L1555.99 57.6282 Q1555.99 63.1779 1557.49 64.7578 Q1559.03 66.3376 1563.69 66.3376 L1571.35 66.3376 L1571.35 72.576 L1563.69 72.576 Q1555.06 72.576 1551.78 69.3758 Q1548.5 66.1351 1548.5 57.6282 L1548.5 32.9987 L1543.03 32.9987 L1543.03 27.2059 L1548.5 27.2059 L1548.5 14.324 L1555.99 14.324 Z\" fill=\"#000000\" fill-rule=\"nonzero\" fill-opacity=\"1\" /><path clip-path=\"url(#clip020)\" d=\"M1581.15 27.2059 L1588.6 27.2059 L1588.6 72.576 L1581.15 72.576 L1581.15 27.2059 M1581.15 9.54393 L1588.6 9.54393 L1588.6 18.9825 L1581.15 18.9825 L1581.15 9.54393 Z\" fill=\"#000000\" fill-rule=\"nonzero\" fill-opacity=\"1\" /><path clip-path=\"url(#clip020)\" d=\"M1621.78 32.4315 Q1615.79 32.4315 1612.3 37.1306 Q1608.82 41.7891 1608.82 49.9314 Q1608.82 58.0738 1612.26 62.7728 Q1615.75 67.4314 1621.78 67.4314 Q1627.74 67.4314 1631.22 62.7323 Q1634.7 58.0333 1634.7 49.9314 Q1634.7 41.8701 1631.22 37.1711 Q1627.74 32.4315 1621.78 32.4315 M1621.78 26.1121 Q1631.5 26.1121 1637.05 32.4315 Q1642.6 38.7509 1642.6 49.9314 Q1642.6 61.0714 1637.05 67.4314 Q1631.5 73.7508 1621.78 73.7508 Q1612.02 73.7508 1606.47 67.4314 Q1600.96 61.0714 1600.96 49.9314 Q1600.96 38.7509 1606.47 32.4315 Q1612.02 26.1121 1621.78 26.1121 Z\" fill=\"#000000\" fill-rule=\"nonzero\" fill-opacity=\"1\" /><path clip-path=\"url(#clip020)\" d=\"M1692.67 45.1919 L1692.67 72.576 L1685.22 72.576 L1685.22 45.4349 Q1685.22 38.994 1682.71 35.7938 Q1680.19 32.5936 1675.17 32.5936 Q1669.14 32.5936 1665.65 36.4419 Q1662.17 40.2903 1662.17 46.9338 L1662.17 72.576 L1654.67 72.576 L1654.67 27.2059 L1662.17 27.2059 L1662.17 34.2544 Q1664.84 30.163 1668.45 28.1376 Q1672.09 26.1121 1676.83 26.1121 Q1684.65 26.1121 1688.66 30.9732 Q1692.67 35.7938 1692.67 45.1919 Z\" fill=\"#000000\" fill-rule=\"nonzero\" fill-opacity=\"1\" /><path clip-path=\"url(#clip020)\" d=\"M1736.46 28.5427 L1736.46 35.5912 Q1733.3 33.9709 1729.9 33.1607 Q1726.5 32.3505 1722.85 32.3505 Q1717.3 32.3505 1714.51 34.0519 Q1711.75 35.7533 1711.75 39.156 Q1711.75 41.7486 1713.74 43.2475 Q1715.72 44.7058 1721.72 46.0426 L1724.27 46.6097 Q1732.21 48.3111 1735.53 51.4303 Q1738.89 54.509 1738.89 60.0587 Q1738.89 66.3781 1733.87 70.0644 Q1728.89 73.7508 1720.14 73.7508 Q1716.49 73.7508 1712.52 73.0216 Q1708.59 72.3329 1704.22 70.9151 L1704.22 63.2184 Q1708.35 65.3654 1712.36 66.4591 Q1716.37 67.5124 1720.3 67.5124 Q1725.57 67.5124 1728.4 65.73 Q1731.24 63.9071 1731.24 60.6258 Q1731.24 57.5877 1729.17 55.9673 Q1727.14 54.3469 1720.22 52.8481 L1717.63 52.2405 Q1710.7 50.7821 1707.62 47.7845 Q1704.54 44.7463 1704.54 39.4801 Q1704.54 33.0797 1709.08 29.5959 Q1713.61 26.1121 1721.96 26.1121 Q1726.09 26.1121 1729.74 26.7198 Q1733.38 27.3274 1736.46 28.5427 Z\" fill=\"#000000\" fill-rule=\"nonzero\" fill-opacity=\"1\" /><polyline clip-path=\"url(#clip022)\" style=\"stroke:#009af9; stroke-linecap:round; stroke-linejoin:round; stroke-width:4; stroke-opacity:1; fill:none\" points=\"2292.44,159.909 2292.44,402.819 1287.2,402.819 1287.2,888.64 281.952,888.64 281.952,1374.46 \"/>\n",
       "<circle clip-path=\"url(#clip022)\" cx=\"2292.44\" cy=\"159.909\" r=\"14.4\" fill=\"#009af9\" fill-rule=\"evenodd\" fill-opacity=\"1\" stroke=\"#000000\" stroke-opacity=\"1\" stroke-width=\"3.2\"/>\n",
       "<circle clip-path=\"url(#clip022)\" cx=\"2292.44\" cy=\"402.819\" r=\"14.4\" fill=\"#009af9\" fill-rule=\"evenodd\" fill-opacity=\"1\" stroke=\"#000000\" stroke-opacity=\"1\" stroke-width=\"3.2\"/>\n",
       "<circle clip-path=\"url(#clip022)\" cx=\"1287.2\" cy=\"402.819\" r=\"14.4\" fill=\"#009af9\" fill-rule=\"evenodd\" fill-opacity=\"1\" stroke=\"#000000\" stroke-opacity=\"1\" stroke-width=\"3.2\"/>\n",
       "<circle clip-path=\"url(#clip022)\" cx=\"1287.2\" cy=\"888.64\" r=\"14.4\" fill=\"#009af9\" fill-rule=\"evenodd\" fill-opacity=\"1\" stroke=\"#000000\" stroke-opacity=\"1\" stroke-width=\"3.2\"/>\n",
       "<circle clip-path=\"url(#clip022)\" cx=\"281.952\" cy=\"888.64\" r=\"14.4\" fill=\"#009af9\" fill-rule=\"evenodd\" fill-opacity=\"1\" stroke=\"#000000\" stroke-opacity=\"1\" stroke-width=\"3.2\"/>\n",
       "<circle clip-path=\"url(#clip022)\" cx=\"281.952\" cy=\"1374.46\" r=\"14.4\" fill=\"#009af9\" fill-rule=\"evenodd\" fill-opacity=\"1\" stroke=\"#000000\" stroke-opacity=\"1\" stroke-width=\"3.2\"/>\n",
       "</svg>\n"
      ],
      "text/html": [
       "<?xml version=\"1.0\" encoding=\"utf-8\"?>\n",
       "<svg xmlns=\"http://www.w3.org/2000/svg\" xmlns:xlink=\"http://www.w3.org/1999/xlink\" width=\"600\" height=\"400\" viewBox=\"0 0 2400 1600\">\n",
       "<defs>\n",
       "  <clipPath id=\"clip070\">\n",
       "    <rect x=\"0\" y=\"0\" width=\"2400\" height=\"1600\"/>\n",
       "  </clipPath>\n",
       "</defs>\n",
       "<path clip-path=\"url(#clip070)\" d=\"M0 1600 L2400 1600 L2400 0 L0 0  Z\" fill=\"#ffffff\" fill-rule=\"evenodd\" fill-opacity=\"1\"/>\n",
       "<defs>\n",
       "  <clipPath id=\"clip071\">\n",
       "    <rect x=\"480\" y=\"0\" width=\"1681\" height=\"1600\"/>\n",
       "  </clipPath>\n",
       "</defs>\n",
       "<path clip-path=\"url(#clip070)\" d=\"M221.637 1410.9 L2352.76 1410.9 L2352.76 123.472 L221.637 123.472  Z\" fill=\"#ffffff\" fill-rule=\"evenodd\" fill-opacity=\"1\"/>\n",
       "<defs>\n",
       "  <clipPath id=\"clip072\">\n",
       "    <rect x=\"221\" y=\"123\" width=\"2132\" height=\"1288\"/>\n",
       "  </clipPath>\n",
       "</defs>\n",
       "<polyline clip-path=\"url(#clip072)\" style=\"stroke:#000000; stroke-linecap:round; stroke-linejoin:round; stroke-width:2; stroke-opacity:0.1; fill:none\" points=\"622.766,1410.9 622.766,123.472 \"/>\n",
       "<polyline clip-path=\"url(#clip072)\" style=\"stroke:#000000; stroke-linecap:round; stroke-linejoin:round; stroke-width:2; stroke-opacity:0.1; fill:none\" points=\"1123.67,1410.9 1123.67,123.472 \"/>\n",
       "<polyline clip-path=\"url(#clip072)\" style=\"stroke:#000000; stroke-linecap:round; stroke-linejoin:round; stroke-width:2; stroke-opacity:0.1; fill:none\" points=\"1624.57,1410.9 1624.57,123.472 \"/>\n",
       "<polyline clip-path=\"url(#clip072)\" style=\"stroke:#000000; stroke-linecap:round; stroke-linejoin:round; stroke-width:2; stroke-opacity:0.1; fill:none\" points=\"2125.47,1410.9 2125.47,123.472 \"/>\n",
       "<polyline clip-path=\"url(#clip072)\" style=\"stroke:#000000; stroke-linecap:round; stroke-linejoin:round; stroke-width:2; stroke-opacity:0.1; fill:none\" points=\"221.637,966.839 2352.76,966.839 \"/>\n",
       "<polyline clip-path=\"url(#clip072)\" style=\"stroke:#000000; stroke-linecap:round; stroke-linejoin:round; stroke-width:2; stroke-opacity:0.1; fill:none\" points=\"221.637,159.909 2352.76,159.909 \"/>\n",
       "<polyline clip-path=\"url(#clip070)\" style=\"stroke:#000000; stroke-linecap:round; stroke-linejoin:round; stroke-width:4; stroke-opacity:1; fill:none\" points=\"221.637,1410.9 2352.76,1410.9 \"/>\n",
       "<polyline clip-path=\"url(#clip070)\" style=\"stroke:#000000; stroke-linecap:round; stroke-linejoin:round; stroke-width:4; stroke-opacity:1; fill:none\" points=\"622.766,1410.9 622.766,1392 \"/>\n",
       "<polyline clip-path=\"url(#clip070)\" style=\"stroke:#000000; stroke-linecap:round; stroke-linejoin:round; stroke-width:4; stroke-opacity:1; fill:none\" points=\"1123.67,1410.9 1123.67,1392 \"/>\n",
       "<polyline clip-path=\"url(#clip070)\" style=\"stroke:#000000; stroke-linecap:round; stroke-linejoin:round; stroke-width:4; stroke-opacity:1; fill:none\" points=\"1624.57,1410.9 1624.57,1392 \"/>\n",
       "<polyline clip-path=\"url(#clip070)\" style=\"stroke:#000000; stroke-linecap:round; stroke-linejoin:round; stroke-width:4; stroke-opacity:1; fill:none\" points=\"2125.47,1410.9 2125.47,1392 \"/>\n",
       "<path clip-path=\"url(#clip070)\" d=\"M569.374 1485.02 L577.012 1485.02 L577.012 1458.66 L568.702 1460.32 L568.702 1456.06 L576.966 1454.4 L581.642 1454.4 L581.642 1485.02 L589.281 1485.02 L589.281 1488.96 L569.374 1488.96 L569.374 1485.02 Z\" fill=\"#000000\" fill-rule=\"nonzero\" fill-opacity=\"1\" /><path clip-path=\"url(#clip070)\" d=\"M608.725 1457.48 Q605.114 1457.48 603.285 1461.04 Q601.48 1464.58 601.48 1471.71 Q601.48 1478.82 603.285 1482.38 Q605.114 1485.92 608.725 1485.92 Q612.359 1485.92 614.165 1482.38 Q615.994 1478.82 615.994 1471.71 Q615.994 1464.58 614.165 1461.04 Q612.359 1457.48 608.725 1457.48 M608.725 1453.77 Q614.535 1453.77 617.591 1458.38 Q620.67 1462.96 620.67 1471.71 Q620.67 1480.44 617.591 1485.04 Q614.535 1489.63 608.725 1489.63 Q602.915 1489.63 599.836 1485.04 Q596.781 1480.44 596.781 1471.71 Q596.781 1462.96 599.836 1458.38 Q602.915 1453.77 608.725 1453.77 Z\" fill=\"#000000\" fill-rule=\"nonzero\" fill-opacity=\"1\" /><path clip-path=\"url(#clip070)\" d=\"M630.374 1435.97 Q627.44 1435.97 625.955 1438.86 Q624.488 1441.74 624.488 1447.53 Q624.488 1453.31 625.955 1456.2 Q627.44 1459.08 630.374 1459.08 Q633.327 1459.08 634.794 1456.2 Q636.28 1453.31 636.28 1447.53 Q636.28 1441.74 634.794 1438.86 Q633.327 1435.97 630.374 1435.97 M630.374 1432.96 Q635.095 1432.96 637.578 1436.7 Q640.079 1440.43 640.079 1447.53 Q640.079 1454.62 637.578 1458.37 Q635.095 1462.09 630.374 1462.09 Q625.654 1462.09 623.152 1458.37 Q620.67 1454.62 620.67 1447.53 Q620.67 1440.43 623.152 1436.7 Q625.654 1432.96 630.374 1432.96 Z\" fill=\"#000000\" fill-rule=\"nonzero\" fill-opacity=\"1\" /><path clip-path=\"url(#clip070)\" d=\"M646.756 1456.77 L650.724 1456.77 L650.724 1461.55 L646.756 1461.55 L646.756 1456.77 Z\" fill=\"#000000\" fill-rule=\"nonzero\" fill-opacity=\"1\" /><path clip-path=\"url(#clip070)\" d=\"M667.125 1435.97 Q664.191 1435.97 662.705 1438.86 Q661.238 1441.74 661.238 1447.53 Q661.238 1453.31 662.705 1456.2 Q664.191 1459.08 667.125 1459.08 Q670.078 1459.08 671.545 1456.2 Q673.03 1453.31 673.03 1447.53 Q673.03 1441.74 671.545 1438.86 Q670.078 1435.97 667.125 1435.97 M667.125 1432.96 Q671.845 1432.96 674.328 1436.7 Q676.83 1440.43 676.83 1447.53 Q676.83 1454.62 674.328 1458.37 Q671.845 1462.09 667.125 1462.09 Q662.404 1462.09 659.903 1458.37 Q657.42 1454.62 657.42 1447.53 Q657.42 1440.43 659.903 1436.7 Q662.404 1432.96 667.125 1432.96 Z\" fill=\"#000000\" fill-rule=\"nonzero\" fill-opacity=\"1\" /><path clip-path=\"url(#clip070)\" d=\"M1070.54 1485.02 L1078.18 1485.02 L1078.18 1458.66 L1069.87 1460.32 L1069.87 1456.06 L1078.13 1454.4 L1082.81 1454.4 L1082.81 1485.02 L1090.45 1485.02 L1090.45 1488.96 L1070.54 1488.96 L1070.54 1485.02 Z\" fill=\"#000000\" fill-rule=\"nonzero\" fill-opacity=\"1\" /><path clip-path=\"url(#clip070)\" d=\"M1109.89 1457.48 Q1106.28 1457.48 1104.45 1461.04 Q1102.65 1464.58 1102.65 1471.71 Q1102.65 1478.82 1104.45 1482.38 Q1106.28 1485.92 1109.89 1485.92 Q1113.53 1485.92 1115.33 1482.38 Q1117.16 1478.82 1117.16 1471.71 Q1117.16 1464.58 1115.33 1461.04 Q1113.53 1457.48 1109.89 1457.48 M1109.89 1453.77 Q1115.7 1453.77 1118.76 1458.38 Q1121.84 1462.96 1121.84 1471.71 Q1121.84 1480.44 1118.76 1485.04 Q1115.7 1489.63 1109.89 1489.63 Q1104.08 1489.63 1101 1485.04 Q1097.95 1480.44 1097.95 1471.71 Q1097.95 1462.96 1101 1458.38 Q1104.08 1453.77 1109.89 1453.77 Z\" fill=\"#000000\" fill-rule=\"nonzero\" fill-opacity=\"1\" /><path clip-path=\"url(#clip070)\" d=\"M1131.54 1435.97 Q1128.61 1435.97 1127.12 1438.86 Q1125.65 1441.74 1125.65 1447.53 Q1125.65 1453.31 1127.12 1456.2 Q1128.61 1459.08 1131.54 1459.08 Q1134.49 1459.08 1135.96 1456.2 Q1137.45 1453.31 1137.45 1447.53 Q1137.45 1441.74 1135.96 1438.86 Q1134.49 1435.97 1131.54 1435.97 M1131.54 1432.96 Q1136.26 1432.96 1138.74 1436.7 Q1141.25 1440.43 1141.25 1447.53 Q1141.25 1454.62 1138.74 1458.37 Q1136.26 1462.09 1131.54 1462.09 Q1126.82 1462.09 1124.32 1458.37 Q1121.84 1454.62 1121.84 1447.53 Q1121.84 1440.43 1124.32 1436.7 Q1126.82 1432.96 1131.54 1432.96 Z\" fill=\"#000000\" fill-rule=\"nonzero\" fill-opacity=\"1\" /><path clip-path=\"url(#clip070)\" d=\"M1147.92 1456.77 L1151.89 1456.77 L1151.89 1461.55 L1147.92 1461.55 L1147.92 1456.77 Z\" fill=\"#000000\" fill-rule=\"nonzero\" fill-opacity=\"1\" /><path clip-path=\"url(#clip070)\" d=\"M1171.68 1446.41 Q1174.4 1446.99 1175.93 1448.83 Q1177.47 1450.68 1177.47 1453.38 Q1177.47 1457.54 1174.61 1459.82 Q1171.75 1462.09 1166.49 1462.09 Q1164.72 1462.09 1162.84 1461.73 Q1160.97 1461.4 1158.98 1460.7 L1158.98 1457.03 Q1160.56 1457.95 1162.44 1458.42 Q1164.32 1458.89 1166.37 1458.89 Q1169.95 1458.89 1171.81 1457.48 Q1173.69 1456.07 1173.69 1453.38 Q1173.69 1450.9 1171.94 1449.51 Q1170.21 1448.1 1167.11 1448.1 L1163.83 1448.1 L1163.83 1444.98 L1167.26 1444.98 Q1170.06 1444.98 1171.54 1443.87 Q1173.03 1442.74 1173.03 1440.63 Q1173.03 1438.47 1171.49 1437.32 Q1169.96 1436.16 1167.11 1436.16 Q1165.54 1436.16 1163.76 1436.49 Q1161.97 1436.83 1159.83 1437.55 L1159.83 1434.16 Q1161.99 1433.56 1163.87 1433.26 Q1165.77 1432.96 1167.44 1432.96 Q1171.77 1432.96 1174.29 1434.93 Q1176.81 1436.89 1176.81 1440.24 Q1176.81 1442.57 1175.48 1444.19 Q1174.14 1445.79 1171.68 1446.41 Z\" fill=\"#000000\" fill-rule=\"nonzero\" fill-opacity=\"1\" /><path clip-path=\"url(#clip070)\" d=\"M1571.11 1485.02 L1578.75 1485.02 L1578.75 1458.66 L1570.44 1460.32 L1570.44 1456.06 L1578.71 1454.4 L1583.38 1454.4 L1583.38 1485.02 L1591.02 1485.02 L1591.02 1488.96 L1571.11 1488.96 L1571.11 1485.02 Z\" fill=\"#000000\" fill-rule=\"nonzero\" fill-opacity=\"1\" /><path clip-path=\"url(#clip070)\" d=\"M1610.46 1457.48 Q1606.85 1457.48 1605.02 1461.04 Q1603.22 1464.58 1603.22 1471.71 Q1603.22 1478.82 1605.02 1482.38 Q1606.85 1485.92 1610.46 1485.92 Q1614.1 1485.92 1615.9 1482.38 Q1617.73 1478.82 1617.73 1471.71 Q1617.73 1464.58 1615.9 1461.04 Q1614.1 1457.48 1610.46 1457.48 M1610.46 1453.77 Q1616.27 1453.77 1619.33 1458.38 Q1622.41 1462.96 1622.41 1471.71 Q1622.41 1480.44 1619.33 1485.04 Q1616.27 1489.63 1610.46 1489.63 Q1604.65 1489.63 1601.58 1485.04 Q1598.52 1480.44 1598.52 1471.71 Q1598.52 1462.96 1601.58 1458.38 Q1604.65 1453.77 1610.46 1453.77 Z\" fill=\"#000000\" fill-rule=\"nonzero\" fill-opacity=\"1\" /><path clip-path=\"url(#clip070)\" d=\"M1632.11 1435.97 Q1629.18 1435.97 1627.69 1438.86 Q1626.23 1441.74 1626.23 1447.53 Q1626.23 1453.31 1627.69 1456.2 Q1629.18 1459.08 1632.11 1459.08 Q1635.07 1459.08 1636.53 1456.2 Q1638.02 1453.31 1638.02 1447.53 Q1638.02 1441.74 1636.53 1438.86 Q1635.07 1435.97 1632.11 1435.97 M1632.11 1432.96 Q1636.83 1432.96 1639.32 1436.7 Q1641.82 1440.43 1641.82 1447.53 Q1641.82 1454.62 1639.32 1458.37 Q1636.83 1462.09 1632.11 1462.09 Q1627.39 1462.09 1624.89 1458.37 Q1622.41 1454.62 1622.41 1447.53 Q1622.41 1440.43 1624.89 1436.7 Q1627.39 1432.96 1632.11 1432.96 Z\" fill=\"#000000\" fill-rule=\"nonzero\" fill-opacity=\"1\" /><path clip-path=\"url(#clip070)\" d=\"M1648.5 1456.77 L1652.46 1456.77 L1652.46 1461.55 L1648.5 1461.55 L1648.5 1456.77 Z\" fill=\"#000000\" fill-rule=\"nonzero\" fill-opacity=\"1\" /><path clip-path=\"url(#clip070)\" d=\"M1669.33 1445.99 Q1666.78 1445.99 1665.27 1447.74 Q1663.79 1449.49 1663.79 1452.54 Q1663.79 1455.57 1665.27 1457.33 Q1666.78 1459.08 1669.33 1459.08 Q1671.89 1459.08 1673.38 1457.33 Q1674.88 1455.57 1674.88 1452.54 Q1674.88 1449.49 1673.38 1447.74 Q1671.89 1445.99 1669.33 1445.99 M1676.88 1434.09 L1676.88 1437.55 Q1675.45 1436.87 1673.98 1436.51 Q1672.53 1436.16 1671.1 1436.16 Q1667.34 1436.16 1665.35 1438.69 Q1663.37 1441.23 1663.09 1446.37 Q1664.2 1444.73 1665.87 1443.87 Q1667.55 1442.98 1669.56 1442.98 Q1673.79 1442.98 1676.24 1445.56 Q1678.7 1448.12 1678.7 1452.54 Q1678.7 1456.86 1676.14 1459.48 Q1673.58 1462.09 1669.33 1462.09 Q1664.46 1462.09 1661.89 1458.37 Q1659.31 1454.62 1659.31 1447.53 Q1659.31 1440.88 1662.47 1436.93 Q1665.63 1432.96 1670.95 1432.96 Q1672.38 1432.96 1673.83 1433.24 Q1675.3 1433.52 1676.88 1434.09 Z\" fill=\"#000000\" fill-rule=\"nonzero\" fill-opacity=\"1\" /><path clip-path=\"url(#clip070)\" d=\"M2072.16 1485.02 L2079.8 1485.02 L2079.8 1458.66 L2071.49 1460.32 L2071.49 1456.06 L2079.75 1454.4 L2084.43 1454.4 L2084.43 1485.02 L2092.06 1485.02 L2092.06 1488.96 L2072.16 1488.96 L2072.16 1485.02 Z\" fill=\"#000000\" fill-rule=\"nonzero\" fill-opacity=\"1\" /><path clip-path=\"url(#clip070)\" d=\"M2111.51 1457.48 Q2107.9 1457.48 2106.07 1461.04 Q2104.26 1464.58 2104.26 1471.71 Q2104.26 1478.82 2106.07 1482.38 Q2107.9 1485.92 2111.51 1485.92 Q2115.14 1485.92 2116.95 1482.38 Q2118.78 1478.82 2118.78 1471.71 Q2118.78 1464.58 2116.95 1461.04 Q2115.14 1457.48 2111.51 1457.48 M2111.51 1453.77 Q2117.32 1453.77 2120.37 1458.38 Q2123.45 1462.96 2123.45 1471.71 Q2123.45 1480.44 2120.37 1485.04 Q2117.32 1489.63 2111.51 1489.63 Q2105.7 1489.63 2102.62 1485.04 Q2099.56 1480.44 2099.56 1471.71 Q2099.56 1462.96 2102.62 1458.38 Q2105.7 1453.77 2111.51 1453.77 Z\" fill=\"#000000\" fill-rule=\"nonzero\" fill-opacity=\"1\" /><path clip-path=\"url(#clip070)\" d=\"M2133.16 1435.97 Q2130.22 1435.97 2128.74 1438.86 Q2127.27 1441.74 2127.27 1447.53 Q2127.27 1453.31 2128.74 1456.2 Q2130.22 1459.08 2133.16 1459.08 Q2136.11 1459.08 2137.58 1456.2 Q2139.06 1453.31 2139.06 1447.53 Q2139.06 1441.74 2137.58 1438.86 Q2136.11 1435.97 2133.16 1435.97 M2133.16 1432.96 Q2137.88 1432.96 2140.36 1436.7 Q2142.86 1440.43 2142.86 1447.53 Q2142.86 1454.62 2140.36 1458.37 Q2137.88 1462.09 2133.16 1462.09 Q2128.44 1462.09 2125.94 1458.37 Q2123.45 1454.62 2123.45 1447.53 Q2123.45 1440.43 2125.94 1436.7 Q2128.44 1432.96 2133.16 1432.96 Z\" fill=\"#000000\" fill-rule=\"nonzero\" fill-opacity=\"1\" /><path clip-path=\"url(#clip070)\" d=\"M2149.54 1456.77 L2153.51 1456.77 L2153.51 1461.55 L2149.54 1461.55 L2149.54 1456.77 Z\" fill=\"#000000\" fill-rule=\"nonzero\" fill-opacity=\"1\" /><path clip-path=\"url(#clip070)\" d=\"M2161.9 1460.96 L2161.9 1457.5 Q2163.33 1458.18 2164.79 1458.54 Q2166.26 1458.89 2167.67 1458.89 Q2171.43 1458.89 2173.41 1456.37 Q2175.4 1453.84 2175.68 1448.68 Q2174.59 1450.3 2172.92 1451.16 Q2171.24 1452.03 2169.21 1452.03 Q2165 1452.03 2162.54 1449.49 Q2160.09 1446.93 2160.09 1442.51 Q2160.09 1438.19 2162.65 1435.57 Q2165.21 1432.96 2169.46 1432.96 Q2174.33 1432.96 2176.89 1436.7 Q2179.46 1440.43 2179.46 1447.53 Q2179.46 1454.17 2176.3 1458.14 Q2173.16 1462.09 2167.84 1462.09 Q2166.41 1462.09 2164.94 1461.81 Q2163.48 1461.53 2161.9 1460.96 M2169.46 1449.06 Q2172.01 1449.06 2173.5 1447.31 Q2175 1445.56 2175 1442.51 Q2175 1439.48 2173.5 1437.74 Q2172.01 1435.97 2169.46 1435.97 Q2166.9 1435.97 2165.39 1437.74 Q2163.91 1439.48 2163.91 1442.51 Q2163.91 1445.56 2165.39 1447.31 Q2166.9 1449.06 2169.46 1449.06 Z\" fill=\"#000000\" fill-rule=\"nonzero\" fill-opacity=\"1\" /><path clip-path=\"url(#clip070)\" d=\"M1167.31 1531.95 L1167.31 1549.8 L1175.4 1549.8 Q1179.89 1549.8 1182.34 1547.48 Q1184.79 1545.16 1184.79 1540.86 Q1184.79 1536.6 1182.34 1534.27 Q1179.89 1531.95 1175.4 1531.95 L1167.31 1531.95 M1160.88 1526.67 L1175.4 1526.67 Q1183.39 1526.67 1187.46 1530.29 Q1191.57 1533.89 1191.57 1540.86 Q1191.57 1547.9 1187.46 1551.49 Q1183.39 1555.09 1175.4 1555.09 L1167.31 1555.09 L1167.31 1574.19 L1160.88 1574.19 L1160.88 1526.67 Z\" fill=\"#000000\" fill-rule=\"nonzero\" fill-opacity=\"1\" /><path clip-path=\"url(#clip070)\" d=\"M1199.94 1524.66 L1205.8 1524.66 L1205.8 1574.19 L1199.94 1574.19 L1199.94 1524.66 Z\" fill=\"#000000\" fill-rule=\"nonzero\" fill-opacity=\"1\" /><path clip-path=\"url(#clip070)\" d=\"M1234.25 1556.27 Q1227.15 1556.27 1224.41 1557.89 Q1221.68 1559.51 1221.68 1563.43 Q1221.68 1566.55 1223.71 1568.39 Q1225.78 1570.21 1229.32 1570.21 Q1234.19 1570.21 1237.11 1566.77 Q1240.07 1563.3 1240.07 1557.57 L1240.07 1556.27 L1234.25 1556.27 M1245.93 1553.85 L1245.93 1574.19 L1240.07 1574.19 L1240.07 1568.77 Q1238.07 1572.02 1235.08 1573.58 Q1232.09 1575.11 1227.76 1575.11 Q1222.28 1575.11 1219.04 1572.05 Q1215.82 1568.97 1215.82 1563.81 Q1215.82 1557.79 1219.83 1554.74 Q1223.87 1551.68 1231.86 1551.68 L1240.07 1551.68 L1240.07 1551.11 Q1240.07 1547.07 1237.4 1544.87 Q1234.76 1542.64 1229.95 1542.64 Q1226.9 1542.64 1224 1543.38 Q1221.1 1544.11 1218.43 1545.57 L1218.43 1540.16 Q1221.65 1538.92 1224.67 1538.31 Q1227.69 1537.68 1230.56 1537.68 Q1238.29 1537.68 1242.11 1541.69 Q1245.93 1545.7 1245.93 1553.85 Z\" fill=\"#000000\" fill-rule=\"nonzero\" fill-opacity=\"1\" /><path clip-path=\"url(#clip070)\" d=\"M1272.83 1577.5 Q1270.34 1583.86 1267.99 1585.8 Q1265.63 1587.74 1261.69 1587.74 L1257.01 1587.74 L1257.01 1582.84 L1260.44 1582.84 Q1262.86 1582.84 1264.2 1581.7 Q1265.54 1580.55 1267.16 1576.29 L1268.21 1573.61 L1253.79 1538.54 L1260 1538.54 L1271.14 1566.42 L1282.28 1538.54 L1288.49 1538.54 L1272.83 1577.5 Z\" fill=\"#000000\" fill-rule=\"nonzero\" fill-opacity=\"1\" /><path clip-path=\"url(#clip070)\" d=\"M1327.06 1554.9 L1327.06 1557.76 L1300.13 1557.76 Q1300.52 1563.81 1303.76 1566.99 Q1307.04 1570.14 1312.87 1570.14 Q1316.24 1570.14 1319.39 1569.32 Q1322.57 1568.49 1325.69 1566.83 L1325.69 1572.37 Q1322.54 1573.71 1319.23 1574.41 Q1315.92 1575.11 1312.52 1575.11 Q1303.99 1575.11 1298.99 1570.14 Q1294.02 1565.18 1294.02 1556.71 Q1294.02 1547.96 1298.73 1542.83 Q1303.48 1537.68 1311.5 1537.68 Q1318.69 1537.68 1322.86 1542.33 Q1327.06 1546.94 1327.06 1554.9 M1321.21 1553.18 Q1321.14 1548.37 1318.5 1545.51 Q1315.89 1542.64 1311.56 1542.64 Q1306.66 1542.64 1303.7 1545.41 Q1300.77 1548.18 1300.33 1553.21 L1321.21 1553.18 Z\" fill=\"#000000\" fill-rule=\"nonzero\" fill-opacity=\"1\" /><path clip-path=\"url(#clip070)\" d=\"M1357.33 1544.01 Q1356.34 1543.44 1355.17 1543.18 Q1354.02 1542.9 1352.62 1542.9 Q1347.65 1542.9 1344.98 1546.14 Q1342.34 1549.36 1342.34 1555.41 L1342.34 1574.19 L1336.45 1574.19 L1336.45 1538.54 L1342.34 1538.54 L1342.34 1544.08 Q1344.19 1540.83 1347.15 1539.27 Q1350.11 1537.68 1354.34 1537.68 Q1354.94 1537.68 1355.68 1537.77 Q1356.41 1537.84 1357.3 1538 L1357.33 1544.01 Z\" fill=\"#000000\" fill-rule=\"nonzero\" fill-opacity=\"1\" /><path clip-path=\"url(#clip070)\" d=\"M1386.14 1568.77 L1396.64 1568.77 L1396.64 1532.52 L1385.21 1534.81 L1385.21 1528.96 L1396.58 1526.67 L1403 1526.67 L1403 1568.77 L1413.51 1568.77 L1413.51 1574.19 L1386.14 1574.19 L1386.14 1568.77 Z\" fill=\"#000000\" fill-rule=\"nonzero\" fill-opacity=\"1\" /><polyline clip-path=\"url(#clip070)\" style=\"stroke:#000000; stroke-linecap:round; stroke-linejoin:round; stroke-width:4; stroke-opacity:1; fill:none\" points=\"221.637,1410.9 221.637,123.472 \"/>\n",
       "<polyline clip-path=\"url(#clip070)\" style=\"stroke:#000000; stroke-linecap:round; stroke-linejoin:round; stroke-width:4; stroke-opacity:1; fill:none\" points=\"221.637,966.839 240.535,966.839 \"/>\n",
       "<polyline clip-path=\"url(#clip070)\" style=\"stroke:#000000; stroke-linecap:round; stroke-linejoin:round; stroke-width:4; stroke-opacity:1; fill:none\" points=\"221.637,159.909 240.535,159.909 \"/>\n",
       "<path clip-path=\"url(#clip070)\" d=\"M114.931 986.632 L122.57 986.632 L122.57 960.266 L114.26 961.933 L114.26 957.673 L122.524 956.007 L127.2 956.007 L127.2 986.632 L134.839 986.632 L134.839 990.567 L114.931 990.567 L114.931 986.632 Z\" fill=\"#000000\" fill-rule=\"nonzero\" fill-opacity=\"1\" /><path clip-path=\"url(#clip070)\" d=\"M154.283 959.085 Q150.672 959.085 148.843 962.65 Q147.038 966.192 147.038 973.321 Q147.038 980.428 148.843 983.993 Q150.672 987.534 154.283 987.534 Q157.917 987.534 159.723 983.993 Q161.552 980.428 161.552 973.321 Q161.552 966.192 159.723 962.65 Q157.917 959.085 154.283 959.085 M154.283 955.382 Q160.093 955.382 163.149 959.988 Q166.227 964.572 166.227 973.321 Q166.227 982.048 163.149 986.655 Q160.093 991.238 154.283 991.238 Q148.473 991.238 145.394 986.655 Q142.339 982.048 142.339 973.321 Q142.339 964.572 145.394 959.988 Q148.473 955.382 154.283 955.382 Z\" fill=\"#000000\" fill-rule=\"nonzero\" fill-opacity=\"1\" /><path clip-path=\"url(#clip070)\" d=\"M175.932 937.578 Q172.998 937.578 171.512 940.474 Q170.045 943.352 170.045 949.145 Q170.045 954.919 171.512 957.815 Q172.998 960.693 175.932 960.693 Q178.885 960.693 180.352 957.815 Q181.838 954.919 181.838 949.145 Q181.838 943.352 180.352 940.474 Q178.885 937.578 175.932 937.578 M175.932 934.569 Q180.653 934.569 183.136 938.311 Q185.637 942.035 185.637 949.145 Q185.637 956.235 183.136 959.978 Q180.653 963.702 175.932 963.702 Q171.212 963.702 168.71 959.978 Q166.227 956.235 166.227 949.145 Q166.227 942.035 168.71 938.311 Q171.212 934.569 175.932 934.569 Z\" fill=\"#000000\" fill-rule=\"nonzero\" fill-opacity=\"1\" /><path clip-path=\"url(#clip070)\" d=\"M117.621 179.701 L125.26 179.701 L125.26 153.336 L116.95 155.002 L116.95 150.743 L125.214 149.076 L129.889 149.076 L129.889 179.701 L137.528 179.701 L137.528 183.636 L117.621 183.636 L117.621 179.701 Z\" fill=\"#000000\" fill-rule=\"nonzero\" fill-opacity=\"1\" /><path clip-path=\"url(#clip070)\" d=\"M156.973 152.155 Q153.362 152.155 151.533 155.72 Q149.727 159.261 149.727 166.391 Q149.727 173.497 151.533 177.062 Q153.362 180.604 156.973 180.604 Q160.607 180.604 162.412 177.062 Q164.241 173.497 164.241 166.391 Q164.241 159.261 162.412 155.72 Q160.607 152.155 156.973 152.155 M156.973 148.451 Q162.783 148.451 165.838 153.058 Q168.917 157.641 168.917 166.391 Q168.917 175.118 165.838 179.724 Q162.783 184.308 156.973 184.308 Q151.162 184.308 148.084 179.724 Q145.028 175.118 145.028 166.391 Q145.028 157.641 148.084 153.058 Q151.162 148.451 156.973 148.451 Z\" fill=\"#000000\" fill-rule=\"nonzero\" fill-opacity=\"1\" /><path clip-path=\"url(#clip070)\" d=\"M169.462 153.029 L175.669 153.029 L175.669 131.606 L168.917 132.961 L168.917 129.5 L175.631 128.146 L179.431 128.146 L179.431 153.029 L185.637 153.029 L185.637 156.226 L169.462 156.226 L169.462 153.029 Z\" fill=\"#000000\" fill-rule=\"nonzero\" fill-opacity=\"1\" /><path clip-path=\"url(#clip070)\" d=\"M21.7677 886.812 L39.6235 886.812 L39.6235 878.727 Q39.6235 874.24 37.3 871.789 Q34.9765 869.338 30.6797 869.338 Q26.4147 869.338 24.0912 871.789 Q21.7677 874.24 21.7677 878.727 L21.7677 886.812 M16.4842 893.241 L16.4842 878.727 Q16.4842 870.739 20.1126 866.664 Q23.7092 862.559 30.6797 862.559 Q37.7138 862.559 41.3104 866.664 Q44.907 870.739 44.907 878.727 L44.907 886.812 L64.0042 886.812 L64.0042 893.241 L16.4842 893.241 Z\" fill=\"#000000\" fill-rule=\"nonzero\" fill-opacity=\"1\" /><path clip-path=\"url(#clip070)\" d=\"M14.479 854.188 L14.479 848.331 L64.0042 848.331 L64.0042 854.188 L14.479 854.188 Z\" fill=\"#000000\" fill-rule=\"nonzero\" fill-opacity=\"1\" /><path clip-path=\"url(#clip070)\" d=\"M46.0847 819.877 Q46.0847 826.974 47.7079 829.712 Q49.3312 832.449 53.2461 832.449 Q56.3653 832.449 58.2114 830.412 Q60.0256 828.343 60.0256 824.81 Q60.0256 819.94 56.5881 817.012 Q53.1188 814.052 47.3897 814.052 L46.0847 814.052 L46.0847 819.877 M43.6657 808.195 L64.0042 808.195 L64.0042 814.052 L58.5933 814.052 Q61.8398 816.057 63.3994 819.049 Q64.9272 822.041 64.9272 826.37 Q64.9272 831.844 61.8716 835.091 Q58.7843 838.305 53.6281 838.305 Q47.6125 838.305 44.5569 834.295 Q41.5014 830.253 41.5014 822.264 L41.5014 814.052 L40.9285 814.052 Q36.8862 814.052 34.6901 816.725 Q32.4621 819.367 32.4621 824.173 Q32.4621 827.229 33.1941 830.125 Q33.9262 833.022 35.3903 835.695 L29.9795 835.695 Q28.7381 832.481 28.1334 829.457 Q27.4968 826.433 27.4968 823.569 Q27.4968 815.834 31.5072 812.015 Q35.5176 808.195 43.6657 808.195 Z\" fill=\"#000000\" fill-rule=\"nonzero\" fill-opacity=\"1\" /><path clip-path=\"url(#clip070)\" d=\"M67.3143 781.3 Q73.68 783.783 75.6216 786.138 Q77.5631 788.494 77.5631 792.44 L77.5631 797.119 L72.6615 797.119 L72.6615 793.682 Q72.6615 791.263 71.5157 789.926 Q70.3699 788.589 66.1048 786.966 L63.4312 785.915 L28.3562 800.334 L28.3562 794.127 L56.238 782.987 L28.3562 771.847 L28.3562 765.641 L67.3143 781.3 Z\" fill=\"#000000\" fill-rule=\"nonzero\" fill-opacity=\"1\" /><path clip-path=\"url(#clip070)\" d=\"M44.7161 727.065 L47.5806 727.065 L47.5806 753.991 Q53.6281 753.61 56.8109 750.363 Q59.9619 747.085 59.9619 741.26 Q59.9619 737.886 59.1344 734.735 Q58.3069 731.552 56.6518 728.433 L62.1899 728.433 Q63.5267 731.584 64.227 734.894 Q64.9272 738.205 64.9272 741.61 Q64.9272 750.14 59.9619 755.137 Q54.9967 760.103 46.5303 760.103 Q37.7774 760.103 32.6531 755.392 Q27.4968 750.649 27.4968 742.629 Q27.4968 735.435 32.1438 731.266 Q36.7589 727.065 44.7161 727.065 M42.9973 732.921 Q38.1912 732.985 35.3266 735.626 Q32.4621 738.236 32.4621 742.565 Q32.4621 747.467 35.2312 750.427 Q38.0002 753.355 43.0292 753.8 L42.9973 732.921 Z\" fill=\"#000000\" fill-rule=\"nonzero\" fill-opacity=\"1\" /><path clip-path=\"url(#clip070)\" d=\"M33.8307 696.796 Q33.2578 697.782 33.0032 698.96 Q32.7167 700.106 32.7167 701.506 Q32.7167 706.471 35.9632 709.145 Q39.1779 711.787 45.2253 711.787 L64.0042 711.787 L64.0042 717.675 L28.3562 717.675 L28.3562 711.787 L33.8944 711.787 Q30.6479 709.941 29.0883 706.981 Q27.4968 704.021 27.4968 699.787 Q27.4968 699.183 27.5923 698.451 Q27.656 697.719 27.8151 696.827 L33.8307 696.796 Z\" fill=\"#000000\" fill-rule=\"nonzero\" fill-opacity=\"1\" /><path clip-path=\"url(#clip070)\" d=\"M58.5933 663.567 L58.5933 641.127 L64.0042 641.127 L64.0042 671.301 L58.5933 671.301 Q54.8057 667.641 48.44 661.339 Q42.0425 655.005 40.1964 653.381 Q36.7271 650.294 34.34 649.085 Q31.921 647.843 29.5975 647.843 Q25.8099 647.843 23.4228 650.517 Q21.0356 653.159 21.0356 657.424 Q21.0356 660.447 22.086 663.821 Q23.1363 667.163 25.2688 670.983 L18.7758 670.983 Q17.2162 667.1 16.4205 663.726 Q15.6248 660.352 15.6248 657.551 Q15.6248 650.167 19.3169 645.774 Q23.009 641.382 29.1837 641.382 Q32.112 641.382 34.7537 642.496 Q37.3637 643.578 40.9285 646.475 Q41.8515 647.27 46.2757 651.535 Q50.668 655.8 58.5933 663.567 Z\" fill=\"#000000\" fill-rule=\"nonzero\" fill-opacity=\"1\" /><path clip-path=\"url(#clip070)\" d=\"M843.683 18.8205 L843.683 41.5461 L853.973 41.5461 Q859.684 41.5461 862.804 38.5889 Q865.923 35.6318 865.923 30.163 Q865.923 24.7348 862.804 21.7777 Q859.684 18.8205 853.973 18.8205 L843.683 18.8205 M835.5 12.096 L853.973 12.096 Q864.14 12.096 869.325 16.714 Q874.551 21.2916 874.551 30.163 Q874.551 39.1155 869.325 43.6931 Q864.14 48.2706 853.973 48.2706 L843.683 48.2706 L843.683 72.576 L835.5 72.576 L835.5 12.096 Z\" fill=\"#000000\" fill-rule=\"nonzero\" fill-opacity=\"1\" /><path clip-path=\"url(#clip070)\" d=\"M910.037 34.1734 Q908.781 33.4443 907.282 33.1202 Q905.824 32.7556 904.042 32.7556 Q897.722 32.7556 894.32 36.8875 Q890.957 40.9789 890.957 48.6757 L890.957 72.576 L883.463 72.576 L883.463 27.2059 L890.957 27.2059 L890.957 34.2544 Q893.307 30.1225 897.074 28.1376 Q900.842 26.1121 906.229 26.1121 Q906.999 26.1121 907.931 26.2337 Q908.862 26.3147 909.997 26.5172 L910.037 34.1734 Z\" fill=\"#000000\" fill-rule=\"nonzero\" fill-opacity=\"1\" /><path clip-path=\"url(#clip070)\" d=\"M933.613 32.4315 Q927.618 32.4315 924.134 37.1306 Q920.65 41.7891 920.65 49.9314 Q920.65 58.0738 924.094 62.7728 Q927.577 67.4314 933.613 67.4314 Q939.568 67.4314 943.052 62.7323 Q946.536 58.0333 946.536 49.9314 Q946.536 41.8701 943.052 37.1711 Q939.568 32.4315 933.613 32.4315 M933.613 26.1121 Q943.335 26.1121 948.885 32.4315 Q954.435 38.7509 954.435 49.9314 Q954.435 61.0714 948.885 67.4314 Q943.335 73.7508 933.613 73.7508 Q923.851 73.7508 918.301 67.4314 Q912.792 61.0714 912.792 49.9314 Q912.792 38.7509 918.301 32.4315 Q923.851 26.1121 933.613 26.1121 Z\" fill=\"#000000\" fill-rule=\"nonzero\" fill-opacity=\"1\" /><path clip-path=\"url(#clip070)\" d=\"M996.645 49.3643 Q996.645 41.2625 993.283 36.8065 Q989.961 32.3505 983.926 32.3505 Q977.93 32.3505 974.568 36.8065 Q971.246 41.2625 971.246 49.3643 Q971.246 57.4256 974.568 61.8816 Q977.93 66.3376 983.926 66.3376 Q989.961 66.3376 993.283 61.8816 Q996.645 57.4256 996.645 49.3643 M1004.1 66.9452 Q1004.1 78.5308 998.954 84.1616 Q993.81 89.8329 983.196 89.8329 Q979.267 89.8329 975.783 89.2252 Q972.299 88.6581 969.018 87.4428 L969.018 80.1917 Q972.299 81.9741 975.5 82.8248 Q978.7 83.6755 982.022 83.6755 Q989.354 83.6755 993 79.8271 Q996.645 76.0193 996.645 68.282 L996.645 64.5957 Q994.336 68.6061 990.731 70.5911 Q987.126 72.576 982.103 72.576 Q973.758 72.576 968.654 66.2161 Q963.55 59.8562 963.55 49.3643 Q963.55 38.832 968.654 32.472 Q973.758 26.1121 982.103 26.1121 Q987.126 26.1121 990.731 28.0971 Q994.336 30.082 996.645 34.0924 L996.645 27.2059 L1004.1 27.2059 L1004.1 66.9452 Z\" fill=\"#000000\" fill-rule=\"nonzero\" fill-opacity=\"1\" /><path clip-path=\"url(#clip070)\" d=\"M1045.74 34.1734 Q1044.49 33.4443 1042.99 33.1202 Q1041.53 32.7556 1039.75 32.7556 Q1033.43 32.7556 1030.02 36.8875 Q1026.66 40.9789 1026.66 48.6757 L1026.66 72.576 L1019.17 72.576 L1019.17 27.2059 L1026.66 27.2059 L1026.66 34.2544 Q1029.01 30.1225 1032.78 28.1376 Q1036.55 26.1121 1041.93 26.1121 Q1042.7 26.1121 1043.64 26.2337 Q1044.57 26.3147 1045.7 26.5172 L1045.74 34.1734 Z\" fill=\"#000000\" fill-rule=\"nonzero\" fill-opacity=\"1\" /><path clip-path=\"url(#clip070)\" d=\"M1090.55 48.0275 L1090.55 51.6733 L1056.27 51.6733 Q1056.76 59.3701 1060.89 63.421 Q1065.07 67.4314 1072.48 67.4314 Q1076.77 67.4314 1080.78 66.3781 Q1084.83 65.3249 1088.8 63.2184 L1088.8 70.267 Q1084.79 71.9684 1080.58 72.8596 Q1076.37 73.7508 1072.03 73.7508 Q1061.18 73.7508 1054.82 67.4314 Q1048.5 61.1119 1048.5 50.3365 Q1048.5 39.1965 1054.49 32.6746 Q1060.53 26.1121 1070.74 26.1121 Q1079.89 26.1121 1085.2 32.0264 Q1090.55 37.9003 1090.55 48.0275 M1083.09 45.84 Q1083.01 39.7232 1079.65 36.0774 Q1076.33 32.4315 1070.82 32.4315 Q1064.58 32.4315 1060.81 35.9558 Q1057.08 39.4801 1056.52 45.8805 L1083.09 45.84 Z\" fill=\"#000000\" fill-rule=\"nonzero\" fill-opacity=\"1\" /><path clip-path=\"url(#clip070)\" d=\"M1131.7 28.5427 L1131.7 35.5912 Q1128.54 33.9709 1125.14 33.1607 Q1121.74 32.3505 1118.09 32.3505 Q1112.54 32.3505 1109.75 34.0519 Q1106.99 35.7533 1106.99 39.156 Q1106.99 41.7486 1108.98 43.2475 Q1110.96 44.7058 1116.96 46.0426 L1119.51 46.6097 Q1127.45 48.3111 1130.77 51.4303 Q1134.13 54.509 1134.13 60.0587 Q1134.13 66.3781 1129.11 70.0644 Q1124.13 73.7508 1115.38 73.7508 Q1111.73 73.7508 1107.76 73.0216 Q1103.83 72.3329 1099.46 70.9151 L1099.46 63.2184 Q1103.59 65.3654 1107.6 66.4591 Q1111.61 67.5124 1115.54 67.5124 Q1120.81 67.5124 1123.64 65.73 Q1126.48 63.9071 1126.48 60.6258 Q1126.48 57.5877 1124.41 55.9673 Q1122.39 54.3469 1115.46 52.8481 L1112.87 52.2405 Q1105.94 50.7821 1102.86 47.7845 Q1099.78 44.7463 1099.78 39.4801 Q1099.78 33.0797 1104.32 29.5959 Q1108.86 26.1121 1117.2 26.1121 Q1121.33 26.1121 1124.98 26.7198 Q1128.62 27.3274 1131.7 28.5427 Z\" fill=\"#000000\" fill-rule=\"nonzero\" fill-opacity=\"1\" /><path clip-path=\"url(#clip070)\" d=\"M1174.93 28.5427 L1174.93 35.5912 Q1171.77 33.9709 1168.36 33.1607 Q1164.96 32.3505 1161.31 32.3505 Q1155.76 32.3505 1152.97 34.0519 Q1150.22 35.7533 1150.22 39.156 Q1150.22 41.7486 1152.2 43.2475 Q1154.19 44.7058 1160.18 46.0426 L1162.73 46.6097 Q1170.67 48.3111 1173.99 51.4303 Q1177.36 54.509 1177.36 60.0587 Q1177.36 66.3781 1172.33 70.0644 Q1167.35 73.7508 1158.6 73.7508 Q1154.95 73.7508 1150.98 73.0216 Q1147.06 72.3329 1142.68 70.9151 L1142.68 63.2184 Q1146.81 65.3654 1150.82 66.4591 Q1154.83 67.5124 1158.76 67.5124 Q1164.03 67.5124 1166.86 65.73 Q1169.7 63.9071 1169.7 60.6258 Q1169.7 57.5877 1167.63 55.9673 Q1165.61 54.3469 1158.68 52.8481 L1156.09 52.2405 Q1149.16 50.7821 1146.08 47.7845 Q1143 44.7463 1143 39.4801 Q1143 33.0797 1147.54 29.5959 Q1152.08 26.1121 1160.42 26.1121 Q1164.56 26.1121 1168.2 26.7198 Q1171.85 27.3274 1174.93 28.5427 Z\" fill=\"#000000\" fill-rule=\"nonzero\" fill-opacity=\"1\" /><path clip-path=\"url(#clip070)\" d=\"M1233.18 32.4315 Q1227.18 32.4315 1223.7 37.1306 Q1220.21 41.7891 1220.21 49.9314 Q1220.21 58.0738 1223.66 62.7728 Q1227.14 67.4314 1233.18 67.4314 Q1239.13 67.4314 1242.62 62.7323 Q1246.1 58.0333 1246.1 49.9314 Q1246.1 41.8701 1242.62 37.1711 Q1239.13 32.4315 1233.18 32.4315 M1233.18 26.1121 Q1242.9 26.1121 1248.45 32.4315 Q1254 38.7509 1254 49.9314 Q1254 61.0714 1248.45 67.4314 Q1242.9 73.7508 1233.18 73.7508 Q1223.42 73.7508 1217.87 67.4314 Q1212.36 61.0714 1212.36 49.9314 Q1212.36 38.7509 1217.87 32.4315 Q1223.42 26.1121 1233.18 26.1121 Z\" fill=\"#000000\" fill-rule=\"nonzero\" fill-opacity=\"1\" /><path clip-path=\"url(#clip070)\" d=\"M1289.32 9.54393 L1289.32 15.7418 L1282.19 15.7418 Q1278.18 15.7418 1276.6 17.3622 Q1275.06 18.9825 1275.06 23.1955 L1275.06 27.2059 L1287.34 27.2059 L1287.34 32.9987 L1275.06 32.9987 L1275.06 72.576 L1267.57 72.576 L1267.57 32.9987 L1260.44 32.9987 L1260.44 27.2059 L1267.57 27.2059 L1267.57 24.0462 Q1267.57 16.471 1271.09 13.0277 Q1274.62 9.54393 1282.27 9.54393 L1289.32 9.54393 Z\" fill=\"#000000\" fill-rule=\"nonzero\" fill-opacity=\"1\" /><path clip-path=\"url(#clip070)\" d=\"M1351.79 34.0924 L1351.79 9.54393 L1359.24 9.54393 L1359.24 72.576 L1351.79 72.576 L1351.79 65.7705 Q1349.44 69.8214 1345.83 71.8063 Q1342.27 73.7508 1337.25 73.7508 Q1329.02 73.7508 1323.84 67.1883 Q1318.69 60.6258 1318.69 49.9314 Q1318.69 39.2371 1323.84 32.6746 Q1329.02 26.1121 1337.25 26.1121 Q1342.27 26.1121 1345.83 28.0971 Q1349.44 30.0415 1351.79 34.0924 M1326.39 49.9314 Q1326.39 58.1548 1329.75 62.8538 Q1333.15 67.5124 1339.07 67.5124 Q1344.98 67.5124 1348.39 62.8538 Q1351.79 58.1548 1351.79 49.9314 Q1351.79 41.7081 1348.39 37.0496 Q1344.98 32.3505 1339.07 32.3505 Q1333.15 32.3505 1329.75 37.0496 Q1326.39 41.7081 1326.39 49.9314 Z\" fill=\"#000000\" fill-rule=\"nonzero\" fill-opacity=\"1\" /><path clip-path=\"url(#clip070)\" d=\"M1413.4 48.0275 L1413.4 51.6733 L1379.13 51.6733 Q1379.62 59.3701 1383.75 63.421 Q1387.92 67.4314 1395.34 67.4314 Q1399.63 67.4314 1403.64 66.3781 Q1407.69 65.3249 1411.66 63.2184 L1411.66 70.267 Q1407.65 71.9684 1403.44 72.8596 Q1399.22 73.7508 1394.89 73.7508 Q1384.03 73.7508 1377.67 67.4314 Q1371.35 61.1119 1371.35 50.3365 Q1371.35 39.1965 1377.35 32.6746 Q1383.39 26.1121 1393.59 26.1121 Q1402.75 26.1121 1408.06 32.0264 Q1413.4 37.9003 1413.4 48.0275 M1405.95 45.84 Q1405.87 39.7232 1402.51 36.0774 Q1399.18 32.4315 1393.67 32.4315 Q1387.44 32.4315 1383.67 35.9558 Q1379.94 39.4801 1379.37 45.8805 L1405.95 45.84 Z\" fill=\"#000000\" fill-rule=\"nonzero\" fill-opacity=\"1\" /><path clip-path=\"url(#clip070)\" d=\"M1420.29 27.2059 L1428.19 27.2059 L1442.37 65.2844 L1456.54 27.2059 L1464.44 27.2059 L1447.43 72.576 L1437.3 72.576 L1420.29 27.2059 Z\" fill=\"#000000\" fill-rule=\"nonzero\" fill-opacity=\"1\" /><path clip-path=\"url(#clip070)\" d=\"M1474.73 27.2059 L1482.19 27.2059 L1482.19 72.576 L1474.73 72.576 L1474.73 27.2059 M1474.73 9.54393 L1482.19 9.54393 L1482.19 18.9825 L1474.73 18.9825 L1474.73 9.54393 Z\" fill=\"#000000\" fill-rule=\"nonzero\" fill-opacity=\"1\" /><path clip-path=\"url(#clip070)\" d=\"M1518.4 49.7694 Q1509.37 49.7694 1505.88 51.8354 Q1502.4 53.9013 1502.4 58.8839 Q1502.4 62.8538 1504.99 65.2034 Q1507.63 67.5124 1512.12 67.5124 Q1518.32 67.5124 1522.05 63.1374 Q1525.82 58.7219 1525.82 51.4303 L1525.82 49.7694 L1518.4 49.7694 M1533.27 46.6907 L1533.27 72.576 L1525.82 72.576 L1525.82 65.6895 Q1523.26 69.8214 1519.46 71.8063 Q1515.65 73.7508 1510.14 73.7508 Q1503.17 73.7508 1499.04 69.8619 Q1494.95 65.9325 1494.95 59.3701 Q1494.95 51.7138 1500.05 47.825 Q1505.2 43.9361 1515.36 43.9361 L1525.82 43.9361 L1525.82 43.2069 Q1525.82 38.0623 1522.41 35.2672 Q1519.05 32.4315 1512.93 32.4315 Q1509.04 32.4315 1505.36 33.3632 Q1501.67 34.295 1498.27 36.1584 L1498.27 29.2718 Q1502.36 27.692 1506.21 26.9223 Q1510.06 26.1121 1513.7 26.1121 Q1523.55 26.1121 1528.41 31.2163 Q1533.27 36.3204 1533.27 46.6907 Z\" fill=\"#000000\" fill-rule=\"nonzero\" fill-opacity=\"1\" /><path clip-path=\"url(#clip070)\" d=\"M1555.99 14.324 L1555.99 27.2059 L1571.35 27.2059 L1571.35 32.9987 L1555.99 32.9987 L1555.99 57.6282 Q1555.99 63.1779 1557.49 64.7578 Q1559.03 66.3376 1563.69 66.3376 L1571.35 66.3376 L1571.35 72.576 L1563.69 72.576 Q1555.06 72.576 1551.78 69.3758 Q1548.5 66.1351 1548.5 57.6282 L1548.5 32.9987 L1543.03 32.9987 L1543.03 27.2059 L1548.5 27.2059 L1548.5 14.324 L1555.99 14.324 Z\" fill=\"#000000\" fill-rule=\"nonzero\" fill-opacity=\"1\" /><path clip-path=\"url(#clip070)\" d=\"M1581.15 27.2059 L1588.6 27.2059 L1588.6 72.576 L1581.15 72.576 L1581.15 27.2059 M1581.15 9.54393 L1588.6 9.54393 L1588.6 18.9825 L1581.15 18.9825 L1581.15 9.54393 Z\" fill=\"#000000\" fill-rule=\"nonzero\" fill-opacity=\"1\" /><path clip-path=\"url(#clip070)\" d=\"M1621.78 32.4315 Q1615.79 32.4315 1612.3 37.1306 Q1608.82 41.7891 1608.82 49.9314 Q1608.82 58.0738 1612.26 62.7728 Q1615.75 67.4314 1621.78 67.4314 Q1627.74 67.4314 1631.22 62.7323 Q1634.7 58.0333 1634.7 49.9314 Q1634.7 41.8701 1631.22 37.1711 Q1627.74 32.4315 1621.78 32.4315 M1621.78 26.1121 Q1631.5 26.1121 1637.05 32.4315 Q1642.6 38.7509 1642.6 49.9314 Q1642.6 61.0714 1637.05 67.4314 Q1631.5 73.7508 1621.78 73.7508 Q1612.02 73.7508 1606.47 67.4314 Q1600.96 61.0714 1600.96 49.9314 Q1600.96 38.7509 1606.47 32.4315 Q1612.02 26.1121 1621.78 26.1121 Z\" fill=\"#000000\" fill-rule=\"nonzero\" fill-opacity=\"1\" /><path clip-path=\"url(#clip070)\" d=\"M1692.67 45.1919 L1692.67 72.576 L1685.22 72.576 L1685.22 45.4349 Q1685.22 38.994 1682.71 35.7938 Q1680.19 32.5936 1675.17 32.5936 Q1669.14 32.5936 1665.65 36.4419 Q1662.17 40.2903 1662.17 46.9338 L1662.17 72.576 L1654.67 72.576 L1654.67 27.2059 L1662.17 27.2059 L1662.17 34.2544 Q1664.84 30.163 1668.45 28.1376 Q1672.09 26.1121 1676.83 26.1121 Q1684.65 26.1121 1688.66 30.9732 Q1692.67 35.7938 1692.67 45.1919 Z\" fill=\"#000000\" fill-rule=\"nonzero\" fill-opacity=\"1\" /><path clip-path=\"url(#clip070)\" d=\"M1736.46 28.5427 L1736.46 35.5912 Q1733.3 33.9709 1729.9 33.1607 Q1726.5 32.3505 1722.85 32.3505 Q1717.3 32.3505 1714.51 34.0519 Q1711.75 35.7533 1711.75 39.156 Q1711.75 41.7486 1713.74 43.2475 Q1715.72 44.7058 1721.72 46.0426 L1724.27 46.6097 Q1732.21 48.3111 1735.53 51.4303 Q1738.89 54.509 1738.89 60.0587 Q1738.89 66.3781 1733.87 70.0644 Q1728.89 73.7508 1720.14 73.7508 Q1716.49 73.7508 1712.52 73.0216 Q1708.59 72.3329 1704.22 70.9151 L1704.22 63.2184 Q1708.35 65.3654 1712.36 66.4591 Q1716.37 67.5124 1720.3 67.5124 Q1725.57 67.5124 1728.4 65.73 Q1731.24 63.9071 1731.24 60.6258 Q1731.24 57.5877 1729.17 55.9673 Q1727.14 54.3469 1720.22 52.8481 L1717.63 52.2405 Q1710.7 50.7821 1707.62 47.7845 Q1704.54 44.7463 1704.54 39.4801 Q1704.54 33.0797 1709.08 29.5959 Q1713.61 26.1121 1721.96 26.1121 Q1726.09 26.1121 1729.74 26.7198 Q1733.38 27.3274 1736.46 28.5427 Z\" fill=\"#000000\" fill-rule=\"nonzero\" fill-opacity=\"1\" /><polyline clip-path=\"url(#clip072)\" style=\"stroke:#009af9; stroke-linecap:round; stroke-linejoin:round; stroke-width:4; stroke-opacity:1; fill:none\" points=\"2292.44,159.909 2292.44,402.819 1287.2,402.819 1287.2,888.64 281.952,888.64 281.952,1374.46 \"/>\n",
       "<circle clip-path=\"url(#clip072)\" cx=\"2292.44\" cy=\"159.909\" r=\"14.4\" fill=\"#009af9\" fill-rule=\"evenodd\" fill-opacity=\"1\" stroke=\"#000000\" stroke-opacity=\"1\" stroke-width=\"3.2\"/>\n",
       "<circle clip-path=\"url(#clip072)\" cx=\"2292.44\" cy=\"402.819\" r=\"14.4\" fill=\"#009af9\" fill-rule=\"evenodd\" fill-opacity=\"1\" stroke=\"#000000\" stroke-opacity=\"1\" stroke-width=\"3.2\"/>\n",
       "<circle clip-path=\"url(#clip072)\" cx=\"1287.2\" cy=\"402.819\" r=\"14.4\" fill=\"#009af9\" fill-rule=\"evenodd\" fill-opacity=\"1\" stroke=\"#000000\" stroke-opacity=\"1\" stroke-width=\"3.2\"/>\n",
       "<circle clip-path=\"url(#clip072)\" cx=\"1287.2\" cy=\"888.64\" r=\"14.4\" fill=\"#009af9\" fill-rule=\"evenodd\" fill-opacity=\"1\" stroke=\"#000000\" stroke-opacity=\"1\" stroke-width=\"3.2\"/>\n",
       "<circle clip-path=\"url(#clip072)\" cx=\"281.952\" cy=\"888.64\" r=\"14.4\" fill=\"#009af9\" fill-rule=\"evenodd\" fill-opacity=\"1\" stroke=\"#000000\" stroke-opacity=\"1\" stroke-width=\"3.2\"/>\n",
       "<circle clip-path=\"url(#clip072)\" cx=\"281.952\" cy=\"1374.46\" r=\"14.4\" fill=\"#009af9\" fill-rule=\"evenodd\" fill-opacity=\"1\" stroke=\"#000000\" stroke-opacity=\"1\" stroke-width=\"3.2\"/>\n",
       "</svg>\n"
      ]
     },
     "metadata": {},
     "output_type": "display_data"
    }
   ],
   "source": [
    "k = 1\n",
    "points = []\n",
    "while true\n",
    "    i::Integer = floor(k / 2) + 1\n",
    "    j::Integer = floor((k-1) / 2) + 1\n",
    "\n",
    "    if i > length(S_X[1]) || j > length(S_X[2])\n",
    "        break\n",
    "    else\n",
    "        push!(points, [S_X[1][i][1], S_X[2][j][1]])\n",
    "        k += 1\n",
    "    end\n",
    "end\n",
    "\n",
    "plot([p[2] for p in points], [p[1] for p in points], marker=:c, title=\"Progress of deviations\", legend=false)\n",
    "plot!(xscale=:log10, yscale=:log10)\n",
    "xlabel!(\"Player 1\")\n",
    "ylabel!(\"Player 2\")\n",
    "# xlims!(0,10.2)\n",
    "# ylims!(0,10.2)"
   ]
  }
 ],
 "metadata": {
  "kernelspec": {
   "display_name": "Julia 1.11.2",
   "language": "julia",
   "name": "julia-1.11"
  },
  "language_info": {
   "file_extension": ".jl",
   "mimetype": "application/julia",
   "name": "julia",
   "version": "1.11.2"
  }
 },
 "nbformat": 4,
 "nbformat_minor": 2
}
